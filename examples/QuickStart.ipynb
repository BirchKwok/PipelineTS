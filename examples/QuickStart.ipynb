{
 "cells": [
  {
   "cell_type": "code",
   "execution_count": 1,
   "id": "7d913e22-8311-4ed4-8bb7-bc2102a152f0",
   "metadata": {
    "execution": {
     "iopub.execute_input": "2023-10-31T03:09:26.021928Z",
     "iopub.status.busy": "2023-10-31T03:09:26.021770Z",
     "iopub.status.idle": "2023-10-31T03:09:26.033609Z",
     "shell.execute_reply": "2023-10-31T03:09:26.032968Z",
     "shell.execute_reply.started": "2023-10-31T03:09:26.021911Z"
    }
   },
   "outputs": [
    {
     "data": {
      "text/plain": [
       "'0.3.8'"
      ]
     },
     "execution_count": 1,
     "metadata": {},
     "output_type": "execute_result"
    }
   ],
   "source": [
    "import sys\n",
    "sys.path.insert(0, '..')\n",
    "\n",
    "import PipelineTS\n",
    "PipelineTS.__version__"
   ]
  },
  {
   "cell_type": "markdown",
   "id": "9f7945c5-a0f4-4b49-b250-f0dcb8a74c31",
   "metadata": {},
   "source": [
    "# Quick Start"
   ]
  },
  {
   "cell_type": "code",
   "execution_count": 2,
   "id": "d50f9d91-b150-4099-83eb-71b45bef80ce",
   "metadata": {
    "execution": {
     "iopub.execute_input": "2023-10-31T03:09:26.035351Z",
     "iopub.status.busy": "2023-10-31T03:09:26.035230Z",
     "iopub.status.idle": "2023-10-31T03:09:29.120959Z",
     "shell.execute_reply": "2023-10-31T03:09:29.120689Z",
     "shell.execute_reply.started": "2023-10-31T03:09:26.035339Z"
    }
   },
   "outputs": [
    {
     "data": {
      "text/plain": [
       "['auto_arima',\n",
       " 'catboost',\n",
       " 'lightgbm',\n",
       " 'xgboost',\n",
       " 'wide_gbrt',\n",
       " 'd_linear',\n",
       " 'n_linear',\n",
       " 'n_beats',\n",
       " 'n_hits',\n",
       " 'tcn',\n",
       " 'tft',\n",
       " 'gau',\n",
       " 'stacking_rnn',\n",
       " 'time2vec',\n",
       " 'multi_output_model',\n",
       " 'multi_step_model',\n",
       " 'transformer',\n",
       " 'random_forest',\n",
       " 'tide',\n",
       " 'seg_rnn',\n",
       " 'prophet']"
      ]
     },
     "execution_count": 2,
     "metadata": {},
     "output_type": "execute_result"
    }
   ],
   "source": [
    "# list all available models\n",
    "from PipelineTS.dataset import LoadWebSales\n",
    "\n",
    "init_data = LoadWebSales()[['date', 'type_a']]\n",
    "\n",
    "valid_data = init_data.iloc[-30:, :]\n",
    "data = init_data.iloc[:-30, :]\n",
    "accelerator = 'auto'  # \n",
    "\n",
    "from PipelineTS.pipeline import ModelPipeline\n",
    "\n",
    "ModelPipeline.list_all_available_models()"
   ]
  },
  {
   "cell_type": "markdown",
   "id": "39c55b8b-6629-474b-a9f0-716d68035ded",
   "metadata": {},
   "source": [
    "# Training"
   ]
  },
  {
   "cell_type": "code",
   "execution_count": null,
   "id": "5876ac5f-f99f-445f-a598-667b4725e3e0",
   "metadata": {
    "execution": {
     "iopub.execute_input": "2023-10-31T03:09:29.121605Z",
     "iopub.status.busy": "2023-10-31T03:09:29.121440Z"
    }
   },
   "outputs": [
    {
     "name": "stderr",
     "output_type": "stream",
     "text": [
      "11:09:29 2023-10-31 - PipelineTS - There are a total of 21 models to be trained.\n",
      "11:09:29 2023-10-31 - PipelineTS - [model  0] fitting and evaluating auto_arima...\n",
      "11:11:21 2023-10-31 - PipelineTS - [model  1] fitting and evaluating catboost...\n",
      "11:12:11 2023-10-31 - PipelineTS - [model  2] fitting and evaluating d_linear...\n",
      "11:13:02 2023-10-31 - PipelineTS - [model  3] fitting and evaluating gau...\n",
      "11:14:05 2023-10-31 - PipelineTS - [model  4] fitting and evaluating lightgbm...\n",
      "11:14:28 2023-10-31 - PipelineTS - [model  5] fitting and evaluating multi_output_model...\n",
      "11:14:47 2023-10-31 - PipelineTS - [model  6] fitting and evaluating multi_step_model...\n",
      "11:14:57 2023-10-31 - PipelineTS - [model  7] fitting and evaluating n_beats...\n",
      "11:16:43 2023-10-31 - PipelineTS - [model  8] fitting and evaluating n_hits...\n",
      "11:17:42 2023-10-31 - PipelineTS - [model  9] fitting and evaluating n_linear...\n",
      "11:18:22 2023-10-31 - PipelineTS - [model 10] fitting and evaluating prophet...\n",
      "11:18:31 2023-10-31 - PipelineTS - [model 11] fitting and evaluating random_forest...\n",
      "11:18:46 2023-10-31 - PipelineTS - [model 12] fitting and evaluating seg_rnn...\n",
      "11:20:07 2023-10-31 - PipelineTS - [model 13] fitting and evaluating stacking_rnn...\n",
      "11:20:39 2023-10-31 - PipelineTS - [model 14] fitting and evaluating tcn...\n",
      "11:22:46 2023-10-31 - PipelineTS - [model 15] fitting and evaluating tft...\n",
      "11:26:20 2023-10-31 - PipelineTS - [model 16] fitting and evaluating tide...\n",
      "11:28:17 2023-10-31 - PipelineTS - [model 17] fitting and evaluating time2vec...\n"
     ]
    }
   ],
   "source": [
    "from sklearn.metrics import mean_absolute_error\n",
    "\n",
    "pipeline = ModelPipeline(\n",
    "    time_col='date',\n",
    "    target_col='type_a',\n",
    "    lags=30,\n",
    "    random_state=42,\n",
    "    metric=mean_absolute_error,\n",
    "    metric_less_is_better=True,\n",
    "    accelerator=accelerator,\n",
    "    n_hits__accelerator='cpu', # Since using mps backend for n_hits model on mac gives an error, cpu backend is used as an alternative\n",
    "    tft__accelerator='cpu',\n",
    "    # Disable printing of information during the model training process.\n",
    "    multi_output_model__verbose=-1,\n",
    "    multi_step_model__verbose=-1\n",
    ")\n",
    "\n",
    "# training all models\n",
    "pipeline.fit(data, valid_data=valid_data)\n",
    "\n",
    "# use best model to predict next 30 steps data point\n",
    "res = pipeline.predict(30)"
   ]
  },
  {
   "cell_type": "markdown",
   "id": "f2a63f34-ab94-4bf4-878e-884e8d2a712f",
   "metadata": {},
   "source": [
    "# Plotting the forecast results"
   ]
  },
  {
   "cell_type": "code",
   "execution_count": null,
   "id": "815d114f-756c-476d-aca1-dac53137576d",
   "metadata": {},
   "outputs": [],
   "source": [
    "# use best model to predict next 30 steps data point\n",
    "# You can use `model_name` to specify the pre-trained model in the pipeline when using Python.\n",
    "prediction = pipeline.predict(n, model_name=None)  \n",
    "\n",
    "plot_data_period(init_data.iloc[-100:, :], prediction, \n",
    "                 time_col=time_col, target_col=target_col)"
   ]
  },
  {
   "cell_type": "code",
   "execution_count": null,
   "id": "149e73bf-856b-4b02-8a2c-ca5019d20a13",
   "metadata": {},
   "outputs": [],
   "source": []
  },
  {
   "cell_type": "code",
   "execution_count": null,
   "id": "b1b8d787-5c0b-461d-b027-48689cbf7e81",
   "metadata": {},
   "outputs": [],
   "source": []
  }
 ],
 "metadata": {
  "kernelspec": {
   "display_name": "Python 3 (ipykernel)",
   "language": "python",
   "name": "python3"
  },
  "language_info": {
   "codemirror_mode": {
    "name": "ipython",
    "version": 3
   },
   "file_extension": ".py",
   "mimetype": "text/x-python",
   "name": "python",
   "nbconvert_exporter": "python",
   "pygments_lexer": "ipython3",
   "version": "3.11.5"
  }
 },
 "nbformat": 4,
 "nbformat_minor": 5
}

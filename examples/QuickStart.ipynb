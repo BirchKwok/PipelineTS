{
 "cells": [
  {
   "cell_type": "code",
   "execution_count": 1,
   "id": "7d913e22-8311-4ed4-8bb7-bc2102a152f0",
   "metadata": {
    "execution": {
     "iopub.execute_input": "2023-11-06T10:03:31.028950Z",
     "iopub.status.busy": "2023-11-06T10:03:31.028811Z",
     "iopub.status.idle": "2023-11-06T10:03:31.041700Z",
     "shell.execute_reply": "2023-11-06T10:03:31.041215Z",
     "shell.execute_reply.started": "2023-11-06T10:03:31.028930Z"
    },
    "ExecuteTime": {
     "end_time": "2023-11-07T11:09:54.729851Z",
     "start_time": "2023-11-07T11:09:54.713799Z"
    }
   },
   "outputs": [
    {
     "data": {
      "text/plain": "'0.3.10'"
     },
     "execution_count": 1,
     "metadata": {},
     "output_type": "execute_result"
    }
   ],
   "source": [
    "import sys\n",
    "sys.path.insert(0, '..')\n",
    "\n",
    "import PipelineTS\n",
    "PipelineTS.__version__"
   ]
  },
  {
   "cell_type": "markdown",
   "id": "9f7945c5-a0f4-4b49-b250-f0dcb8a74c31",
   "metadata": {},
   "source": [
    "# Quick Start"
   ]
  },
  {
   "cell_type": "code",
   "execution_count": 2,
   "id": "d50f9d91-b150-4099-83eb-71b45bef80ce",
   "metadata": {
    "execution": {
     "iopub.execute_input": "2023-11-06T10:03:31.044378Z",
     "iopub.status.busy": "2023-11-06T10:03:31.044141Z",
     "iopub.status.idle": "2023-11-06T10:03:34.227975Z",
     "shell.execute_reply": "2023-11-06T10:03:34.227685Z",
     "shell.execute_reply.started": "2023-11-06T10:03:31.044358Z"
    },
    "ExecuteTime": {
     "end_time": "2023-11-07T11:10:02.004921Z",
     "start_time": "2023-11-07T11:09:56.805078Z"
    }
   },
   "outputs": [
    {
     "data": {
      "text/plain": "['auto_arima',\n 'catboost',\n 'lightgbm',\n 'xgboost',\n 'wide_gbrt',\n 'd_linear',\n 'n_linear',\n 'n_beats',\n 'n_hits',\n 'tcn',\n 'tft',\n 'gau',\n 'stacking_rnn',\n 'time2vec',\n 'multi_output_model',\n 'multi_step_model',\n 'transformer',\n 'random_forest',\n 'tide',\n 'seg_rnn',\n 'prophet']"
     },
     "execution_count": 2,
     "metadata": {},
     "output_type": "execute_result"
    }
   ],
   "source": [
    "import pandas as pd\n",
    "\n",
    "# list all available models\n",
    "from PipelineTS.dataset import LoadMessagesSentDataSets\n",
    "from PipelineTS.plot import plot_data_period\n",
    "\n",
    "init_data = LoadMessagesSentDataSets()[['date', 'ta']]\n",
    "init_data['date'] = pd.to_datetime(init_data['date'])\n",
    "\n",
    "valid_data = init_data.iloc[-30:, :]\n",
    "data = init_data.iloc[:-30, :]\n",
    "accelerator = 'auto'  \n",
    "n = 30\n",
    "\n",
    "from PipelineTS.pipeline import ModelPipeline\n",
    "\n",
    "ModelPipeline.list_all_available_models()"
   ]
  },
  {
   "cell_type": "markdown",
   "id": "39c55b8b-6629-474b-a9f0-716d68035ded",
   "metadata": {},
   "source": [
    "# Training"
   ]
  },
  {
   "cell_type": "code",
   "execution_count": 3,
   "id": "5876ac5f-f99f-445f-a598-667b4725e3e0",
   "metadata": {
    "execution": {
     "iopub.execute_input": "2023-11-06T10:03:34.228681Z",
     "iopub.status.busy": "2023-11-06T10:03:34.228489Z",
     "iopub.status.idle": "2023-11-06T10:14:54.871953Z",
     "shell.execute_reply": "2023-11-06T10:14:54.871675Z",
     "shell.execute_reply.started": "2023-11-06T10:03:34.228670Z"
    }
   },
   "outputs": [
    {
     "name": "stderr",
     "output_type": "stream",
     "text": [
      "MPS  available: True   | MPS  use: True\n",
      "CUDA available: False  | CUDA use: False\n",
      "TPU  available: False  | TPU  use: False\n",
      "CPU  available: True   | CPU  use: False\n",
      "\n",
      "18:03:34 2023-11-06 - PipelineTS - There are a total of 21 models to be trained.\n",
      "18:03:34 2023-11-06 - PipelineTS - [model  0] fitting and evaluating auto_arima...\n",
      "18:03:51 2023-11-06 - PipelineTS - [model  1] fitting and evaluating catboost...\n",
      "18:04:35 2023-11-06 - PipelineTS - [model  2] fitting and evaluating d_linear...\n",
      "18:04:55 2023-11-06 - PipelineTS - [model  3] fitting and evaluating gau...\n",
      "18:05:41 2023-11-06 - PipelineTS - [model  4] fitting and evaluating lightgbm...\n",
      "18:05:59 2023-11-06 - PipelineTS - [model  5] fitting and evaluating multi_output_model...\n",
      "18:06:14 2023-11-06 - PipelineTS - [model  6] fitting and evaluating multi_step_model...\n",
      "18:06:23 2023-11-06 - PipelineTS - [model  7] fitting and evaluating n_beats...\n",
      "18:06:59 2023-11-06 - PipelineTS - [model  8] fitting and evaluating n_hits...\n",
      "18:07:19 2023-11-06 - PipelineTS - [model  9] fitting and evaluating n_linear...\n",
      "18:07:37 2023-11-06 - PipelineTS - [model 10] fitting and evaluating prophet...\n",
      "18:07:47 2023-11-06 - PipelineTS - [model 11] fitting and evaluating random_forest...\n",
      "18:07:58 2023-11-06 - PipelineTS - [model 12] fitting and evaluating seg_rnn...\n",
      "18:08:50 2023-11-06 - PipelineTS - [model 13] fitting and evaluating stacking_rnn...\n",
      "18:09:26 2023-11-06 - PipelineTS - [model 14] fitting and evaluating tcn...\n",
      "18:09:55 2023-11-06 - PipelineTS - [model 15] fitting and evaluating tft...\n",
      "18:10:49 2023-11-06 - PipelineTS - [model 16] fitting and evaluating tide...\n",
      "18:11:26 2023-11-06 - PipelineTS - [model 17] fitting and evaluating time2vec...\n",
      "18:11:57 2023-11-06 - PipelineTS - [model 18] fitting and evaluating transformer...\n",
      "18:14:15 2023-11-06 - PipelineTS - [model 19] fitting and evaluating wide_gbrt...\n",
      "18:14:41 2023-11-06 - PipelineTS - [model 20] fitting and evaluating xgboost...\n"
     ]
    },
    {
     "data": {
      "text/html": [
       "<div>\n",
       "<style scoped>\n",
       "    .dataframe tbody tr th:only-of-type {\n",
       "        vertical-align: middle;\n",
       "    }\n",
       "\n",
       "    .dataframe tbody tr th {\n",
       "        vertical-align: top;\n",
       "    }\n",
       "\n",
       "    .dataframe thead th {\n",
       "        text-align: right;\n",
       "    }\n",
       "</style>\n",
       "<table border=\"1\" class=\"dataframe\">\n",
       "  <thead>\n",
       "    <tr style=\"text-align: right;\">\n",
       "      <th>Leaderboard</th>\n",
       "      <th>model</th>\n",
       "      <th>train_cost(s)</th>\n",
       "      <th>eval_cost(s)</th>\n",
       "      <th>metric</th>\n",
       "    </tr>\n",
       "  </thead>\n",
       "  <tbody>\n",
       "    <tr>\n",
       "      <th>0</th>\n",
       "      <td>n_hits</td>\n",
       "      <td>10.469852</td>\n",
       "      <td>0.046249</td>\n",
       "      <td>-0.119254</td>\n",
       "    </tr>\n",
       "    <tr>\n",
       "      <th>1</th>\n",
       "      <td>prophet</td>\n",
       "      <td>0.128969</td>\n",
       "      <td>0.052960</td>\n",
       "      <td>-0.260222</td>\n",
       "    </tr>\n",
       "    <tr>\n",
       "      <th>2</th>\n",
       "      <td>auto_arima</td>\n",
       "      <td>7.102050</td>\n",
       "      <td>0.012084</td>\n",
       "      <td>-0.289642</td>\n",
       "    </tr>\n",
       "    <tr>\n",
       "      <th>3</th>\n",
       "      <td>tide</td>\n",
       "      <td>27.215991</td>\n",
       "      <td>0.087987</td>\n",
       "      <td>-0.297704</td>\n",
       "    </tr>\n",
       "    <tr>\n",
       "      <th>4</th>\n",
       "      <td>stacking_rnn</td>\n",
       "      <td>26.788282</td>\n",
       "      <td>0.109605</td>\n",
       "      <td>-0.394234</td>\n",
       "    </tr>\n",
       "    <tr>\n",
       "      <th>5</th>\n",
       "      <td>seg_rnn</td>\n",
       "      <td>42.547690</td>\n",
       "      <td>0.099796</td>\n",
       "      <td>-0.701409</td>\n",
       "    </tr>\n",
       "    <tr>\n",
       "      <th>6</th>\n",
       "      <td>d_linear</td>\n",
       "      <td>11.336411</td>\n",
       "      <td>0.085916</td>\n",
       "      <td>-0.740849</td>\n",
       "    </tr>\n",
       "    <tr>\n",
       "      <th>7</th>\n",
       "      <td>catboost</td>\n",
       "      <td>34.444792</td>\n",
       "      <td>0.048374</td>\n",
       "      <td>-0.821624</td>\n",
       "    </tr>\n",
       "    <tr>\n",
       "      <th>8</th>\n",
       "      <td>xgboost</td>\n",
       "      <td>3.668944</td>\n",
       "      <td>0.035668</td>\n",
       "      <td>-0.944068</td>\n",
       "    </tr>\n",
       "    <tr>\n",
       "      <th>9</th>\n",
       "      <td>n_linear</td>\n",
       "      <td>8.383273</td>\n",
       "      <td>0.067518</td>\n",
       "      <td>-0.987932</td>\n",
       "    </tr>\n",
       "    <tr>\n",
       "      <th>10</th>\n",
       "      <td>n_beats</td>\n",
       "      <td>26.359495</td>\n",
       "      <td>0.072452</td>\n",
       "      <td>-1.026907</td>\n",
       "    </tr>\n",
       "    <tr>\n",
       "      <th>11</th>\n",
       "      <td>transformer</td>\n",
       "      <td>127.799017</td>\n",
       "      <td>0.183329</td>\n",
       "      <td>-1.330427</td>\n",
       "    </tr>\n",
       "    <tr>\n",
       "      <th>12</th>\n",
       "      <td>gau</td>\n",
       "      <td>36.375886</td>\n",
       "      <td>0.105817</td>\n",
       "      <td>-1.385755</td>\n",
       "    </tr>\n",
       "    <tr>\n",
       "      <th>13</th>\n",
       "      <td>random_forest</td>\n",
       "      <td>2.159609</td>\n",
       "      <td>0.025893</td>\n",
       "      <td>-1.466650</td>\n",
       "    </tr>\n",
       "    <tr>\n",
       "      <th>14</th>\n",
       "      <td>time2vec</td>\n",
       "      <td>21.949484</td>\n",
       "      <td>0.086720</td>\n",
       "      <td>-1.509397</td>\n",
       "    </tr>\n",
       "    <tr>\n",
       "      <th>15</th>\n",
       "      <td>tcn</td>\n",
       "      <td>18.875852</td>\n",
       "      <td>0.058168</td>\n",
       "      <td>-1.745477</td>\n",
       "    </tr>\n",
       "    <tr>\n",
       "      <th>16</th>\n",
       "      <td>multi_output_model</td>\n",
       "      <td>5.648615</td>\n",
       "      <td>0.035875</td>\n",
       "      <td>-2.290994</td>\n",
       "    </tr>\n",
       "    <tr>\n",
       "      <th>17</th>\n",
       "      <td>lightgbm</td>\n",
       "      <td>8.128468</td>\n",
       "      <td>0.047892</td>\n",
       "      <td>-2.299763</td>\n",
       "    </tr>\n",
       "    <tr>\n",
       "      <th>18</th>\n",
       "      <td>wide_gbrt</td>\n",
       "      <td>17.091803</td>\n",
       "      <td>0.036906</td>\n",
       "      <td>-2.521029</td>\n",
       "    </tr>\n",
       "    <tr>\n",
       "      <th>19</th>\n",
       "      <td>tft</td>\n",
       "      <td>44.980256</td>\n",
       "      <td>0.064034</td>\n",
       "      <td>-3.689137</td>\n",
       "    </tr>\n",
       "    <tr>\n",
       "      <th>20</th>\n",
       "      <td>multi_step_model</td>\n",
       "      <td>0.251515</td>\n",
       "      <td>0.040368</td>\n",
       "      <td>-6.949248</td>\n",
       "    </tr>\n",
       "  </tbody>\n",
       "</table>\n",
       "</div>"
      ],
      "text/plain": [
       "Leaderboard               model  train_cost(s)  eval_cost(s)    metric\n",
       "0                        n_hits      10.469852      0.046249 -0.119254\n",
       "1                       prophet       0.128969      0.052960 -0.260222\n",
       "2                    auto_arima       7.102050      0.012084 -0.289642\n",
       "3                          tide      27.215991      0.087987 -0.297704\n",
       "4                  stacking_rnn      26.788282      0.109605 -0.394234\n",
       "5                       seg_rnn      42.547690      0.099796 -0.701409\n",
       "6                      d_linear      11.336411      0.085916 -0.740849\n",
       "7                      catboost      34.444792      0.048374 -0.821624\n",
       "8                       xgboost       3.668944      0.035668 -0.944068\n",
       "9                      n_linear       8.383273      0.067518 -0.987932\n",
       "10                      n_beats      26.359495      0.072452 -1.026907\n",
       "11                  transformer     127.799017      0.183329 -1.330427\n",
       "12                          gau      36.375886      0.105817 -1.385755\n",
       "13                random_forest       2.159609      0.025893 -1.466650\n",
       "14                     time2vec      21.949484      0.086720 -1.509397\n",
       "15                          tcn      18.875852      0.058168 -1.745477\n",
       "16           multi_output_model       5.648615      0.035875 -2.290994\n",
       "17                     lightgbm       8.128468      0.047892 -2.299763\n",
       "18                    wide_gbrt      17.091803      0.036906 -2.521029\n",
       "19                          tft      44.980256      0.064034 -3.689137\n",
       "20             multi_step_model       0.251515      0.040368 -6.949248"
      ]
     },
     "execution_count": 3,
     "metadata": {},
     "output_type": "execute_result"
    }
   ],
   "source": [
    "from sklearn.metrics import r2_score\n",
    "\n",
    "pipeline = ModelPipeline(\n",
    "    time_col='date',\n",
    "    target_col='ta',\n",
    "    lags=30,\n",
    "    random_state=42,\n",
    "    include_models='all',\n",
    "    metric=r2_score,\n",
    "    metric_less_is_better=False,\n",
    "    accelerator=accelerator\n",
    ")\n",
    "\n",
    "# training all models\n",
    "pipeline.fit(data, valid_data=valid_data)"
   ]
  },
  {
   "cell_type": "code",
   "execution_count": 4,
   "id": "ee88d521-79e0-48b6-9254-02b7942b7625",
   "metadata": {
    "execution": {
     "iopub.execute_input": "2023-11-06T10:14:54.872611Z",
     "iopub.status.busy": "2023-11-06T10:14:54.872534Z",
     "iopub.status.idle": "2023-11-06T10:14:54.887532Z",
     "shell.execute_reply": "2023-11-06T10:14:54.887264Z",
     "shell.execute_reply.started": "2023-11-06T10:14:54.872602Z"
    }
   },
   "outputs": [],
   "source": [
    "# use best model to predict next 30 steps data point\n",
    "res = pipeline.predict(30)"
   ]
  },
  {
   "cell_type": "markdown",
   "id": "f2a63f34-ab94-4bf4-878e-884e8d2a712f",
   "metadata": {},
   "source": [
    "# Plotting the forecast results"
   ]
  },
  {
   "cell_type": "code",
   "execution_count": 5,
   "id": "815d114f-756c-476d-aca1-dac53137576d",
   "metadata": {
    "execution": {
     "iopub.execute_input": "2023-11-06T10:14:54.888036Z",
     "iopub.status.busy": "2023-11-06T10:14:54.887965Z",
     "iopub.status.idle": "2023-11-06T10:14:55.040732Z",
     "shell.execute_reply": "2023-11-06T10:14:55.040054Z",
     "shell.execute_reply.started": "2023-11-06T10:14:54.888027Z"
    }
   },
   "outputs": [
    {
     "data": {
      "image/png": "[encoded data removed]",
      "text/plain": [
       "<Figure size 640x480 with 1 Axes>"
      ]
     },
     "metadata": {},
     "output_type": "display_data"
    }
   ],
   "source": [
    "# use best model to predict next 30 steps data point\n",
    "# You can use `model_name` to specify the pre-trained model in the pipeline when using Python.\n",
    "prediction = pipeline.predict(n, model_name=None)  \n",
    "\n",
    "plot_data_period(init_data.iloc[-100:, :], prediction, \n",
    "                 time_col='date', target_col='ta')"
   ]
  },
  {
   "cell_type": "markdown",
   "id": "c03d8198-3e9c-4d12-9f4c-e62a9cb7bfd8",
   "metadata": {},
   "source": [
    "# Make predictions from the last timestamp of the specific sequence  "
   ]
  },
  {
   "cell_type": "code",
   "execution_count": 7,
   "id": "b1b8d787-5c0b-461d-b027-48689cbf7e81",
   "metadata": {
    "execution": {
     "iopub.execute_input": "2023-11-06T10:34:49.770853Z",
     "iopub.status.busy": "2023-11-06T10:34:49.769668Z",
     "iopub.status.idle": "2023-11-06T10:34:49.930864Z",
     "shell.execute_reply": "2023-11-06T10:34:49.930594Z",
     "shell.execute_reply.started": "2023-11-06T10:34:49.770799Z"
    }
   },
   "outputs": [
    {
     "data": {
      "image/png": "[encoded data removed]",
      "text/plain": [
       "<Figure size 640x480 with 1 Axes>"
      ]
     },
     "metadata": {},
     "output_type": "display_data"
    }
   ],
   "source": [
    "# use best model to predict next 30 steps data point\n",
    "# You can use `model_name` to specify the pre-trained model in the pipeline when using Python.\n",
    "prediction = pipeline.predict(n, data=valid_data.iloc[-20:, :])  \n",
    "\n",
    "plot_data_period(init_data.iloc[-100:, :], prediction, \n",
    "                 time_col='date', target_col='ta')"
   ]
  },
  {
   "cell_type": "markdown",
   "id": "996912bb-3902-4850-88ff-af05e832d1e3",
   "metadata": {},
   "source": [
    "# ModelPipeline saving and loading"
   ]
  },
  {
   "cell_type": "code",
   "execution_count": null,
   "id": "a8910f72-4f8a-4ac8-b45b-d8f5ae1bc358",
   "metadata": {
    "execution": {
     "iopub.status.busy": "2023-11-06T10:14:55.261388Z",
     "iopub.status.idle": "2023-11-06T10:14:55.261475Z",
     "shell.execute_reply": "2023-11-06T10:14:55.261429Z",
     "shell.execute_reply.started": "2023-11-06T10:14:55.261425Z"
    }
   },
   "outputs": [],
   "source": [
    "from PipelineTS.io import load_model, save_model\n",
    "\n",
    "# save\n",
    "save_model(path='pipeline.zip', model=pipeline)\n",
    "# load\n",
    "pipeline = load_model('pipeline.zip')"
   ]
  },
  {
   "cell_type": "code",
   "execution_count": null,
   "id": "50a1e243-4235-43b4-ac12-8cee0cf67f8d",
   "metadata": {
    "execution": {
     "iopub.status.busy": "2023-11-06T10:14:55.261812Z",
     "iopub.status.idle": "2023-11-06T10:14:55.261917Z",
     "shell.execute_reply": "2023-11-06T10:14:55.261866Z",
     "shell.execute_reply.started": "2023-11-06T10:14:55.261860Z"
    }
   },
   "outputs": [],
   "source": [
    "prediction = pipeline.predict(n, data=valid_data.iloc[-20:, :])  \n",
    "\n",
    "plot_data_period(init_data.iloc[-100:, :], prediction, \n",
    "                 time_col='date', target_col='ta')"
   ]
  }
 ],
 "metadata": {
  "kernelspec": {
   "display_name": "Python 3 (ipykernel)",
   "language": "python",
   "name": "python3"
  },
  "language_info": {
   "codemirror_mode": {
    "name": "ipython",
    "version": 3
   },
   "file_extension": ".py",
   "mimetype": "text/x-python",
   "name": "python",
   "nbconvert_exporter": "python",
   "pygments_lexer": "ipython3",
   "version": "3.11.5"
  }
 },
 "nbformat": 4,
 "nbformat_minor": 5
}

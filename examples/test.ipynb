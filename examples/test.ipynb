{
 "cells": [
  {
   "cell_type": "code",
   "execution_count": 1,
   "outputs": [],
   "source": [
    "from PipelineTS.statistic_model import ProphetModel\n",
    "from PipelineTS.sample_data import LoadWebSales"
   ],
   "metadata": {
    "collapsed": false,
    "ExecuteTime": {
     "end_time": "2023-10-05T16:13:37.989993Z",
     "start_time": "2023-10-05T16:13:35.184187Z"
    }
   },
   "id": "initial_id"
  },
  {
   "cell_type": "code",
   "execution_count": 2,
   "outputs": [
    {
     "data": {
      "text/plain": "            date  type_a\n2079  2021-09-04    7808\n2080  2021-09-05    7941\n2081  2021-09-06    8465\n2082  2021-09-07    8121\n2083  2021-09-08    8039\n2084  2021-09-09    8234\n2085  2021-09-10    7825\n2086  2021-09-11    8461\n2087  2021-09-12    8159\n2088  2021-09-13    8881",
      "text/html": "<div>\n<style scoped>\n    .dataframe tbody tr th:only-of-type {\n        vertical-align: middle;\n    }\n\n    .dataframe tbody tr th {\n        vertical-align: top;\n    }\n\n    .dataframe thead th {\n        text-align: right;\n    }\n</style>\n<table border=\"1\" class=\"dataframe\">\n  <thead>\n    <tr style=\"text-align: right;\">\n      <th></th>\n      <th>date</th>\n      <th>type_a</th>\n    </tr>\n  </thead>\n  <tbody>\n    <tr>\n      <th>2079</th>\n      <td>2021-09-04</td>\n      <td>7808</td>\n    </tr>\n    <tr>\n      <th>2080</th>\n      <td>2021-09-05</td>\n      <td>7941</td>\n    </tr>\n    <tr>\n      <th>2081</th>\n      <td>2021-09-06</td>\n      <td>8465</td>\n    </tr>\n    <tr>\n      <th>2082</th>\n      <td>2021-09-07</td>\n      <td>8121</td>\n    </tr>\n    <tr>\n      <th>2083</th>\n      <td>2021-09-08</td>\n      <td>8039</td>\n    </tr>\n    <tr>\n      <th>2084</th>\n      <td>2021-09-09</td>\n      <td>8234</td>\n    </tr>\n    <tr>\n      <th>2085</th>\n      <td>2021-09-10</td>\n      <td>7825</td>\n    </tr>\n    <tr>\n      <th>2086</th>\n      <td>2021-09-11</td>\n      <td>8461</td>\n    </tr>\n    <tr>\n      <th>2087</th>\n      <td>2021-09-12</td>\n      <td>8159</td>\n    </tr>\n    <tr>\n      <th>2088</th>\n      <td>2021-09-13</td>\n      <td>8881</td>\n    </tr>\n  </tbody>\n</table>\n</div>"
     },
     "execution_count": 2,
     "metadata": {},
     "output_type": "execute_result"
    }
   ],
   "source": [
    "data = LoadWebSales()[['date', 'type_a']]\n",
    "data.tail(10)"
   ],
   "metadata": {
    "collapsed": false,
    "ExecuteTime": {
     "end_time": "2023-10-05T16:13:37.999199Z",
     "start_time": "2023-10-05T16:13:37.991077Z"
    }
   },
   "id": "1aedc65ccc87bf0e"
  },
  {
   "cell_type": "markdown",
   "source": [
    "# NN model"
   ],
   "metadata": {
    "collapsed": false
   },
   "id": "2bc20bc75f998382"
  },
  {
   "cell_type": "code",
   "execution_count": 3,
   "outputs": [
    {
     "data": {
      "text/plain": "<PipelineTS.ml_model.wide_gbrt.WideGBRTModel at 0x296795050>"
     },
     "execution_count": 3,
     "metadata": {},
     "output_type": "execute_result"
    }
   ],
   "source": [
    "from PipelineTS.ml_model import WideGBRTModel\n",
    "\n",
    "wide_gbrt = WideGBRTModel(time_col='date', target_col='type_a', lags=30, random_state=42)\n",
    "wide_gbrt.fit(data)"
   ],
   "metadata": {
    "collapsed": false,
    "ExecuteTime": {
     "end_time": "2023-10-05T16:01:02.698727Z",
     "start_time": "2023-10-05T15:59:46.746608Z"
    }
   },
   "id": "e5fb07ebbd18610a"
  },
  {
   "cell_type": "code",
   "execution_count": 5,
   "outputs": [
    {
     "data": {
      "text/plain": "         date       type_a  type_a_lower  type_a_upper\n0  2021-09-14  7715.773013   3521.054773  17209.699775\n1  2021-09-15  8937.866218   4743.147977  18431.792979\n2  2021-09-16  8874.820021   4680.101781  18368.746783\n3  2021-09-17  8983.020710   4788.302469  18476.947471\n4  2021-09-18  8793.439247   4598.721006  18287.366009\n5  2021-09-19  8531.940047   4337.221807  18025.866809\n6  2021-09-20  9128.171712   4933.453471  18622.098473\n7  2021-09-21  8350.138784   4155.420543  17844.065546\n8  2021-09-22  9208.386941   5013.668701  18702.313703\n9  2021-09-23  8997.182925   4802.464684  18491.109687\n10 2021-09-24  8992.479935   4797.761695  18486.406697\n11 2021-09-25  8575.423817   4380.705576  18069.350578\n12 2021-09-26  8477.925219   4283.206979  17971.851981\n13 2021-09-27  8498.903610   4304.185369  17992.830372\n14 2021-09-28  8703.529050   4508.810809  18197.455811\n15 2021-09-29  9069.246872   4874.528632  18563.173634\n16 2021-09-30  9387.817397   5193.099156  18881.744158\n17 2021-10-01  9036.278178   4841.559937  18530.204940\n18 2021-10-02  8475.091967   4280.373726  17969.018729\n19 2021-10-03  8569.873238   4375.154998  18063.800000\n20 2021-10-04  8290.080058   4095.361818  17784.006820\n21 2021-10-05  7977.020305   3782.302065  17470.947067\n22 2021-10-06  9070.235223   4875.516982  18564.161985\n23 2021-10-07  8881.363536   4686.645295  18375.290298\n24 2021-10-08  8562.178518   4367.460278  18056.105280\n25 2021-10-09  8217.944265   4023.226024  17711.871027\n26 2021-10-10  8157.164852   3962.446611  17651.091614\n27 2021-10-11  8206.010003   4011.291763  17699.936765\n28 2021-10-12  8291.025547   4096.307306  17784.952308\n29 2021-10-13  8806.571314   4611.853073  18300.498076\n30 2021-10-14  7715.773013   3521.054773  17209.699775\n31 2021-10-15  8937.866218   4743.147977  18431.792979\n32 2021-10-16  8874.820021   4680.101781  18368.746783\n33 2021-10-17  8983.020710   4788.302469  18476.947471\n34 2021-10-18  8793.439247   4598.721006  18287.366009\n35 2021-10-19  8531.940047   4337.221807  18025.866809\n36 2021-10-20  9128.171712   4933.453471  18622.098473\n37 2021-10-21  8350.138784   4155.420543  17844.065546\n38 2021-10-22  9208.386941   5013.668701  18702.313703\n39 2021-10-23  8997.182925   4802.464684  18491.109687\n40 2021-10-24  8992.479935   4797.761695  18486.406697\n41 2021-10-25  8575.423817   4380.705576  18069.350578\n42 2021-10-26  8477.925219   4283.206979  17971.851981\n43 2021-10-27  8498.903610   4304.185369  17992.830372\n44 2021-10-28  8703.529050   4508.810809  18197.455811\n45 2021-10-29  9069.246872   4874.528632  18563.173634\n46 2021-10-30  9387.817397   5193.099156  18881.744158\n47 2021-10-31  9036.278178   4841.559937  18530.204940\n48 2021-11-01  8475.091967   4280.373726  17969.018729\n49 2021-11-02  8569.873238   4375.154998  18063.800000\n50 2021-11-03  8290.080058   4095.361818  17784.006820\n51 2021-11-04  7977.020305   3782.302065  17470.947067\n52 2021-11-05  9070.235223   4875.516982  18564.161985\n53 2021-11-06  8881.363536   4686.645295  18375.290298\n54 2021-11-07  8562.178518   4367.460278  18056.105280\n55 2021-11-08  8217.944265   4023.226024  17711.871027\n56 2021-11-09  8157.164852   3962.446611  17651.091614\n57 2021-11-10  8206.010003   4011.291763  17699.936765\n58 2021-11-11  8291.025547   4096.307306  17784.952308\n59 2021-11-12  8806.571314   4611.853073  18300.498076",
      "text/html": "<div>\n<style scoped>\n    .dataframe tbody tr th:only-of-type {\n        vertical-align: middle;\n    }\n\n    .dataframe tbody tr th {\n        vertical-align: top;\n    }\n\n    .dataframe thead th {\n        text-align: right;\n    }\n</style>\n<table border=\"1\" class=\"dataframe\">\n  <thead>\n    <tr style=\"text-align: right;\">\n      <th></th>\n      <th>date</th>\n      <th>type_a</th>\n      <th>type_a_lower</th>\n      <th>type_a_upper</th>\n    </tr>\n  </thead>\n  <tbody>\n    <tr>\n      <th>0</th>\n      <td>2021-09-14</td>\n      <td>7715.773013</td>\n      <td>3521.054773</td>\n      <td>17209.699775</td>\n    </tr>\n    <tr>\n      <th>1</th>\n      <td>2021-09-15</td>\n      <td>8937.866218</td>\n      <td>4743.147977</td>\n      <td>18431.792979</td>\n    </tr>\n    <tr>\n      <th>2</th>\n      <td>2021-09-16</td>\n      <td>8874.820021</td>\n      <td>4680.101781</td>\n      <td>18368.746783</td>\n    </tr>\n    <tr>\n      <th>3</th>\n      <td>2021-09-17</td>\n      <td>8983.020710</td>\n      <td>4788.302469</td>\n      <td>18476.947471</td>\n    </tr>\n    <tr>\n      <th>4</th>\n      <td>2021-09-18</td>\n      <td>8793.439247</td>\n      <td>4598.721006</td>\n      <td>18287.366009</td>\n    </tr>\n    <tr>\n      <th>5</th>\n      <td>2021-09-19</td>\n      <td>8531.940047</td>\n      <td>4337.221807</td>\n      <td>18025.866809</td>\n    </tr>\n    <tr>\n      <th>6</th>\n      <td>2021-09-20</td>\n      <td>9128.171712</td>\n      <td>4933.453471</td>\n      <td>18622.098473</td>\n    </tr>\n    <tr>\n      <th>7</th>\n      <td>2021-09-21</td>\n      <td>8350.138784</td>\n      <td>4155.420543</td>\n      <td>17844.065546</td>\n    </tr>\n    <tr>\n      <th>8</th>\n      <td>2021-09-22</td>\n      <td>9208.386941</td>\n      <td>5013.668701</td>\n      <td>18702.313703</td>\n    </tr>\n    <tr>\n      <th>9</th>\n      <td>2021-09-23</td>\n      <td>8997.182925</td>\n      <td>4802.464684</td>\n      <td>18491.109687</td>\n    </tr>\n    <tr>\n      <th>10</th>\n      <td>2021-09-24</td>\n      <td>8992.479935</td>\n      <td>4797.761695</td>\n      <td>18486.406697</td>\n    </tr>\n    <tr>\n      <th>11</th>\n      <td>2021-09-25</td>\n      <td>8575.423817</td>\n      <td>4380.705576</td>\n      <td>18069.350578</td>\n    </tr>\n    <tr>\n      <th>12</th>\n      <td>2021-09-26</td>\n      <td>8477.925219</td>\n      <td>4283.206979</td>\n      <td>17971.851981</td>\n    </tr>\n    <tr>\n      <th>13</th>\n      <td>2021-09-27</td>\n      <td>8498.903610</td>\n      <td>4304.185369</td>\n      <td>17992.830372</td>\n    </tr>\n    <tr>\n      <th>14</th>\n      <td>2021-09-28</td>\n      <td>8703.529050</td>\n      <td>4508.810809</td>\n      <td>18197.455811</td>\n    </tr>\n    <tr>\n      <th>15</th>\n      <td>2021-09-29</td>\n      <td>9069.246872</td>\n      <td>4874.528632</td>\n      <td>18563.173634</td>\n    </tr>\n    <tr>\n      <th>16</th>\n      <td>2021-09-30</td>\n      <td>9387.817397</td>\n      <td>5193.099156</td>\n      <td>18881.744158</td>\n    </tr>\n    <tr>\n      <th>17</th>\n      <td>2021-10-01</td>\n      <td>9036.278178</td>\n      <td>4841.559937</td>\n      <td>18530.204940</td>\n    </tr>\n    <tr>\n      <th>18</th>\n      <td>2021-10-02</td>\n      <td>8475.091967</td>\n      <td>4280.373726</td>\n      <td>17969.018729</td>\n    </tr>\n    <tr>\n      <th>19</th>\n      <td>2021-10-03</td>\n      <td>8569.873238</td>\n      <td>4375.154998</td>\n      <td>18063.800000</td>\n    </tr>\n    <tr>\n      <th>20</th>\n      <td>2021-10-04</td>\n      <td>8290.080058</td>\n      <td>4095.361818</td>\n      <td>17784.006820</td>\n    </tr>\n    <tr>\n      <th>21</th>\n      <td>2021-10-05</td>\n      <td>7977.020305</td>\n      <td>3782.302065</td>\n      <td>17470.947067</td>\n    </tr>\n    <tr>\n      <th>22</th>\n      <td>2021-10-06</td>\n      <td>9070.235223</td>\n      <td>4875.516982</td>\n      <td>18564.161985</td>\n    </tr>\n    <tr>\n      <th>23</th>\n      <td>2021-10-07</td>\n      <td>8881.363536</td>\n      <td>4686.645295</td>\n      <td>18375.290298</td>\n    </tr>\n    <tr>\n      <th>24</th>\n      <td>2021-10-08</td>\n      <td>8562.178518</td>\n      <td>4367.460278</td>\n      <td>18056.105280</td>\n    </tr>\n    <tr>\n      <th>25</th>\n      <td>2021-10-09</td>\n      <td>8217.944265</td>\n      <td>4023.226024</td>\n      <td>17711.871027</td>\n    </tr>\n    <tr>\n      <th>26</th>\n      <td>2021-10-10</td>\n      <td>8157.164852</td>\n      <td>3962.446611</td>\n      <td>17651.091614</td>\n    </tr>\n    <tr>\n      <th>27</th>\n      <td>2021-10-11</td>\n      <td>8206.010003</td>\n      <td>4011.291763</td>\n      <td>17699.936765</td>\n    </tr>\n    <tr>\n      <th>28</th>\n      <td>2021-10-12</td>\n      <td>8291.025547</td>\n      <td>4096.307306</td>\n      <td>17784.952308</td>\n    </tr>\n    <tr>\n      <th>29</th>\n      <td>2021-10-13</td>\n      <td>8806.571314</td>\n      <td>4611.853073</td>\n      <td>18300.498076</td>\n    </tr>\n    <tr>\n      <th>30</th>\n      <td>2021-10-14</td>\n      <td>7715.773013</td>\n      <td>3521.054773</td>\n      <td>17209.699775</td>\n    </tr>\n    <tr>\n      <th>31</th>\n      <td>2021-10-15</td>\n      <td>8937.866218</td>\n      <td>4743.147977</td>\n      <td>18431.792979</td>\n    </tr>\n    <tr>\n      <th>32</th>\n      <td>2021-10-16</td>\n      <td>8874.820021</td>\n      <td>4680.101781</td>\n      <td>18368.746783</td>\n    </tr>\n    <tr>\n      <th>33</th>\n      <td>2021-10-17</td>\n      <td>8983.020710</td>\n      <td>4788.302469</td>\n      <td>18476.947471</td>\n    </tr>\n    <tr>\n      <th>34</th>\n      <td>2021-10-18</td>\n      <td>8793.439247</td>\n      <td>4598.721006</td>\n      <td>18287.366009</td>\n    </tr>\n    <tr>\n      <th>35</th>\n      <td>2021-10-19</td>\n      <td>8531.940047</td>\n      <td>4337.221807</td>\n      <td>18025.866809</td>\n    </tr>\n    <tr>\n      <th>36</th>\n      <td>2021-10-20</td>\n      <td>9128.171712</td>\n      <td>4933.453471</td>\n      <td>18622.098473</td>\n    </tr>\n    <tr>\n      <th>37</th>\n      <td>2021-10-21</td>\n      <td>8350.138784</td>\n      <td>4155.420543</td>\n      <td>17844.065546</td>\n    </tr>\n    <tr>\n      <th>38</th>\n      <td>2021-10-22</td>\n      <td>9208.386941</td>\n      <td>5013.668701</td>\n      <td>18702.313703</td>\n    </tr>\n    <tr>\n      <th>39</th>\n      <td>2021-10-23</td>\n      <td>8997.182925</td>\n      <td>4802.464684</td>\n      <td>18491.109687</td>\n    </tr>\n    <tr>\n      <th>40</th>\n      <td>2021-10-24</td>\n      <td>8992.479935</td>\n      <td>4797.761695</td>\n      <td>18486.406697</td>\n    </tr>\n    <tr>\n      <th>41</th>\n      <td>2021-10-25</td>\n      <td>8575.423817</td>\n      <td>4380.705576</td>\n      <td>18069.350578</td>\n    </tr>\n    <tr>\n      <th>42</th>\n      <td>2021-10-26</td>\n      <td>8477.925219</td>\n      <td>4283.206979</td>\n      <td>17971.851981</td>\n    </tr>\n    <tr>\n      <th>43</th>\n      <td>2021-10-27</td>\n      <td>8498.903610</td>\n      <td>4304.185369</td>\n      <td>17992.830372</td>\n    </tr>\n    <tr>\n      <th>44</th>\n      <td>2021-10-28</td>\n      <td>8703.529050</td>\n      <td>4508.810809</td>\n      <td>18197.455811</td>\n    </tr>\n    <tr>\n      <th>45</th>\n      <td>2021-10-29</td>\n      <td>9069.246872</td>\n      <td>4874.528632</td>\n      <td>18563.173634</td>\n    </tr>\n    <tr>\n      <th>46</th>\n      <td>2021-10-30</td>\n      <td>9387.817397</td>\n      <td>5193.099156</td>\n      <td>18881.744158</td>\n    </tr>\n    <tr>\n      <th>47</th>\n      <td>2021-10-31</td>\n      <td>9036.278178</td>\n      <td>4841.559937</td>\n      <td>18530.204940</td>\n    </tr>\n    <tr>\n      <th>48</th>\n      <td>2021-11-01</td>\n      <td>8475.091967</td>\n      <td>4280.373726</td>\n      <td>17969.018729</td>\n    </tr>\n    <tr>\n      <th>49</th>\n      <td>2021-11-02</td>\n      <td>8569.873238</td>\n      <td>4375.154998</td>\n      <td>18063.800000</td>\n    </tr>\n    <tr>\n      <th>50</th>\n      <td>2021-11-03</td>\n      <td>8290.080058</td>\n      <td>4095.361818</td>\n      <td>17784.006820</td>\n    </tr>\n    <tr>\n      <th>51</th>\n      <td>2021-11-04</td>\n      <td>7977.020305</td>\n      <td>3782.302065</td>\n      <td>17470.947067</td>\n    </tr>\n    <tr>\n      <th>52</th>\n      <td>2021-11-05</td>\n      <td>9070.235223</td>\n      <td>4875.516982</td>\n      <td>18564.161985</td>\n    </tr>\n    <tr>\n      <th>53</th>\n      <td>2021-11-06</td>\n      <td>8881.363536</td>\n      <td>4686.645295</td>\n      <td>18375.290298</td>\n    </tr>\n    <tr>\n      <th>54</th>\n      <td>2021-11-07</td>\n      <td>8562.178518</td>\n      <td>4367.460278</td>\n      <td>18056.105280</td>\n    </tr>\n    <tr>\n      <th>55</th>\n      <td>2021-11-08</td>\n      <td>8217.944265</td>\n      <td>4023.226024</td>\n      <td>17711.871027</td>\n    </tr>\n    <tr>\n      <th>56</th>\n      <td>2021-11-09</td>\n      <td>8157.164852</td>\n      <td>3962.446611</td>\n      <td>17651.091614</td>\n    </tr>\n    <tr>\n      <th>57</th>\n      <td>2021-11-10</td>\n      <td>8206.010003</td>\n      <td>4011.291763</td>\n      <td>17699.936765</td>\n    </tr>\n    <tr>\n      <th>58</th>\n      <td>2021-11-11</td>\n      <td>8291.025547</td>\n      <td>4096.307306</td>\n      <td>17784.952308</td>\n    </tr>\n    <tr>\n      <th>59</th>\n      <td>2021-11-12</td>\n      <td>8806.571314</td>\n      <td>4611.853073</td>\n      <td>18300.498076</td>\n    </tr>\n  </tbody>\n</table>\n</div>"
     },
     "execution_count": 5,
     "metadata": {},
     "output_type": "execute_result"
    }
   ],
   "source": [
    "wide_gbrt.predict(60)"
   ],
   "metadata": {
    "collapsed": false,
    "ExecuteTime": {
     "end_time": "2023-10-05T16:02:05.546505Z",
     "start_time": "2023-10-05T16:02:05.518248Z"
    }
   },
   "id": "ae018097e9e92f93"
  },
  {
   "cell_type": "code",
   "execution_count": 3,
   "outputs": [],
   "source": [
    "from PipelineTS.nn_model import *\n",
    "\n",
    "d_linear = DLinearModel(time_col='date', target_col='type_a', lags=30, random_state=42)\n",
    "n_linear = NLinearModel(time_col='date', target_col='type_a', lags=30, random_state=42)\n",
    "n_beats = NBeatsModel(time_col='date', target_col='type_a', lags=30, random_state=42)\n",
    "tcn = TCNModel(time_col='date', target_col='type_a', lags=30, random_state=42, \n",
    "               pl_trainer_kwargs={'enable_progress_bar': False, 'accelerator':'cpu'})\n",
    "n_hits = NHitsModel(time_col='date', target_col='type_a', lags=30, random_state=42, \n",
    "                    pl_trainer_kwargs={'enable_progress_bar': False, 'accelerator': 'cpu'})"
   ],
   "metadata": {
    "collapsed": false,
    "ExecuteTime": {
     "end_time": "2023-10-05T16:13:41.027393Z",
     "start_time": "2023-10-05T16:13:41.014300Z"
    }
   },
   "id": "4b1ef182fd9fe6f5"
  },
  {
   "cell_type": "code",
   "execution_count": 4,
   "outputs": [
    {
     "name": "stderr",
     "output_type": "stream",
     "text": [
      "GPU available: True (mps), used: False\n",
      "TPU available: False, using: 0 TPU cores\n",
      "IPU available: False, using: 0 IPUs\n",
      "HPU available: False, using: 0 HPUs\n",
      "`Trainer.fit` stopped: `max_epochs=100` reached.\n",
      "GPU available: True (mps), used: False\n",
      "TPU available: False, using: 0 TPU cores\n",
      "IPU available: False, using: 0 IPUs\n",
      "HPU available: False, using: 0 HPUs\n",
      "`Trainer.fit` stopped: `max_epochs=100` reached.\n",
      "GPU available: True (mps), used: False\n",
      "TPU available: False, using: 0 TPU cores\n",
      "IPU available: False, using: 0 IPUs\n",
      "HPU available: False, using: 0 HPUs\n",
      "GPU available: True (mps), used: False\n",
      "TPU available: False, using: 0 TPU cores\n",
      "IPU available: False, using: 0 IPUs\n",
      "HPU available: False, using: 0 HPUs\n",
      "`Trainer.fit` stopped: `max_epochs=100` reached.\n",
      "GPU available: True (mps), used: False\n",
      "TPU available: False, using: 0 TPU cores\n",
      "IPU available: False, using: 0 IPUs\n",
      "HPU available: False, using: 0 HPUs\n",
      "GPU available: True (mps), used: False\n",
      "TPU available: False, using: 0 TPU cores\n",
      "IPU available: False, using: 0 IPUs\n",
      "HPU available: False, using: 0 HPUs\n",
      "`Trainer.fit` stopped: `max_epochs=100` reached.\n",
      "GPU available: True (mps), used: False\n",
      "TPU available: False, using: 0 TPU cores\n",
      "IPU available: False, using: 0 IPUs\n",
      "HPU available: False, using: 0 HPUs\n",
      "GPU available: True (mps), used: False\n",
      "TPU available: False, using: 0 TPU cores\n",
      "IPU available: False, using: 0 IPUs\n",
      "HPU available: False, using: 0 HPUs\n",
      "`Trainer.fit` stopped: `max_epochs=100` reached.\n",
      "GPU available: True (mps), used: False\n",
      "TPU available: False, using: 0 TPU cores\n",
      "IPU available: False, using: 0 IPUs\n",
      "HPU available: False, using: 0 HPUs\n",
      "GPU available: True (mps), used: False\n",
      "TPU available: False, using: 0 TPU cores\n",
      "IPU available: False, using: 0 IPUs\n",
      "HPU available: False, using: 0 HPUs\n",
      "`Trainer.fit` stopped: `max_epochs=100` reached.\n",
      "GPU available: True (mps), used: False\n",
      "TPU available: False, using: 0 TPU cores\n",
      "IPU available: False, using: 0 IPUs\n",
      "HPU available: False, using: 0 HPUs\n"
     ]
    },
    {
     "data": {
      "text/plain": "<PipelineTS.nn_model.n_hits.NHitsModel at 0x17f8768d0>"
     },
     "execution_count": 4,
     "metadata": {},
     "output_type": "execute_result"
    }
   ],
   "source": [
    "n_hits.fit(data, fit_kwargs={'verbose': False})"
   ],
   "metadata": {
    "collapsed": false,
    "ExecuteTime": {
     "end_time": "2023-10-05T16:15:57.203064Z",
     "start_time": "2023-10-05T16:13:41.604842Z"
    }
   },
   "id": "d9c2f1997c7cb0da"
  },
  {
   "cell_type": "code",
   "execution_count": 5,
   "outputs": [
    {
     "name": "stderr",
     "output_type": "stream",
     "text": [
      "GPU available: True (mps), used: False\n",
      "TPU available: False, using: 0 TPU cores\n",
      "IPU available: False, using: 0 IPUs\n",
      "HPU available: False, using: 0 HPUs\n"
     ]
    },
    {
     "data": {
      "text/plain": "         date        type_a  type_a_lower  type_a_upper\n0  2021-09-14   8248.244141 -13656.265625  31184.222656\n1  2021-09-15   8328.066406 -13576.443359  31264.044922\n2  2021-09-16   8652.088867 -13252.420898  31588.066406\n3  2021-09-17   8944.354492 -12960.155273  31880.332031\n4  2021-09-18   9038.819336 -12865.690430  31974.796875\n5  2021-09-19   9370.895508 -12533.614258  32306.875000\n6  2021-09-20  10240.284180 -11664.225586  33176.261719\n7  2021-09-21  10055.525391 -11848.984375  32991.503906\n8  2021-09-22   9872.504883 -12032.004883  32808.484375\n9  2021-09-23   9359.469727 -12545.040039  32295.449219\n10 2021-09-24   9014.024414 -12890.485352  31950.003906\n11 2021-09-25   8991.400391 -12913.109375  31927.378906\n12 2021-09-26   8905.973633 -12998.536133  31841.953125\n13 2021-09-27   8929.170898 -12975.338867  31865.148438\n14 2021-09-28   8951.819336 -12952.690430  31887.796875\n15 2021-09-29   8828.226562 -13076.283203  31764.205078\n16 2021-09-30   8351.688477 -13552.821289  31287.667969\n17 2021-10-01   8160.452148 -13744.057617  31096.429688\n18 2021-10-02   8641.650391 -13262.859375  31577.628906\n19 2021-10-03   9186.433594 -12718.076172  32122.412109\n20 2021-10-04   9375.439453 -12529.070312  32311.417969\n21 2021-10-05   9580.326172 -12324.183594  32516.304688\n22 2021-10-06   9274.673828 -12629.835938  32210.652344\n23 2021-10-07   8899.918945 -13004.590820  31835.898438\n24 2021-10-08   8958.439453 -12946.070312  31894.417969\n25 2021-10-09   9065.803711 -12838.706055  32001.781250\n26 2021-10-10   9027.631836 -12876.877930  31963.609375\n27 2021-10-11   9636.945312 -12267.564453  32572.923828\n28 2021-10-12   9465.187500 -12439.322266  32401.166016\n29 2021-10-13   9473.486328 -12431.023438  32409.464844",
      "text/html": "<div>\n<style scoped>\n    .dataframe tbody tr th:only-of-type {\n        vertical-align: middle;\n    }\n\n    .dataframe tbody tr th {\n        vertical-align: top;\n    }\n\n    .dataframe thead th {\n        text-align: right;\n    }\n</style>\n<table border=\"1\" class=\"dataframe\">\n  <thead>\n    <tr style=\"text-align: right;\">\n      <th></th>\n      <th>date</th>\n      <th>type_a</th>\n      <th>type_a_lower</th>\n      <th>type_a_upper</th>\n    </tr>\n  </thead>\n  <tbody>\n    <tr>\n      <th>0</th>\n      <td>2021-09-14</td>\n      <td>8248.244141</td>\n      <td>-13656.265625</td>\n      <td>31184.222656</td>\n    </tr>\n    <tr>\n      <th>1</th>\n      <td>2021-09-15</td>\n      <td>8328.066406</td>\n      <td>-13576.443359</td>\n      <td>31264.044922</td>\n    </tr>\n    <tr>\n      <th>2</th>\n      <td>2021-09-16</td>\n      <td>8652.088867</td>\n      <td>-13252.420898</td>\n      <td>31588.066406</td>\n    </tr>\n    <tr>\n      <th>3</th>\n      <td>2021-09-17</td>\n      <td>8944.354492</td>\n      <td>-12960.155273</td>\n      <td>31880.332031</td>\n    </tr>\n    <tr>\n      <th>4</th>\n      <td>2021-09-18</td>\n      <td>9038.819336</td>\n      <td>-12865.690430</td>\n      <td>31974.796875</td>\n    </tr>\n    <tr>\n      <th>5</th>\n      <td>2021-09-19</td>\n      <td>9370.895508</td>\n      <td>-12533.614258</td>\n      <td>32306.875000</td>\n    </tr>\n    <tr>\n      <th>6</th>\n      <td>2021-09-20</td>\n      <td>10240.284180</td>\n      <td>-11664.225586</td>\n      <td>33176.261719</td>\n    </tr>\n    <tr>\n      <th>7</th>\n      <td>2021-09-21</td>\n      <td>10055.525391</td>\n      <td>-11848.984375</td>\n      <td>32991.503906</td>\n    </tr>\n    <tr>\n      <th>8</th>\n      <td>2021-09-22</td>\n      <td>9872.504883</td>\n      <td>-12032.004883</td>\n      <td>32808.484375</td>\n    </tr>\n    <tr>\n      <th>9</th>\n      <td>2021-09-23</td>\n      <td>9359.469727</td>\n      <td>-12545.040039</td>\n      <td>32295.449219</td>\n    </tr>\n    <tr>\n      <th>10</th>\n      <td>2021-09-24</td>\n      <td>9014.024414</td>\n      <td>-12890.485352</td>\n      <td>31950.003906</td>\n    </tr>\n    <tr>\n      <th>11</th>\n      <td>2021-09-25</td>\n      <td>8991.400391</td>\n      <td>-12913.109375</td>\n      <td>31927.378906</td>\n    </tr>\n    <tr>\n      <th>12</th>\n      <td>2021-09-26</td>\n      <td>8905.973633</td>\n      <td>-12998.536133</td>\n      <td>31841.953125</td>\n    </tr>\n    <tr>\n      <th>13</th>\n      <td>2021-09-27</td>\n      <td>8929.170898</td>\n      <td>-12975.338867</td>\n      <td>31865.148438</td>\n    </tr>\n    <tr>\n      <th>14</th>\n      <td>2021-09-28</td>\n      <td>8951.819336</td>\n      <td>-12952.690430</td>\n      <td>31887.796875</td>\n    </tr>\n    <tr>\n      <th>15</th>\n      <td>2021-09-29</td>\n      <td>8828.226562</td>\n      <td>-13076.283203</td>\n      <td>31764.205078</td>\n    </tr>\n    <tr>\n      <th>16</th>\n      <td>2021-09-30</td>\n      <td>8351.688477</td>\n      <td>-13552.821289</td>\n      <td>31287.667969</td>\n    </tr>\n    <tr>\n      <th>17</th>\n      <td>2021-10-01</td>\n      <td>8160.452148</td>\n      <td>-13744.057617</td>\n      <td>31096.429688</td>\n    </tr>\n    <tr>\n      <th>18</th>\n      <td>2021-10-02</td>\n      <td>8641.650391</td>\n      <td>-13262.859375</td>\n      <td>31577.628906</td>\n    </tr>\n    <tr>\n      <th>19</th>\n      <td>2021-10-03</td>\n      <td>9186.433594</td>\n      <td>-12718.076172</td>\n      <td>32122.412109</td>\n    </tr>\n    <tr>\n      <th>20</th>\n      <td>2021-10-04</td>\n      <td>9375.439453</td>\n      <td>-12529.070312</td>\n      <td>32311.417969</td>\n    </tr>\n    <tr>\n      <th>21</th>\n      <td>2021-10-05</td>\n      <td>9580.326172</td>\n      <td>-12324.183594</td>\n      <td>32516.304688</td>\n    </tr>\n    <tr>\n      <th>22</th>\n      <td>2021-10-06</td>\n      <td>9274.673828</td>\n      <td>-12629.835938</td>\n      <td>32210.652344</td>\n    </tr>\n    <tr>\n      <th>23</th>\n      <td>2021-10-07</td>\n      <td>8899.918945</td>\n      <td>-13004.590820</td>\n      <td>31835.898438</td>\n    </tr>\n    <tr>\n      <th>24</th>\n      <td>2021-10-08</td>\n      <td>8958.439453</td>\n      <td>-12946.070312</td>\n      <td>31894.417969</td>\n    </tr>\n    <tr>\n      <th>25</th>\n      <td>2021-10-09</td>\n      <td>9065.803711</td>\n      <td>-12838.706055</td>\n      <td>32001.781250</td>\n    </tr>\n    <tr>\n      <th>26</th>\n      <td>2021-10-10</td>\n      <td>9027.631836</td>\n      <td>-12876.877930</td>\n      <td>31963.609375</td>\n    </tr>\n    <tr>\n      <th>27</th>\n      <td>2021-10-11</td>\n      <td>9636.945312</td>\n      <td>-12267.564453</td>\n      <td>32572.923828</td>\n    </tr>\n    <tr>\n      <th>28</th>\n      <td>2021-10-12</td>\n      <td>9465.187500</td>\n      <td>-12439.322266</td>\n      <td>32401.166016</td>\n    </tr>\n    <tr>\n      <th>29</th>\n      <td>2021-10-13</td>\n      <td>9473.486328</td>\n      <td>-12431.023438</td>\n      <td>32409.464844</td>\n    </tr>\n  </tbody>\n</table>\n</div>"
     },
     "execution_count": 5,
     "metadata": {},
     "output_type": "execute_result"
    }
   ],
   "source": [
    "n_hits.predict(30)"
   ],
   "metadata": {
    "collapsed": false,
    "ExecuteTime": {
     "end_time": "2023-10-05T16:15:57.230824Z",
     "start_time": "2023-10-05T16:15:57.200688Z"
    }
   },
   "id": "c646e2fd06f0ae4d"
  },
  {
   "cell_type": "code",
   "execution_count": 7,
   "outputs": [
    {
     "data": {
      "text/plain": "(-6117.204319444371, -5466.192735714573)"
     },
     "execution_count": 7,
     "metadata": {},
     "output_type": "execute_result"
    }
   ],
   "source": [
    "tcn.all_configs['lower_limit'], tcn.all_configs['higher_limit']"
   ],
   "metadata": {
    "collapsed": false,
    "ExecuteTime": {
     "end_time": "2023-10-02T13:08:58.821142Z",
     "start_time": "2023-10-02T13:08:58.815943Z"
    }
   },
   "id": "5994a0587fcf9584"
  },
  {
   "cell_type": "markdown",
   "source": [
    "# ProphetModel"
   ],
   "metadata": {
    "collapsed": false
   },
   "id": "2e647b3753eeba2e"
  },
  {
   "cell_type": "code",
   "execution_count": 3,
   "outputs": [],
   "source": [
    "model = ProphetModel(time_col='date', target_col='type_a')"
   ],
   "metadata": {
    "collapsed": false,
    "ExecuteTime": {
     "end_time": "2023-09-30T14:44:48.126925Z",
     "start_time": "2023-09-30T14:44:48.117330Z"
    }
   },
   "id": "cd949e95cc118c30"
  },
  {
   "cell_type": "code",
   "execution_count": 4,
   "outputs": [
    {
     "name": "stderr",
     "output_type": "stream",
     "text": [
      "22:44:48 - cmdstanpy - INFO - Chain [1] start processing\n",
      "22:44:48 - cmdstanpy - INFO - Chain [1] done processing\n"
     ]
    },
    {
     "data": {
      "text/plain": "<PipelineTS.statistic_model._prophet.ProphetModel at 0x295d57d50>"
     },
     "execution_count": 4,
     "metadata": {},
     "output_type": "execute_result"
    }
   ],
   "source": [
    "model.fit(data)"
   ],
   "metadata": {
    "collapsed": false,
    "ExecuteTime": {
     "end_time": "2023-09-30T14:44:48.347904Z",
     "start_time": "2023-09-30T14:44:48.128380Z"
    }
   },
   "id": "e9b416f7b5e4b580"
  },
  {
   "cell_type": "code",
   "execution_count": 5,
   "outputs": [
    {
     "data": {
      "text/plain": "         date        type_a  type_a_lower  type_a_upper\n0  2021-09-14  11748.320513   2326.438498  20858.577174\n1  2021-09-15  11318.658825   1502.409494  21019.346082\n2  2021-09-16  10977.236580   1133.041566  19794.670426\n3  2021-09-17  10531.514040    721.803766  20549.196848\n4  2021-09-18   8503.310868  -1327.156982  18097.072105\n5  2021-09-19   8313.610453  -1106.235020  18426.777078\n6  2021-09-20  12790.800039   3871.990204  22416.590406\n7  2021-09-21  12333.560474   3293.517927  21538.231199\n8  2021-09-22  11982.885558   2113.062055  21706.744494\n9  2021-09-23  11714.182359   2713.294831  21852.649291\n10 2021-09-24  11331.248271   1867.092943  21336.735461\n11 2021-09-25   9352.520930    131.059738  19814.864934\n12 2021-09-26   9196.012029   -175.583411  18746.870591\n13 2021-09-27  13687.665688   3547.376989  23817.870335\n14 2021-09-28  13224.351166   3628.077261  22613.471113\n15 2021-09-29  12845.966294   3753.841728  22814.046108\n16 2021-09-30  12527.599971   3014.856394  22424.359586\n17 2021-10-01  12073.547103   2719.127545  21691.135874\n18 2021-10-02  10003.570465    -78.162421  20003.557337\n19 2021-10-03   9737.819690    816.526124  19468.231871\n20 2021-10-04  14105.148027   4328.035329  23745.526630\n21 2021-10-05  13506.037478   4707.506024  23348.064635\n22 2021-10-06  12984.610377   3112.925642  22789.504736\n23 2021-10-07  12520.678181   3164.934694  22155.887006\n24 2021-10-08  11923.624027   3016.908029  21778.267927\n25 2021-10-09   9718.517327    186.634759  19259.070028\n26 2021-10-10   9330.874918    -60.557522  18580.916689\n27 2021-10-11  13594.814116   4462.543345  23120.478196\n28 2021-10-12  12915.813223   4044.003615  22311.016648\n29 2021-10-13  12342.562644   2850.842980  21854.093012",
      "text/html": "<div>\n<style scoped>\n    .dataframe tbody tr th:only-of-type {\n        vertical-align: middle;\n    }\n\n    .dataframe tbody tr th {\n        vertical-align: top;\n    }\n\n    .dataframe thead th {\n        text-align: right;\n    }\n</style>\n<table border=\"1\" class=\"dataframe\">\n  <thead>\n    <tr style=\"text-align: right;\">\n      <th></th>\n      <th>date</th>\n      <th>type_a</th>\n      <th>type_a_lower</th>\n      <th>type_a_upper</th>\n    </tr>\n  </thead>\n  <tbody>\n    <tr>\n      <th>0</th>\n      <td>2021-09-14</td>\n      <td>11748.320513</td>\n      <td>2326.438498</td>\n      <td>20858.577174</td>\n    </tr>\n    <tr>\n      <th>1</th>\n      <td>2021-09-15</td>\n      <td>11318.658825</td>\n      <td>1502.409494</td>\n      <td>21019.346082</td>\n    </tr>\n    <tr>\n      <th>2</th>\n      <td>2021-09-16</td>\n      <td>10977.236580</td>\n      <td>1133.041566</td>\n      <td>19794.670426</td>\n    </tr>\n    <tr>\n      <th>3</th>\n      <td>2021-09-17</td>\n      <td>10531.514040</td>\n      <td>721.803766</td>\n      <td>20549.196848</td>\n    </tr>\n    <tr>\n      <th>4</th>\n      <td>2021-09-18</td>\n      <td>8503.310868</td>\n      <td>-1327.156982</td>\n      <td>18097.072105</td>\n    </tr>\n    <tr>\n      <th>5</th>\n      <td>2021-09-19</td>\n      <td>8313.610453</td>\n      <td>-1106.235020</td>\n      <td>18426.777078</td>\n    </tr>\n    <tr>\n      <th>6</th>\n      <td>2021-09-20</td>\n      <td>12790.800039</td>\n      <td>3871.990204</td>\n      <td>22416.590406</td>\n    </tr>\n    <tr>\n      <th>7</th>\n      <td>2021-09-21</td>\n      <td>12333.560474</td>\n      <td>3293.517927</td>\n      <td>21538.231199</td>\n    </tr>\n    <tr>\n      <th>8</th>\n      <td>2021-09-22</td>\n      <td>11982.885558</td>\n      <td>2113.062055</td>\n      <td>21706.744494</td>\n    </tr>\n    <tr>\n      <th>9</th>\n      <td>2021-09-23</td>\n      <td>11714.182359</td>\n      <td>2713.294831</td>\n      <td>21852.649291</td>\n    </tr>\n    <tr>\n      <th>10</th>\n      <td>2021-09-24</td>\n      <td>11331.248271</td>\n      <td>1867.092943</td>\n      <td>21336.735461</td>\n    </tr>\n    <tr>\n      <th>11</th>\n      <td>2021-09-25</td>\n      <td>9352.520930</td>\n      <td>131.059738</td>\n      <td>19814.864934</td>\n    </tr>\n    <tr>\n      <th>12</th>\n      <td>2021-09-26</td>\n      <td>9196.012029</td>\n      <td>-175.583411</td>\n      <td>18746.870591</td>\n    </tr>\n    <tr>\n      <th>13</th>\n      <td>2021-09-27</td>\n      <td>13687.665688</td>\n      <td>3547.376989</td>\n      <td>23817.870335</td>\n    </tr>\n    <tr>\n      <th>14</th>\n      <td>2021-09-28</td>\n      <td>13224.351166</td>\n      <td>3628.077261</td>\n      <td>22613.471113</td>\n    </tr>\n    <tr>\n      <th>15</th>\n      <td>2021-09-29</td>\n      <td>12845.966294</td>\n      <td>3753.841728</td>\n      <td>22814.046108</td>\n    </tr>\n    <tr>\n      <th>16</th>\n      <td>2021-09-30</td>\n      <td>12527.599971</td>\n      <td>3014.856394</td>\n      <td>22424.359586</td>\n    </tr>\n    <tr>\n      <th>17</th>\n      <td>2021-10-01</td>\n      <td>12073.547103</td>\n      <td>2719.127545</td>\n      <td>21691.135874</td>\n    </tr>\n    <tr>\n      <th>18</th>\n      <td>2021-10-02</td>\n      <td>10003.570465</td>\n      <td>-78.162421</td>\n      <td>20003.557337</td>\n    </tr>\n    <tr>\n      <th>19</th>\n      <td>2021-10-03</td>\n      <td>9737.819690</td>\n      <td>816.526124</td>\n      <td>19468.231871</td>\n    </tr>\n    <tr>\n      <th>20</th>\n      <td>2021-10-04</td>\n      <td>14105.148027</td>\n      <td>4328.035329</td>\n      <td>23745.526630</td>\n    </tr>\n    <tr>\n      <th>21</th>\n      <td>2021-10-05</td>\n      <td>13506.037478</td>\n      <td>4707.506024</td>\n      <td>23348.064635</td>\n    </tr>\n    <tr>\n      <th>22</th>\n      <td>2021-10-06</td>\n      <td>12984.610377</td>\n      <td>3112.925642</td>\n      <td>22789.504736</td>\n    </tr>\n    <tr>\n      <th>23</th>\n      <td>2021-10-07</td>\n      <td>12520.678181</td>\n      <td>3164.934694</td>\n      <td>22155.887006</td>\n    </tr>\n    <tr>\n      <th>24</th>\n      <td>2021-10-08</td>\n      <td>11923.624027</td>\n      <td>3016.908029</td>\n      <td>21778.267927</td>\n    </tr>\n    <tr>\n      <th>25</th>\n      <td>2021-10-09</td>\n      <td>9718.517327</td>\n      <td>186.634759</td>\n      <td>19259.070028</td>\n    </tr>\n    <tr>\n      <th>26</th>\n      <td>2021-10-10</td>\n      <td>9330.874918</td>\n      <td>-60.557522</td>\n      <td>18580.916689</td>\n    </tr>\n    <tr>\n      <th>27</th>\n      <td>2021-10-11</td>\n      <td>13594.814116</td>\n      <td>4462.543345</td>\n      <td>23120.478196</td>\n    </tr>\n    <tr>\n      <th>28</th>\n      <td>2021-10-12</td>\n      <td>12915.813223</td>\n      <td>4044.003615</td>\n      <td>22311.016648</td>\n    </tr>\n    <tr>\n      <th>29</th>\n      <td>2021-10-13</td>\n      <td>12342.562644</td>\n      <td>2850.842980</td>\n      <td>21854.093012</td>\n    </tr>\n  </tbody>\n</table>\n</div>"
     },
     "execution_count": 5,
     "metadata": {},
     "output_type": "execute_result"
    }
   ],
   "source": [
    "model.predict(30)"
   ],
   "metadata": {
    "collapsed": false,
    "ExecuteTime": {
     "end_time": "2023-09-30T14:44:48.374095Z",
     "start_time": "2023-09-30T14:44:48.346883Z"
    }
   },
   "id": "baab8f1b43e0d15c"
  },
  {
   "cell_type": "markdown",
   "source": [
    "# AutoARIMA"
   ],
   "metadata": {
    "collapsed": false
   },
   "id": "26f325e00fab98c1"
  },
  {
   "cell_type": "code",
   "execution_count": 6,
   "outputs": [],
   "source": [
    "from PipelineTS.statistic_model import AutoARIMAModel"
   ],
   "metadata": {
    "collapsed": false,
    "ExecuteTime": {
     "end_time": "2023-09-30T14:02:48.791779Z",
     "start_time": "2023-09-30T14:02:48.727626Z"
    }
   },
   "id": "fce4f3a0e971243b"
  },
  {
   "cell_type": "code",
   "execution_count": 7,
   "outputs": [
    {
     "data": {
      "text/plain": "<PipelineTS.statistic_model._autoarima.AutoARIMAModel at 0x284de6050>"
     },
     "execution_count": 7,
     "metadata": {},
     "output_type": "execute_result"
    }
   ],
   "source": [
    "auto_arima = AutoARIMAModel(time_col='date', target_col='type_a', start_p=8, max_p=12, start_q=1, n_jobs=-1)\n",
    "auto_arima.fit(data=data)"
   ],
   "metadata": {
    "collapsed": false,
    "ExecuteTime": {
     "end_time": "2023-09-30T14:05:25.895163Z",
     "start_time": "2023-09-30T14:02:48.732177Z"
    }
   },
   "id": "8d9b8cccf22f6c1e"
  },
  {
   "cell_type": "code",
   "execution_count": 8,
   "outputs": [
    {
     "data": {
      "text/plain": "component        type_a  type_a_lower  type_a_upper\ndate                                               \n2021-09-14  8806.301058   6532.126124  11080.475993\n2021-09-15  8701.789445   6427.614510  10975.964379\n2021-09-16  8749.163324   6474.988390  11023.338259\n2021-09-17  8608.192991   6334.018057  10882.367926\n2021-09-18  8755.588290   6481.413355  11029.763224\n2021-09-19  8610.124631   6335.949696  10884.299565\n2021-09-20  8780.559433   6506.384499  11054.734368\n2021-09-21  8713.772491   6439.597557  10987.947426\n2021-09-22  8610.412510   6336.237576  10884.587445\n2021-09-23  8587.575194   6313.400260  10861.750129\n2021-09-24  8520.444397   6246.269463  10794.619332\n2021-09-25  8536.418927   6262.243992  10810.593861\n2021-09-26  8467.915481   6193.740546  10742.090415\n2021-09-27  8506.924317   6232.749382  10781.099251\n2021-09-28  8480.894801   6206.719867  10755.069736\n2021-09-29  8437.208434   6163.033500  10711.383369\n2021-09-30  8432.366720   6158.191785  10706.541654\n2021-10-01  8421.400640   6147.225705  10695.575574\n2021-10-02  8432.902529   6158.727594  10707.077463\n2021-10-03  8419.051505   6144.876570  10693.226439\n2021-10-04  8441.782959   6167.608024  10715.957894\n2021-10-05  8445.478691   6171.303757  10719.653626\n2021-10-06  8438.907771   6164.732836  10713.082705\n2021-10-07  8446.895278   6172.720343  10721.070213\n2021-10-08  8453.990909   6179.815974  10728.165843\n2021-10-09  8464.311352   6190.136418  10738.486287\n2021-10-10  8464.804371   6190.629436  10738.979305\n2021-10-11  8476.588416   6202.413481  10750.763351\n2021-10-12  8481.503026   6207.328091  10755.677960\n2021-10-13  8480.204395   6206.029461  10754.379330",
      "text/html": "<div>\n<style scoped>\n    .dataframe tbody tr th:only-of-type {\n        vertical-align: middle;\n    }\n\n    .dataframe tbody tr th {\n        vertical-align: top;\n    }\n\n    .dataframe thead th {\n        text-align: right;\n    }\n</style>\n<table border=\"1\" class=\"dataframe\">\n  <thead>\n    <tr style=\"text-align: right;\">\n      <th>component</th>\n      <th>type_a</th>\n      <th>type_a_lower</th>\n      <th>type_a_upper</th>\n    </tr>\n    <tr>\n      <th>date</th>\n      <th></th>\n      <th></th>\n      <th></th>\n    </tr>\n  </thead>\n  <tbody>\n    <tr>\n      <th>2021-09-14</th>\n      <td>8806.301058</td>\n      <td>6532.126124</td>\n      <td>11080.475993</td>\n    </tr>\n    <tr>\n      <th>2021-09-15</th>\n      <td>8701.789445</td>\n      <td>6427.614510</td>\n      <td>10975.964379</td>\n    </tr>\n    <tr>\n      <th>2021-09-16</th>\n      <td>8749.163324</td>\n      <td>6474.988390</td>\n      <td>11023.338259</td>\n    </tr>\n    <tr>\n      <th>2021-09-17</th>\n      <td>8608.192991</td>\n      <td>6334.018057</td>\n      <td>10882.367926</td>\n    </tr>\n    <tr>\n      <th>2021-09-18</th>\n      <td>8755.588290</td>\n      <td>6481.413355</td>\n      <td>11029.763224</td>\n    </tr>\n    <tr>\n      <th>2021-09-19</th>\n      <td>8610.124631</td>\n      <td>6335.949696</td>\n      <td>10884.299565</td>\n    </tr>\n    <tr>\n      <th>2021-09-20</th>\n      <td>8780.559433</td>\n      <td>6506.384499</td>\n      <td>11054.734368</td>\n    </tr>\n    <tr>\n      <th>2021-09-21</th>\n      <td>8713.772491</td>\n      <td>6439.597557</td>\n      <td>10987.947426</td>\n    </tr>\n    <tr>\n      <th>2021-09-22</th>\n      <td>8610.412510</td>\n      <td>6336.237576</td>\n      <td>10884.587445</td>\n    </tr>\n    <tr>\n      <th>2021-09-23</th>\n      <td>8587.575194</td>\n      <td>6313.400260</td>\n      <td>10861.750129</td>\n    </tr>\n    <tr>\n      <th>2021-09-24</th>\n      <td>8520.444397</td>\n      <td>6246.269463</td>\n      <td>10794.619332</td>\n    </tr>\n    <tr>\n      <th>2021-09-25</th>\n      <td>8536.418927</td>\n      <td>6262.243992</td>\n      <td>10810.593861</td>\n    </tr>\n    <tr>\n      <th>2021-09-26</th>\n      <td>8467.915481</td>\n      <td>6193.740546</td>\n      <td>10742.090415</td>\n    </tr>\n    <tr>\n      <th>2021-09-27</th>\n      <td>8506.924317</td>\n      <td>6232.749382</td>\n      <td>10781.099251</td>\n    </tr>\n    <tr>\n      <th>2021-09-28</th>\n      <td>8480.894801</td>\n      <td>6206.719867</td>\n      <td>10755.069736</td>\n    </tr>\n    <tr>\n      <th>2021-09-29</th>\n      <td>8437.208434</td>\n      <td>6163.033500</td>\n      <td>10711.383369</td>\n    </tr>\n    <tr>\n      <th>2021-09-30</th>\n      <td>8432.366720</td>\n      <td>6158.191785</td>\n      <td>10706.541654</td>\n    </tr>\n    <tr>\n      <th>2021-10-01</th>\n      <td>8421.400640</td>\n      <td>6147.225705</td>\n      <td>10695.575574</td>\n    </tr>\n    <tr>\n      <th>2021-10-02</th>\n      <td>8432.902529</td>\n      <td>6158.727594</td>\n      <td>10707.077463</td>\n    </tr>\n    <tr>\n      <th>2021-10-03</th>\n      <td>8419.051505</td>\n      <td>6144.876570</td>\n      <td>10693.226439</td>\n    </tr>\n    <tr>\n      <th>2021-10-04</th>\n      <td>8441.782959</td>\n      <td>6167.608024</td>\n      <td>10715.957894</td>\n    </tr>\n    <tr>\n      <th>2021-10-05</th>\n      <td>8445.478691</td>\n      <td>6171.303757</td>\n      <td>10719.653626</td>\n    </tr>\n    <tr>\n      <th>2021-10-06</th>\n      <td>8438.907771</td>\n      <td>6164.732836</td>\n      <td>10713.082705</td>\n    </tr>\n    <tr>\n      <th>2021-10-07</th>\n      <td>8446.895278</td>\n      <td>6172.720343</td>\n      <td>10721.070213</td>\n    </tr>\n    <tr>\n      <th>2021-10-08</th>\n      <td>8453.990909</td>\n      <td>6179.815974</td>\n      <td>10728.165843</td>\n    </tr>\n    <tr>\n      <th>2021-10-09</th>\n      <td>8464.311352</td>\n      <td>6190.136418</td>\n      <td>10738.486287</td>\n    </tr>\n    <tr>\n      <th>2021-10-10</th>\n      <td>8464.804371</td>\n      <td>6190.629436</td>\n      <td>10738.979305</td>\n    </tr>\n    <tr>\n      <th>2021-10-11</th>\n      <td>8476.588416</td>\n      <td>6202.413481</td>\n      <td>10750.763351</td>\n    </tr>\n    <tr>\n      <th>2021-10-12</th>\n      <td>8481.503026</td>\n      <td>6207.328091</td>\n      <td>10755.677960</td>\n    </tr>\n    <tr>\n      <th>2021-10-13</th>\n      <td>8480.204395</td>\n      <td>6206.029461</td>\n      <td>10754.379330</td>\n    </tr>\n  </tbody>\n</table>\n</div>"
     },
     "execution_count": 8,
     "metadata": {},
     "output_type": "execute_result"
    }
   ],
   "source": [
    "auto_arima.predict(30)"
   ],
   "metadata": {
    "collapsed": false,
    "ExecuteTime": {
     "end_time": "2023-09-30T14:05:25.911101Z",
     "start_time": "2023-09-30T14:05:25.886762Z"
    }
   },
   "id": "b7435540ac0c103b"
  },
  {
   "cell_type": "markdown",
   "source": [
    "# GBDT"
   ],
   "metadata": {
    "collapsed": false
   },
   "id": "67fc3f429664faa3"
  },
  {
   "cell_type": "code",
   "execution_count": 6,
   "outputs": [],
   "source": [
    "from PipelineTS.ml_model import *"
   ],
   "metadata": {
    "collapsed": false,
    "ExecuteTime": {
     "end_time": "2023-09-30T14:45:37.503742Z",
     "start_time": "2023-09-30T14:45:37.493283Z"
    }
   },
   "id": "a9001a0445699b9c"
  },
  {
   "cell_type": "code",
   "execution_count": 10,
   "outputs": [
    {
     "data": {
      "text/plain": "<PipelineTS.ml_model.gbdt.CatBoostModel at 0x285ac0810>"
     },
     "execution_count": 10,
     "metadata": {},
     "output_type": "execute_result"
    }
   ],
   "source": [
    "cbt = CatBoostModel(time_col='date', target_col='type_a', lags=30, random_state=42)\n",
    "cbt.fit(data=data)"
   ],
   "metadata": {
    "collapsed": false,
    "ExecuteTime": {
     "end_time": "2023-09-30T14:07:36.798007Z",
     "start_time": "2023-09-30T14:05:25.921159Z"
    }
   },
   "id": "f26435146287d96f"
  },
  {
   "cell_type": "code",
   "execution_count": 11,
   "outputs": [
    {
     "data": {
      "text/plain": "<PipelineTS.ml_model.gbdt.XGBoostModel at 0x285ac1d50>"
     },
     "execution_count": 11,
     "metadata": {},
     "output_type": "execute_result"
    }
   ],
   "source": [
    "xgb = XGBoostModel(time_col='date', target_col='type_a', lags=30, random_state=42)\n",
    "xgb.fit(data=data)"
   ],
   "metadata": {
    "collapsed": false,
    "ExecuteTime": {
     "end_time": "2023-09-30T14:08:09.995033Z",
     "start_time": "2023-09-30T14:07:36.797800Z"
    }
   },
   "id": "4b01d664300d9e63"
  },
  {
   "cell_type": "code",
   "execution_count": 9,
   "outputs": [
    {
     "data": {
      "text/plain": "<PipelineTS.ml_model.gbdt.LightGBMModel at 0x296c45250>"
     },
     "execution_count": 9,
     "metadata": {},
     "output_type": "execute_result"
    }
   ],
   "source": [
    "lgb = LightGBMModel(time_col='date', target_col='type_a', lags=30, random_state=42)\n",
    "lgb.fit(data=data)"
   ],
   "metadata": {
    "collapsed": false,
    "ExecuteTime": {
     "end_time": "2023-09-30T14:48:16.011375Z",
     "start_time": "2023-09-30T14:47:59.806126Z"
    }
   },
   "id": "fc7b3fb48a41ee05"
  },
  {
   "cell_type": "code",
   "execution_count": 7,
   "outputs": [
    {
     "data": {
      "text/plain": "<PipelineTS.ml_model.gbdt.RandomForestModel at 0x296ea60d0>"
     },
     "execution_count": 7,
     "metadata": {},
     "output_type": "execute_result"
    }
   ],
   "source": [
    "rf = RandomForestModel(time_col='date', target_col='type_a', lags=30, random_state=42)\n",
    "rf.fit(data=data)"
   ],
   "metadata": {
    "collapsed": false,
    "ExecuteTime": {
     "end_time": "2023-09-30T14:46:08.193712Z",
     "start_time": "2023-09-30T14:45:52.441931Z"
    }
   },
   "id": "4e4324b6025c947"
  },
  {
   "cell_type": "code",
   "execution_count": 14,
   "outputs": [
    {
     "data": {
      "text/plain": "         date       type_a  type_a_lower  type_a_upper\n0  2021-09-14  9022.474626   8624.604983   9008.015831\n1  2021-09-15  8723.692387   8159.177778   9041.942395\n2  2021-09-16  8680.683639   8152.846090   9435.280232\n3  2021-09-17  8818.618804   8227.291697   9493.410806\n4  2021-09-18  8841.273293   8220.255953   9317.446034\n5  2021-09-19  9126.253712   7981.902625   9230.419688\n6  2021-09-20  8959.330245   8262.556721   9777.178785\n7  2021-09-21  9504.960049   8381.008523   9513.137267\n8  2021-09-22  9426.807042   8528.421790   9578.055880\n9  2021-09-23  8888.875530   8529.294489  10032.267139\n10 2021-09-24  9389.204408   8603.862885   9106.379960\n11 2021-09-25  8854.333627   8656.427753   8955.383027\n12 2021-09-26  9373.862402   8729.943851   9510.907021\n13 2021-09-27  9351.323977   8341.683528   9324.450353\n14 2021-09-28  8802.960251   8096.295361   9858.159595\n15 2021-09-29  8930.558375   8178.339088   9946.068053\n16 2021-09-30  8545.629408   8049.297140   9793.850504\n17 2021-10-01  8397.055358   8141.778505  10640.962601\n18 2021-10-02  8627.072129   8152.153257   9469.747405\n19 2021-10-03  8461.476282   8152.888372   9818.533477\n20 2021-10-04  8466.721478   8167.705456   9969.023407\n21 2021-10-05  8657.116923   8092.654442  10658.327200\n22 2021-10-06  8390.997305   8070.007609  10453.647149\n23 2021-10-07  8457.460551   8158.756193   9588.320496\n24 2021-10-08  8772.389631   8075.508651   9262.471252\n25 2021-10-09  8324.877717   8030.544777   9251.267377\n26 2021-10-10  8230.945389   8149.056896   8680.930387\n27 2021-10-11  8409.993526   8033.040089   8945.082522\n28 2021-10-12  8170.910918   8241.140230   9299.786130\n29 2021-10-13  7936.585067   8286.252172   9835.852329",
      "text/html": "<div>\n<style scoped>\n    .dataframe tbody tr th:only-of-type {\n        vertical-align: middle;\n    }\n\n    .dataframe tbody tr th {\n        vertical-align: top;\n    }\n\n    .dataframe thead th {\n        text-align: right;\n    }\n</style>\n<table border=\"1\" class=\"dataframe\">\n  <thead>\n    <tr style=\"text-align: right;\">\n      <th></th>\n      <th>date</th>\n      <th>type_a</th>\n      <th>type_a_lower</th>\n      <th>type_a_upper</th>\n    </tr>\n  </thead>\n  <tbody>\n    <tr>\n      <th>0</th>\n      <td>2021-09-14</td>\n      <td>9022.474626</td>\n      <td>8624.604983</td>\n      <td>9008.015831</td>\n    </tr>\n    <tr>\n      <th>1</th>\n      <td>2021-09-15</td>\n      <td>8723.692387</td>\n      <td>8159.177778</td>\n      <td>9041.942395</td>\n    </tr>\n    <tr>\n      <th>2</th>\n      <td>2021-09-16</td>\n      <td>8680.683639</td>\n      <td>8152.846090</td>\n      <td>9435.280232</td>\n    </tr>\n    <tr>\n      <th>3</th>\n      <td>2021-09-17</td>\n      <td>8818.618804</td>\n      <td>8227.291697</td>\n      <td>9493.410806</td>\n    </tr>\n    <tr>\n      <th>4</th>\n      <td>2021-09-18</td>\n      <td>8841.273293</td>\n      <td>8220.255953</td>\n      <td>9317.446034</td>\n    </tr>\n    <tr>\n      <th>5</th>\n      <td>2021-09-19</td>\n      <td>9126.253712</td>\n      <td>7981.902625</td>\n      <td>9230.419688</td>\n    </tr>\n    <tr>\n      <th>6</th>\n      <td>2021-09-20</td>\n      <td>8959.330245</td>\n      <td>8262.556721</td>\n      <td>9777.178785</td>\n    </tr>\n    <tr>\n      <th>7</th>\n      <td>2021-09-21</td>\n      <td>9504.960049</td>\n      <td>8381.008523</td>\n      <td>9513.137267</td>\n    </tr>\n    <tr>\n      <th>8</th>\n      <td>2021-09-22</td>\n      <td>9426.807042</td>\n      <td>8528.421790</td>\n      <td>9578.055880</td>\n    </tr>\n    <tr>\n      <th>9</th>\n      <td>2021-09-23</td>\n      <td>8888.875530</td>\n      <td>8529.294489</td>\n      <td>10032.267139</td>\n    </tr>\n    <tr>\n      <th>10</th>\n      <td>2021-09-24</td>\n      <td>9389.204408</td>\n      <td>8603.862885</td>\n      <td>9106.379960</td>\n    </tr>\n    <tr>\n      <th>11</th>\n      <td>2021-09-25</td>\n      <td>8854.333627</td>\n      <td>8656.427753</td>\n      <td>8955.383027</td>\n    </tr>\n    <tr>\n      <th>12</th>\n      <td>2021-09-26</td>\n      <td>9373.862402</td>\n      <td>8729.943851</td>\n      <td>9510.907021</td>\n    </tr>\n    <tr>\n      <th>13</th>\n      <td>2021-09-27</td>\n      <td>9351.323977</td>\n      <td>8341.683528</td>\n      <td>9324.450353</td>\n    </tr>\n    <tr>\n      <th>14</th>\n      <td>2021-09-28</td>\n      <td>8802.960251</td>\n      <td>8096.295361</td>\n      <td>9858.159595</td>\n    </tr>\n    <tr>\n      <th>15</th>\n      <td>2021-09-29</td>\n      <td>8930.558375</td>\n      <td>8178.339088</td>\n      <td>9946.068053</td>\n    </tr>\n    <tr>\n      <th>16</th>\n      <td>2021-09-30</td>\n      <td>8545.629408</td>\n      <td>8049.297140</td>\n      <td>9793.850504</td>\n    </tr>\n    <tr>\n      <th>17</th>\n      <td>2021-10-01</td>\n      <td>8397.055358</td>\n      <td>8141.778505</td>\n      <td>10640.962601</td>\n    </tr>\n    <tr>\n      <th>18</th>\n      <td>2021-10-02</td>\n      <td>8627.072129</td>\n      <td>8152.153257</td>\n      <td>9469.747405</td>\n    </tr>\n    <tr>\n      <th>19</th>\n      <td>2021-10-03</td>\n      <td>8461.476282</td>\n      <td>8152.888372</td>\n      <td>9818.533477</td>\n    </tr>\n    <tr>\n      <th>20</th>\n      <td>2021-10-04</td>\n      <td>8466.721478</td>\n      <td>8167.705456</td>\n      <td>9969.023407</td>\n    </tr>\n    <tr>\n      <th>21</th>\n      <td>2021-10-05</td>\n      <td>8657.116923</td>\n      <td>8092.654442</td>\n      <td>10658.327200</td>\n    </tr>\n    <tr>\n      <th>22</th>\n      <td>2021-10-06</td>\n      <td>8390.997305</td>\n      <td>8070.007609</td>\n      <td>10453.647149</td>\n    </tr>\n    <tr>\n      <th>23</th>\n      <td>2021-10-07</td>\n      <td>8457.460551</td>\n      <td>8158.756193</td>\n      <td>9588.320496</td>\n    </tr>\n    <tr>\n      <th>24</th>\n      <td>2021-10-08</td>\n      <td>8772.389631</td>\n      <td>8075.508651</td>\n      <td>9262.471252</td>\n    </tr>\n    <tr>\n      <th>25</th>\n      <td>2021-10-09</td>\n      <td>8324.877717</td>\n      <td>8030.544777</td>\n      <td>9251.267377</td>\n    </tr>\n    <tr>\n      <th>26</th>\n      <td>2021-10-10</td>\n      <td>8230.945389</td>\n      <td>8149.056896</td>\n      <td>8680.930387</td>\n    </tr>\n    <tr>\n      <th>27</th>\n      <td>2021-10-11</td>\n      <td>8409.993526</td>\n      <td>8033.040089</td>\n      <td>8945.082522</td>\n    </tr>\n    <tr>\n      <th>28</th>\n      <td>2021-10-12</td>\n      <td>8170.910918</td>\n      <td>8241.140230</td>\n      <td>9299.786130</td>\n    </tr>\n    <tr>\n      <th>29</th>\n      <td>2021-10-13</td>\n      <td>7936.585067</td>\n      <td>8286.252172</td>\n      <td>9835.852329</td>\n    </tr>\n  </tbody>\n</table>\n</div>"
     },
     "execution_count": 14,
     "metadata": {},
     "output_type": "execute_result"
    }
   ],
   "source": [
    "cbt.predict(30)"
   ],
   "metadata": {
    "collapsed": false,
    "ExecuteTime": {
     "end_time": "2023-09-30T14:08:48.218330Z",
     "start_time": "2023-09-30T14:08:48.175049Z"
    }
   },
   "id": "15170035e3b50c01"
  },
  {
   "cell_type": "code",
   "execution_count": 15,
   "outputs": [
    {
     "data": {
      "text/plain": "component        type_a  type_a_lower  type_a_upper\ndate                                               \n2021-09-14  9432.685547   7375.461426  11489.910156\n2021-09-15  8988.137695   6930.913574  11045.361328\n2021-09-16  8469.905273   6412.681152  10527.128906\n2021-09-17  8381.902344   6324.678223  10439.126953\n2021-09-18  8294.137695   6236.913574  10351.361328\n2021-09-19  8122.280762   6065.056641  10179.504883\n2021-09-20  7771.500000   5714.275879   9828.724609\n2021-09-21  9403.017578   7345.793457  11460.242188\n2021-09-22  9139.088867   7081.864746  11196.312500\n2021-09-23  8566.567383   6509.343262  10623.791016\n2021-09-24  8624.885742   6567.661621  10682.109375\n2021-09-25  9308.029297   7250.805176  11365.253906\n2021-09-26  9046.348633   6989.124512  11103.572266\n2021-09-27  8493.651367   6436.427246  10550.875000\n2021-09-28  8718.463867   6661.239746  10775.687500\n2021-09-29  8126.449219   6069.225098  10183.673828\n2021-09-30  8889.076172   6831.852051  10946.300781\n2021-10-01  8710.171875   6652.947754  10767.396484\n2021-10-02  9127.289062   7070.064941  11184.513672\n2021-10-03  8580.106445   6522.882324  10637.330078\n2021-10-04  8174.058594   6116.834473  10231.283203\n2021-10-05  8295.357422   6238.133301  10352.582031\n2021-10-06  8289.983398   6232.759277  10347.207031\n2021-10-07  7860.275879   5803.051758   9917.500000\n2021-10-08  7995.644531   5938.420410  10052.869141\n2021-10-09  8145.745605   6088.521484  10202.969727\n2021-10-10  8130.314941   6073.090820  10187.539062\n2021-10-11  8274.080078   6216.855957  10331.304688\n2021-10-12  8743.174805   6685.950684  10800.398438\n2021-10-13  9366.579102   7309.354980  11423.802734",
      "text/html": "<div>\n<style scoped>\n    .dataframe tbody tr th:only-of-type {\n        vertical-align: middle;\n    }\n\n    .dataframe tbody tr th {\n        vertical-align: top;\n    }\n\n    .dataframe thead th {\n        text-align: right;\n    }\n</style>\n<table border=\"1\" class=\"dataframe\">\n  <thead>\n    <tr style=\"text-align: right;\">\n      <th>component</th>\n      <th>type_a</th>\n      <th>type_a_lower</th>\n      <th>type_a_upper</th>\n    </tr>\n    <tr>\n      <th>date</th>\n      <th></th>\n      <th></th>\n      <th></th>\n    </tr>\n  </thead>\n  <tbody>\n    <tr>\n      <th>2021-09-14</th>\n      <td>9432.685547</td>\n      <td>7375.461426</td>\n      <td>11489.910156</td>\n    </tr>\n    <tr>\n      <th>2021-09-15</th>\n      <td>8988.137695</td>\n      <td>6930.913574</td>\n      <td>11045.361328</td>\n    </tr>\n    <tr>\n      <th>2021-09-16</th>\n      <td>8469.905273</td>\n      <td>6412.681152</td>\n      <td>10527.128906</td>\n    </tr>\n    <tr>\n      <th>2021-09-17</th>\n      <td>8381.902344</td>\n      <td>6324.678223</td>\n      <td>10439.126953</td>\n    </tr>\n    <tr>\n      <th>2021-09-18</th>\n      <td>8294.137695</td>\n      <td>6236.913574</td>\n      <td>10351.361328</td>\n    </tr>\n    <tr>\n      <th>2021-09-19</th>\n      <td>8122.280762</td>\n      <td>6065.056641</td>\n      <td>10179.504883</td>\n    </tr>\n    <tr>\n      <th>2021-09-20</th>\n      <td>7771.500000</td>\n      <td>5714.275879</td>\n      <td>9828.724609</td>\n    </tr>\n    <tr>\n      <th>2021-09-21</th>\n      <td>9403.017578</td>\n      <td>7345.793457</td>\n      <td>11460.242188</td>\n    </tr>\n    <tr>\n      <th>2021-09-22</th>\n      <td>9139.088867</td>\n      <td>7081.864746</td>\n      <td>11196.312500</td>\n    </tr>\n    <tr>\n      <th>2021-09-23</th>\n      <td>8566.567383</td>\n      <td>6509.343262</td>\n      <td>10623.791016</td>\n    </tr>\n    <tr>\n      <th>2021-09-24</th>\n      <td>8624.885742</td>\n      <td>6567.661621</td>\n      <td>10682.109375</td>\n    </tr>\n    <tr>\n      <th>2021-09-25</th>\n      <td>9308.029297</td>\n      <td>7250.805176</td>\n      <td>11365.253906</td>\n    </tr>\n    <tr>\n      <th>2021-09-26</th>\n      <td>9046.348633</td>\n      <td>6989.124512</td>\n      <td>11103.572266</td>\n    </tr>\n    <tr>\n      <th>2021-09-27</th>\n      <td>8493.651367</td>\n      <td>6436.427246</td>\n      <td>10550.875000</td>\n    </tr>\n    <tr>\n      <th>2021-09-28</th>\n      <td>8718.463867</td>\n      <td>6661.239746</td>\n      <td>10775.687500</td>\n    </tr>\n    <tr>\n      <th>2021-09-29</th>\n      <td>8126.449219</td>\n      <td>6069.225098</td>\n      <td>10183.673828</td>\n    </tr>\n    <tr>\n      <th>2021-09-30</th>\n      <td>8889.076172</td>\n      <td>6831.852051</td>\n      <td>10946.300781</td>\n    </tr>\n    <tr>\n      <th>2021-10-01</th>\n      <td>8710.171875</td>\n      <td>6652.947754</td>\n      <td>10767.396484</td>\n    </tr>\n    <tr>\n      <th>2021-10-02</th>\n      <td>9127.289062</td>\n      <td>7070.064941</td>\n      <td>11184.513672</td>\n    </tr>\n    <tr>\n      <th>2021-10-03</th>\n      <td>8580.106445</td>\n      <td>6522.882324</td>\n      <td>10637.330078</td>\n    </tr>\n    <tr>\n      <th>2021-10-04</th>\n      <td>8174.058594</td>\n      <td>6116.834473</td>\n      <td>10231.283203</td>\n    </tr>\n    <tr>\n      <th>2021-10-05</th>\n      <td>8295.357422</td>\n      <td>6238.133301</td>\n      <td>10352.582031</td>\n    </tr>\n    <tr>\n      <th>2021-10-06</th>\n      <td>8289.983398</td>\n      <td>6232.759277</td>\n      <td>10347.207031</td>\n    </tr>\n    <tr>\n      <th>2021-10-07</th>\n      <td>7860.275879</td>\n      <td>5803.051758</td>\n      <td>9917.500000</td>\n    </tr>\n    <tr>\n      <th>2021-10-08</th>\n      <td>7995.644531</td>\n      <td>5938.420410</td>\n      <td>10052.869141</td>\n    </tr>\n    <tr>\n      <th>2021-10-09</th>\n      <td>8145.745605</td>\n      <td>6088.521484</td>\n      <td>10202.969727</td>\n    </tr>\n    <tr>\n      <th>2021-10-10</th>\n      <td>8130.314941</td>\n      <td>6073.090820</td>\n      <td>10187.539062</td>\n    </tr>\n    <tr>\n      <th>2021-10-11</th>\n      <td>8274.080078</td>\n      <td>6216.855957</td>\n      <td>10331.304688</td>\n    </tr>\n    <tr>\n      <th>2021-10-12</th>\n      <td>8743.174805</td>\n      <td>6685.950684</td>\n      <td>10800.398438</td>\n    </tr>\n    <tr>\n      <th>2021-10-13</th>\n      <td>9366.579102</td>\n      <td>7309.354980</td>\n      <td>11423.802734</td>\n    </tr>\n  </tbody>\n</table>\n</div>"
     },
     "execution_count": 15,
     "metadata": {},
     "output_type": "execute_result"
    }
   ],
   "source": [
    "xgb.predict(30)"
   ],
   "metadata": {
    "collapsed": false,
    "ExecuteTime": {
     "end_time": "2023-09-30T14:08:48.235779Z",
     "start_time": "2023-09-30T14:08:48.215234Z"
    }
   },
   "id": "a0ea5eafc2f7f076"
  },
  {
   "cell_type": "code",
   "execution_count": 16,
   "outputs": [
    {
     "data": {
      "text/plain": "         date        type_a  type_a_lower  type_a_upper\n0  2021-09-14   9295.616068   8392.056817  10592.356982\n1  2021-09-15   8994.666937   8805.302392  10903.802372\n2  2021-09-16   8681.006633   8321.930641  10691.802518\n3  2021-09-17   9199.539983   8125.824027  12954.040415\n4  2021-09-18  10154.881737   8573.804700  12184.225246\n5  2021-09-19   9191.101258   8241.286935  12036.001933\n6  2021-09-20   9523.185631   8618.065160  12730.565959\n7  2021-09-21  10593.719696   8467.919256  12441.843909\n8  2021-09-22   9944.134014   8145.609232  12553.438292\n9  2021-09-23   9260.316279   8153.385900  12567.483883\n10 2021-09-24   9593.493709   8467.508897  13315.234184\n11 2021-09-25  10420.448173   8531.200646  13978.951018\n12 2021-09-26  10934.733739   8517.821610  14448.125085\n13 2021-09-27   9644.834644   9019.174959  13429.382358\n14 2021-09-28   9368.143013   8422.896810  13772.633997\n15 2021-09-29   9681.438469   8070.993044  14069.060495\n16 2021-09-30   9062.169897   8135.757598  13865.476479\n17 2021-10-01   9134.359277   8240.854447  11906.262152\n18 2021-10-02   8942.429008   8301.922397  13933.002916\n19 2021-10-03   9842.769497   8139.391458  13503.756312\n20 2021-10-04   8718.348951   8180.814533  12889.569202\n21 2021-10-05   8634.451863   8163.711366  12304.758003\n22 2021-10-06   8058.279505   8004.492823  13432.798568\n23 2021-10-07   8177.265913   7935.057412  12232.660643\n24 2021-10-08   8334.113038   7932.582243  11953.983140\n25 2021-10-09   8480.877323   8061.667271  11562.196147\n26 2021-10-10   8657.075618   8395.824325  11043.167750\n27 2021-10-11   8826.125418   8251.715532  11504.608922\n28 2021-10-12   8557.366944   8295.247854  12036.412103\n29 2021-10-13   7858.396103   7770.725815  10726.795724",
      "text/html": "<div>\n<style scoped>\n    .dataframe tbody tr th:only-of-type {\n        vertical-align: middle;\n    }\n\n    .dataframe tbody tr th {\n        vertical-align: top;\n    }\n\n    .dataframe thead th {\n        text-align: right;\n    }\n</style>\n<table border=\"1\" class=\"dataframe\">\n  <thead>\n    <tr style=\"text-align: right;\">\n      <th></th>\n      <th>date</th>\n      <th>type_a</th>\n      <th>type_a_lower</th>\n      <th>type_a_upper</th>\n    </tr>\n  </thead>\n  <tbody>\n    <tr>\n      <th>0</th>\n      <td>2021-09-14</td>\n      <td>9295.616068</td>\n      <td>8392.056817</td>\n      <td>10592.356982</td>\n    </tr>\n    <tr>\n      <th>1</th>\n      <td>2021-09-15</td>\n      <td>8994.666937</td>\n      <td>8805.302392</td>\n      <td>10903.802372</td>\n    </tr>\n    <tr>\n      <th>2</th>\n      <td>2021-09-16</td>\n      <td>8681.006633</td>\n      <td>8321.930641</td>\n      <td>10691.802518</td>\n    </tr>\n    <tr>\n      <th>3</th>\n      <td>2021-09-17</td>\n      <td>9199.539983</td>\n      <td>8125.824027</td>\n      <td>12954.040415</td>\n    </tr>\n    <tr>\n      <th>4</th>\n      <td>2021-09-18</td>\n      <td>10154.881737</td>\n      <td>8573.804700</td>\n      <td>12184.225246</td>\n    </tr>\n    <tr>\n      <th>5</th>\n      <td>2021-09-19</td>\n      <td>9191.101258</td>\n      <td>8241.286935</td>\n      <td>12036.001933</td>\n    </tr>\n    <tr>\n      <th>6</th>\n      <td>2021-09-20</td>\n      <td>9523.185631</td>\n      <td>8618.065160</td>\n      <td>12730.565959</td>\n    </tr>\n    <tr>\n      <th>7</th>\n      <td>2021-09-21</td>\n      <td>10593.719696</td>\n      <td>8467.919256</td>\n      <td>12441.843909</td>\n    </tr>\n    <tr>\n      <th>8</th>\n      <td>2021-09-22</td>\n      <td>9944.134014</td>\n      <td>8145.609232</td>\n      <td>12553.438292</td>\n    </tr>\n    <tr>\n      <th>9</th>\n      <td>2021-09-23</td>\n      <td>9260.316279</td>\n      <td>8153.385900</td>\n      <td>12567.483883</td>\n    </tr>\n    <tr>\n      <th>10</th>\n      <td>2021-09-24</td>\n      <td>9593.493709</td>\n      <td>8467.508897</td>\n      <td>13315.234184</td>\n    </tr>\n    <tr>\n      <th>11</th>\n      <td>2021-09-25</td>\n      <td>10420.448173</td>\n      <td>8531.200646</td>\n      <td>13978.951018</td>\n    </tr>\n    <tr>\n      <th>12</th>\n      <td>2021-09-26</td>\n      <td>10934.733739</td>\n      <td>8517.821610</td>\n      <td>14448.125085</td>\n    </tr>\n    <tr>\n      <th>13</th>\n      <td>2021-09-27</td>\n      <td>9644.834644</td>\n      <td>9019.174959</td>\n      <td>13429.382358</td>\n    </tr>\n    <tr>\n      <th>14</th>\n      <td>2021-09-28</td>\n      <td>9368.143013</td>\n      <td>8422.896810</td>\n      <td>13772.633997</td>\n    </tr>\n    <tr>\n      <th>15</th>\n      <td>2021-09-29</td>\n      <td>9681.438469</td>\n      <td>8070.993044</td>\n      <td>14069.060495</td>\n    </tr>\n    <tr>\n      <th>16</th>\n      <td>2021-09-30</td>\n      <td>9062.169897</td>\n      <td>8135.757598</td>\n      <td>13865.476479</td>\n    </tr>\n    <tr>\n      <th>17</th>\n      <td>2021-10-01</td>\n      <td>9134.359277</td>\n      <td>8240.854447</td>\n      <td>11906.262152</td>\n    </tr>\n    <tr>\n      <th>18</th>\n      <td>2021-10-02</td>\n      <td>8942.429008</td>\n      <td>8301.922397</td>\n      <td>13933.002916</td>\n    </tr>\n    <tr>\n      <th>19</th>\n      <td>2021-10-03</td>\n      <td>9842.769497</td>\n      <td>8139.391458</td>\n      <td>13503.756312</td>\n    </tr>\n    <tr>\n      <th>20</th>\n      <td>2021-10-04</td>\n      <td>8718.348951</td>\n      <td>8180.814533</td>\n      <td>12889.569202</td>\n    </tr>\n    <tr>\n      <th>21</th>\n      <td>2021-10-05</td>\n      <td>8634.451863</td>\n      <td>8163.711366</td>\n      <td>12304.758003</td>\n    </tr>\n    <tr>\n      <th>22</th>\n      <td>2021-10-06</td>\n      <td>8058.279505</td>\n      <td>8004.492823</td>\n      <td>13432.798568</td>\n    </tr>\n    <tr>\n      <th>23</th>\n      <td>2021-10-07</td>\n      <td>8177.265913</td>\n      <td>7935.057412</td>\n      <td>12232.660643</td>\n    </tr>\n    <tr>\n      <th>24</th>\n      <td>2021-10-08</td>\n      <td>8334.113038</td>\n      <td>7932.582243</td>\n      <td>11953.983140</td>\n    </tr>\n    <tr>\n      <th>25</th>\n      <td>2021-10-09</td>\n      <td>8480.877323</td>\n      <td>8061.667271</td>\n      <td>11562.196147</td>\n    </tr>\n    <tr>\n      <th>26</th>\n      <td>2021-10-10</td>\n      <td>8657.075618</td>\n      <td>8395.824325</td>\n      <td>11043.167750</td>\n    </tr>\n    <tr>\n      <th>27</th>\n      <td>2021-10-11</td>\n      <td>8826.125418</td>\n      <td>8251.715532</td>\n      <td>11504.608922</td>\n    </tr>\n    <tr>\n      <th>28</th>\n      <td>2021-10-12</td>\n      <td>8557.366944</td>\n      <td>8295.247854</td>\n      <td>12036.412103</td>\n    </tr>\n    <tr>\n      <th>29</th>\n      <td>2021-10-13</td>\n      <td>7858.396103</td>\n      <td>7770.725815</td>\n      <td>10726.795724</td>\n    </tr>\n  </tbody>\n</table>\n</div>"
     },
     "execution_count": 16,
     "metadata": {},
     "output_type": "execute_result"
    }
   ],
   "source": [
    "lgb.predict(30)"
   ],
   "metadata": {
    "collapsed": false,
    "ExecuteTime": {
     "end_time": "2023-09-30T14:08:48.305134Z",
     "start_time": "2023-09-30T14:08:48.232426Z"
    }
   },
   "id": "4bb0c5d7e0eb311e"
  },
  {
   "cell_type": "code",
   "execution_count": 17,
   "outputs": [
    {
     "data": {
      "text/plain": "component    type_a  type_a_lower  type_a_upper\ndate                                           \n2021-09-14  8377.57   7662.182082   9092.957918\n2021-09-15  8377.72   7662.332082   9093.107918\n2021-09-16  8349.13   7633.742082   9064.517918\n2021-09-17  8389.86   7674.472082   9105.247918\n2021-09-18  8468.06   7752.672082   9183.447918\n2021-09-19  8466.21   7750.822082   9181.597918\n2021-09-20  8579.44   7864.052082   9294.827918\n2021-09-21  8679.84   7964.452082   9395.227918\n2021-09-22  8709.73   7994.342082   9425.117918\n2021-09-23  8708.16   7992.772082   9423.547918\n2021-09-24  8674.51   7959.122082   9389.897918\n2021-09-25  8622.36   7906.972082   9337.747918\n2021-09-26  8523.82   7808.432082   9239.207918\n2021-09-27  8311.10   7595.712082   9026.487918\n2021-09-28  8119.78   7404.392082   8835.167918\n2021-09-29  8363.99   7648.602082   9079.377918\n2021-09-30  8522.84   7807.452082   9238.227918\n2021-10-01  8609.59   7894.202082   9324.977918\n2021-10-02  8704.46   7989.072082   9419.847918\n2021-10-03  8513.73   7798.342082   9229.117918\n2021-10-04  8416.20   7700.812082   9131.587918\n2021-10-05  8286.41   7571.022082   9001.797918\n2021-10-06  8213.36   7497.972082   8928.747918\n2021-10-07  8191.48   7476.092082   8906.867918\n2021-10-08  8207.49   7492.102082   8922.877918\n2021-10-09  8278.71   7563.322082   8994.097918\n2021-10-10  8210.86   7495.472082   8926.247918\n2021-10-11  8135.78   7420.392082   8851.167918\n2021-10-12  8085.06   7369.672082   8800.447918\n2021-10-13  8185.14   7469.752082   8900.527918",
      "text/html": "<div>\n<style scoped>\n    .dataframe tbody tr th:only-of-type {\n        vertical-align: middle;\n    }\n\n    .dataframe tbody tr th {\n        vertical-align: top;\n    }\n\n    .dataframe thead th {\n        text-align: right;\n    }\n</style>\n<table border=\"1\" class=\"dataframe\">\n  <thead>\n    <tr style=\"text-align: right;\">\n      <th>component</th>\n      <th>type_a</th>\n      <th>type_a_lower</th>\n      <th>type_a_upper</th>\n    </tr>\n    <tr>\n      <th>date</th>\n      <th></th>\n      <th></th>\n      <th></th>\n    </tr>\n  </thead>\n  <tbody>\n    <tr>\n      <th>2021-09-14</th>\n      <td>8377.57</td>\n      <td>7662.182082</td>\n      <td>9092.957918</td>\n    </tr>\n    <tr>\n      <th>2021-09-15</th>\n      <td>8377.72</td>\n      <td>7662.332082</td>\n      <td>9093.107918</td>\n    </tr>\n    <tr>\n      <th>2021-09-16</th>\n      <td>8349.13</td>\n      <td>7633.742082</td>\n      <td>9064.517918</td>\n    </tr>\n    <tr>\n      <th>2021-09-17</th>\n      <td>8389.86</td>\n      <td>7674.472082</td>\n      <td>9105.247918</td>\n    </tr>\n    <tr>\n      <th>2021-09-18</th>\n      <td>8468.06</td>\n      <td>7752.672082</td>\n      <td>9183.447918</td>\n    </tr>\n    <tr>\n      <th>2021-09-19</th>\n      <td>8466.21</td>\n      <td>7750.822082</td>\n      <td>9181.597918</td>\n    </tr>\n    <tr>\n      <th>2021-09-20</th>\n      <td>8579.44</td>\n      <td>7864.052082</td>\n      <td>9294.827918</td>\n    </tr>\n    <tr>\n      <th>2021-09-21</th>\n      <td>8679.84</td>\n      <td>7964.452082</td>\n      <td>9395.227918</td>\n    </tr>\n    <tr>\n      <th>2021-09-22</th>\n      <td>8709.73</td>\n      <td>7994.342082</td>\n      <td>9425.117918</td>\n    </tr>\n    <tr>\n      <th>2021-09-23</th>\n      <td>8708.16</td>\n      <td>7992.772082</td>\n      <td>9423.547918</td>\n    </tr>\n    <tr>\n      <th>2021-09-24</th>\n      <td>8674.51</td>\n      <td>7959.122082</td>\n      <td>9389.897918</td>\n    </tr>\n    <tr>\n      <th>2021-09-25</th>\n      <td>8622.36</td>\n      <td>7906.972082</td>\n      <td>9337.747918</td>\n    </tr>\n    <tr>\n      <th>2021-09-26</th>\n      <td>8523.82</td>\n      <td>7808.432082</td>\n      <td>9239.207918</td>\n    </tr>\n    <tr>\n      <th>2021-09-27</th>\n      <td>8311.10</td>\n      <td>7595.712082</td>\n      <td>9026.487918</td>\n    </tr>\n    <tr>\n      <th>2021-09-28</th>\n      <td>8119.78</td>\n      <td>7404.392082</td>\n      <td>8835.167918</td>\n    </tr>\n    <tr>\n      <th>2021-09-29</th>\n      <td>8363.99</td>\n      <td>7648.602082</td>\n      <td>9079.377918</td>\n    </tr>\n    <tr>\n      <th>2021-09-30</th>\n      <td>8522.84</td>\n      <td>7807.452082</td>\n      <td>9238.227918</td>\n    </tr>\n    <tr>\n      <th>2021-10-01</th>\n      <td>8609.59</td>\n      <td>7894.202082</td>\n      <td>9324.977918</td>\n    </tr>\n    <tr>\n      <th>2021-10-02</th>\n      <td>8704.46</td>\n      <td>7989.072082</td>\n      <td>9419.847918</td>\n    </tr>\n    <tr>\n      <th>2021-10-03</th>\n      <td>8513.73</td>\n      <td>7798.342082</td>\n      <td>9229.117918</td>\n    </tr>\n    <tr>\n      <th>2021-10-04</th>\n      <td>8416.20</td>\n      <td>7700.812082</td>\n      <td>9131.587918</td>\n    </tr>\n    <tr>\n      <th>2021-10-05</th>\n      <td>8286.41</td>\n      <td>7571.022082</td>\n      <td>9001.797918</td>\n    </tr>\n    <tr>\n      <th>2021-10-06</th>\n      <td>8213.36</td>\n      <td>7497.972082</td>\n      <td>8928.747918</td>\n    </tr>\n    <tr>\n      <th>2021-10-07</th>\n      <td>8191.48</td>\n      <td>7476.092082</td>\n      <td>8906.867918</td>\n    </tr>\n    <tr>\n      <th>2021-10-08</th>\n      <td>8207.49</td>\n      <td>7492.102082</td>\n      <td>8922.877918</td>\n    </tr>\n    <tr>\n      <th>2021-10-09</th>\n      <td>8278.71</td>\n      <td>7563.322082</td>\n      <td>8994.097918</td>\n    </tr>\n    <tr>\n      <th>2021-10-10</th>\n      <td>8210.86</td>\n      <td>7495.472082</td>\n      <td>8926.247918</td>\n    </tr>\n    <tr>\n      <th>2021-10-11</th>\n      <td>8135.78</td>\n      <td>7420.392082</td>\n      <td>8851.167918</td>\n    </tr>\n    <tr>\n      <th>2021-10-12</th>\n      <td>8085.06</td>\n      <td>7369.672082</td>\n      <td>8800.447918</td>\n    </tr>\n    <tr>\n      <th>2021-10-13</th>\n      <td>8185.14</td>\n      <td>7469.752082</td>\n      <td>8900.527918</td>\n    </tr>\n  </tbody>\n</table>\n</div>"
     },
     "execution_count": 17,
     "metadata": {},
     "output_type": "execute_result"
    }
   ],
   "source": [
    "rf.predict(30)"
   ],
   "metadata": {
    "collapsed": false,
    "ExecuteTime": {
     "end_time": "2023-09-30T14:08:48.305887Z",
     "start_time": "2023-09-30T14:08:48.251012Z"
    }
   },
   "id": "f1c8083e22646bd0"
  },
  {
   "cell_type": "code",
   "execution_count": 17,
   "outputs": [],
   "source": [],
   "metadata": {
    "collapsed": false,
    "ExecuteTime": {
     "end_time": "2023-09-30T14:08:48.312055Z",
     "start_time": "2023-09-30T14:08:48.258828Z"
    }
   },
   "id": "6948c581e439dd99"
  },
  {
   "cell_type": "code",
   "execution_count": 17,
   "outputs": [],
   "source": [],
   "metadata": {
    "collapsed": false,
    "ExecuteTime": {
     "end_time": "2023-09-30T14:08:48.312290Z",
     "start_time": "2023-09-30T14:08:48.260693Z"
    }
   },
   "id": "f81b0b0739bcb9bd"
  },
  {
   "cell_type": "code",
   "execution_count": 17,
   "outputs": [],
   "source": [],
   "metadata": {
    "collapsed": false,
    "ExecuteTime": {
     "end_time": "2023-09-30T14:08:48.312420Z",
     "start_time": "2023-09-30T14:08:48.262618Z"
    }
   },
   "id": "8a319b5bfed4295b"
  }
 ],
 "metadata": {
  "kernelspec": {
   "display_name": "Python 3",
   "language": "python",
   "name": "python3"
  },
  "language_info": {
   "codemirror_mode": {
    "name": "ipython",
    "version": 2
   },
   "file_extension": ".py",
   "mimetype": "text/x-python",
   "name": "python",
   "nbconvert_exporter": "python",
   "pygments_lexer": "ipython2",
   "version": "2.7.6"
  }
 },
 "nbformat": 4,
 "nbformat_minor": 5
}

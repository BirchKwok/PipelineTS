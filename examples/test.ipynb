{
 "cells": [
  {
   "cell_type": "code",
   "execution_count": 1,
   "outputs": [],
   "source": [
    "from PipelineTS.dataset import LoadWebSales"
   ],
   "metadata": {
    "collapsed": false,
    "ExecuteTime": {
     "end_time": "2023-10-07T02:53:38.437416Z",
     "start_time": "2023-10-07T02:53:37.044569Z"
    }
   },
   "id": "initial_id"
  },
  {
   "cell_type": "code",
   "execution_count": 2,
   "outputs": [
    {
     "data": {
      "text/plain": "            date  type_a\n2084  2021-09-09    8234\n2085  2021-09-10    7825\n2086  2021-09-11    8461\n2087  2021-09-12    8159\n2088  2021-09-13    8881",
      "text/html": "<div>\n<style scoped>\n    .dataframe tbody tr th:only-of-type {\n        vertical-align: middle;\n    }\n\n    .dataframe tbody tr th {\n        vertical-align: top;\n    }\n\n    .dataframe thead th {\n        text-align: right;\n    }\n</style>\n<table border=\"1\" class=\"dataframe\">\n  <thead>\n    <tr style=\"text-align: right;\">\n      <th></th>\n      <th>date</th>\n      <th>type_a</th>\n    </tr>\n  </thead>\n  <tbody>\n    <tr>\n      <th>2084</th>\n      <td>2021-09-09</td>\n      <td>8234</td>\n    </tr>\n    <tr>\n      <th>2085</th>\n      <td>2021-09-10</td>\n      <td>7825</td>\n    </tr>\n    <tr>\n      <th>2086</th>\n      <td>2021-09-11</td>\n      <td>8461</td>\n    </tr>\n    <tr>\n      <th>2087</th>\n      <td>2021-09-12</td>\n      <td>8159</td>\n    </tr>\n    <tr>\n      <th>2088</th>\n      <td>2021-09-13</td>\n      <td>8881</td>\n    </tr>\n  </tbody>\n</table>\n</div>"
     },
     "execution_count": 2,
     "metadata": {},
     "output_type": "execute_result"
    }
   ],
   "source": [
    "data = LoadWebSales()[['date', 'type_a']]\n",
    "data.tail(5)"
   ],
   "metadata": {
    "collapsed": false,
    "ExecuteTime": {
     "end_time": "2023-10-07T02:53:38.449486Z",
     "start_time": "2023-10-07T02:53:38.438345Z"
    }
   },
   "id": "1aedc65ccc87bf0e"
  },
  {
   "cell_type": "markdown",
   "source": [
    "# WideGBRT model"
   ],
   "metadata": {
    "collapsed": false
   },
   "id": "2bc20bc75f998382"
  },
  {
   "cell_type": "code",
   "execution_count": 3,
   "outputs": [
    {
     "data": {
      "text/plain": "<PipelineTS.ml_model.wide_gbrt.WideGBRTModel at 0x28ecffb10>"
     },
     "execution_count": 3,
     "metadata": {},
     "output_type": "execute_result"
    }
   ],
   "source": [
    "from PipelineTS.ml_model import WideGBRTModel\n",
    "\n",
    "wide_gbrt = WideGBRTModel(time_col='date', target_col='type_a', lags=30, random_state=42)\n",
    "wide_gbrt.fit(data)"
   ],
   "metadata": {
    "collapsed": false,
    "ExecuteTime": {
     "end_time": "2023-10-07T02:54:45.369584Z",
     "start_time": "2023-10-07T02:53:38.446395Z"
    }
   },
   "id": "e5fb07ebbd18610a"
  },
  {
   "cell_type": "code",
   "execution_count": 4,
   "outputs": [
    {
     "ename": "AssertionError",
     "evalue": "",
     "output_type": "error",
     "traceback": [
      "\u001B[0;31m---------------------------------------------------------------------------\u001B[0m",
      "\u001B[0;31mAssertionError\u001B[0m                            Traceback (most recent call last)",
      "Cell \u001B[0;32mIn[4], line 1\u001B[0m\n\u001B[0;32m----> 1\u001B[0m wide_gbrt\u001B[38;5;241m.\u001B[39mpredict(\u001B[38;5;241m30\u001B[39m)\n",
      "File \u001B[0;32m~/PipelineTS/PipelineTS/ml_model/wide_gbrt.py:208\u001B[0m, in \u001B[0;36mWideGBRTModel.predict\u001B[0;34m(self, n)\u001B[0m\n\u001B[1;32m    206\u001B[0m x \u001B[38;5;241m=\u001B[39m \u001B[38;5;28mself\u001B[39m\u001B[38;5;241m.\u001B[39mx\u001B[38;5;241m.\u001B[39mvalues\n\u001B[1;32m    207\u001B[0m res \u001B[38;5;241m=\u001B[39m \u001B[38;5;28mself\u001B[39m\u001B[38;5;241m.\u001B[39m_extend_predict(x, n) \u001B[38;5;66;03m# list\u001B[39;00m\n\u001B[0;32m--> 208\u001B[0m \u001B[38;5;28;01massert\u001B[39;00m \u001B[38;5;28mlen\u001B[39m(res) \u001B[38;5;241m==\u001B[39m n\n\u001B[1;32m    209\u001B[0m res \u001B[38;5;241m=\u001B[39m pd\u001B[38;5;241m.\u001B[39mDataFrame(res, columns\u001B[38;5;241m=\u001B[39m[\u001B[38;5;28mself\u001B[39m\u001B[38;5;241m.\u001B[39mall_configs[\u001B[38;5;124m'\u001B[39m\u001B[38;5;124mtarget_col\u001B[39m\u001B[38;5;124m'\u001B[39m]])\n\u001B[1;32m    210\u001B[0m res[\u001B[38;5;28mself\u001B[39m\u001B[38;5;241m.\u001B[39mall_configs[\u001B[38;5;124m'\u001B[39m\u001B[38;5;124mtime_col\u001B[39m\u001B[38;5;124m'\u001B[39m]] \u001B[38;5;241m=\u001B[39m \\\n\u001B[1;32m    211\u001B[0m     \u001B[38;5;28mself\u001B[39m\u001B[38;5;241m.\u001B[39mlast_dt \u001B[38;5;241m+\u001B[39m pd\u001B[38;5;241m.\u001B[39mto_timedelta(\u001B[38;5;28mrange\u001B[39m(res\u001B[38;5;241m.\u001B[39mindex\u001B[38;5;241m.\u001B[39mshape[\u001B[38;5;241m0\u001B[39m] \u001B[38;5;241m+\u001B[39m \u001B[38;5;241m1\u001B[39m), unit\u001B[38;5;241m=\u001B[39m\u001B[38;5;124m'\u001B[39m\u001B[38;5;124mD\u001B[39m\u001B[38;5;124m'\u001B[39m)[\u001B[38;5;241m1\u001B[39m:]\n",
      "\u001B[0;31mAssertionError\u001B[0m: "
     ]
    }
   ],
   "source": [
    "wide_gbrt.predict(30)"
   ],
   "metadata": {
    "collapsed": false,
    "ExecuteTime": {
     "end_time": "2023-10-07T02:54:45.707645Z",
     "start_time": "2023-10-07T02:54:45.370896Z"
    }
   },
   "id": "ae018097e9e92f93"
  },
  {
   "cell_type": "markdown",
   "source": [
    "# ProphetModel"
   ],
   "metadata": {
    "collapsed": false
   },
   "id": "2e647b3753eeba2e"
  },
  {
   "cell_type": "code",
   "execution_count": null,
   "outputs": [],
   "source": [
    "from PipelineTS.statistic_model import ProphetModel\n",
    "model = ProphetModel(time_col='date', target_col='type_a')"
   ],
   "metadata": {
    "collapsed": false,
    "ExecuteTime": {
     "end_time": "2023-10-07T02:54:45.710103Z",
     "start_time": "2023-10-07T02:54:45.709572Z"
    }
   },
   "id": "cd949e95cc118c30"
  },
  {
   "cell_type": "code",
   "execution_count": null,
   "outputs": [],
   "source": [
    "model.fit(data)"
   ],
   "metadata": {
    "collapsed": false,
    "ExecuteTime": {
     "start_time": "2023-10-07T02:54:45.710764Z"
    }
   },
   "id": "e9b416f7b5e4b580"
  },
  {
   "cell_type": "code",
   "execution_count": null,
   "outputs": [],
   "source": [
    "model.predict(30)"
   ],
   "metadata": {
    "collapsed": false,
    "ExecuteTime": {
     "start_time": "2023-10-07T02:54:45.711232Z"
    }
   },
   "id": "baab8f1b43e0d15c"
  },
  {
   "cell_type": "markdown",
   "source": [
    "# AutoARIMA"
   ],
   "metadata": {
    "collapsed": false
   },
   "id": "26f325e00fab98c1"
  },
  {
   "cell_type": "code",
   "execution_count": null,
   "outputs": [],
   "source": [
    "from PipelineTS.statistic_model import AutoARIMAModel"
   ],
   "metadata": {
    "collapsed": false,
    "ExecuteTime": {
     "start_time": "2023-10-07T02:54:45.712304Z"
    }
   },
   "id": "fce4f3a0e971243b"
  },
  {
   "cell_type": "code",
   "execution_count": null,
   "outputs": [],
   "source": [
    "auto_arima = AutoARIMAModel(time_col='date', target_col='type_a')\n",
    "auto_arima.fit(data=data)"
   ],
   "metadata": {
    "collapsed": false,
    "ExecuteTime": {
     "start_time": "2023-10-07T02:54:45.713290Z"
    }
   },
   "id": "8d9b8cccf22f6c1e"
  },
  {
   "cell_type": "code",
   "execution_count": null,
   "outputs": [],
   "source": [
    "auto_arima.predict(30)"
   ],
   "metadata": {
    "collapsed": false,
    "ExecuteTime": {
     "start_time": "2023-10-07T02:54:45.714310Z"
    }
   },
   "id": "b7435540ac0c103b"
  },
  {
   "cell_type": "markdown",
   "source": [
    "# GBDT"
   ],
   "metadata": {
    "collapsed": false
   },
   "id": "67fc3f429664faa3"
  },
  {
   "cell_type": "code",
   "execution_count": null,
   "outputs": [],
   "source": [
    "from PipelineTS.ml_model import *"
   ],
   "metadata": {
    "collapsed": false,
    "ExecuteTime": {
     "start_time": "2023-10-07T02:54:45.715445Z"
    }
   },
   "id": "a9001a0445699b9c"
  },
  {
   "cell_type": "markdown",
   "source": [
    "## CatBoost"
   ],
   "metadata": {
    "collapsed": false
   },
   "id": "8c179d9fecb41e8d"
  },
  {
   "cell_type": "code",
   "execution_count": null,
   "outputs": [],
   "source": [
    "cbt = CatBoostModel(time_col='date', target_col='type_a', lags=30, random_state=42)\n",
    "cbt.fit(data=data)"
   ],
   "metadata": {
    "collapsed": false,
    "ExecuteTime": {
     "start_time": "2023-10-07T02:54:45.716358Z"
    }
   },
   "id": "f26435146287d96f"
  },
  {
   "cell_type": "code",
   "execution_count": null,
   "outputs": [],
   "source": [
    "cbt.predict(30)"
   ],
   "metadata": {
    "collapsed": false,
    "ExecuteTime": {
     "start_time": "2023-10-07T02:54:45.717503Z"
    }
   },
   "id": "15170035e3b50c01"
  },
  {
   "cell_type": "markdown",
   "source": [
    "## XGBoost"
   ],
   "metadata": {
    "collapsed": false
   },
   "id": "7dec9ceba00d5094"
  },
  {
   "cell_type": "code",
   "execution_count": null,
   "outputs": [],
   "source": [
    "xgb = XGBoostModel(time_col='date', target_col='type_a', lags=30, random_state=42)\n",
    "xgb.fit(data=data)"
   ],
   "metadata": {
    "collapsed": false,
    "ExecuteTime": {
     "start_time": "2023-10-07T02:54:45.718502Z"
    }
   },
   "id": "4b01d664300d9e63"
  },
  {
   "cell_type": "code",
   "execution_count": null,
   "outputs": [],
   "source": [
    "xgb.predict(30)"
   ],
   "metadata": {
    "collapsed": false,
    "ExecuteTime": {
     "start_time": "2023-10-07T02:54:45.719507Z"
    }
   },
   "id": "a0ea5eafc2f7f076"
  },
  {
   "cell_type": "markdown",
   "source": [
    "## LightGBM"
   ],
   "metadata": {
    "collapsed": false
   },
   "id": "56fcbb8fd24d75f6"
  },
  {
   "cell_type": "code",
   "execution_count": null,
   "outputs": [],
   "source": [
    "lgb = LightGBMModel(time_col='date', target_col='type_a', lags=30, random_state=42)\n",
    "lgb.fit(data=data)"
   ],
   "metadata": {
    "collapsed": false,
    "ExecuteTime": {
     "start_time": "2023-10-07T02:54:45.720459Z"
    }
   },
   "id": "fc7b3fb48a41ee05"
  },
  {
   "cell_type": "code",
   "execution_count": null,
   "outputs": [],
   "source": [
    "lgb.predict(30)"
   ],
   "metadata": {
    "collapsed": false,
    "ExecuteTime": {
     "start_time": "2023-10-07T02:54:45.721507Z"
    }
   },
   "id": "4bb0c5d7e0eb311e"
  },
  {
   "cell_type": "markdown",
   "source": [
    "## RandomForest"
   ],
   "metadata": {
    "collapsed": false
   },
   "id": "a18ed981b44520eb"
  },
  {
   "cell_type": "code",
   "execution_count": null,
   "outputs": [],
   "source": [
    "rf = RandomForestModel(time_col='date', target_col='type_a', lags=30, random_state=42)\n",
    "rf.fit(data=data)"
   ],
   "metadata": {
    "collapsed": false,
    "ExecuteTime": {
     "start_time": "2023-10-07T02:54:45.722428Z"
    }
   },
   "id": "4e4324b6025c947"
  },
  {
   "cell_type": "code",
   "execution_count": null,
   "outputs": [],
   "source": [
    "rf.predict(30)"
   ],
   "metadata": {
    "collapsed": false,
    "ExecuteTime": {
     "start_time": "2023-10-07T02:54:45.723321Z"
    }
   },
   "id": "f1c8083e22646bd0"
  },
  {
   "cell_type": "markdown",
   "source": [
    "# NN Model"
   ],
   "metadata": {
    "collapsed": false
   },
   "id": "349a8d6c55917582"
  },
  {
   "cell_type": "code",
   "execution_count": null,
   "outputs": [],
   "source": [
    "from PipelineTS.nn_model import *"
   ],
   "metadata": {
    "collapsed": false,
    "ExecuteTime": {
     "start_time": "2023-10-07T02:54:45.724197Z"
    }
   },
   "id": "4b1ef182fd9fe6f5"
  },
  {
   "cell_type": "markdown",
   "source": [
    "## DLinearModel"
   ],
   "metadata": {
    "collapsed": false
   },
   "id": "fe25f24791a8cce7"
  },
  {
   "cell_type": "code",
   "execution_count": null,
   "outputs": [],
   "source": [
    "d_linear = DLinearModel(time_col='date', target_col='type_a', lags=30, random_state=42, \n",
    "               pl_trainer_kwargs={'enable_progress_bar': False, 'enable_model_summary': False})"
   ],
   "metadata": {
    "collapsed": false,
    "ExecuteTime": {
     "start_time": "2023-10-07T02:54:45.724979Z"
    }
   },
   "id": "8a319b5bfed4295b"
  },
  {
   "cell_type": "code",
   "execution_count": null,
   "outputs": [],
   "source": [
    "d_linear.fit(data)\n",
    "d_linear.predict(30)"
   ],
   "metadata": {
    "collapsed": false,
    "ExecuteTime": {
     "start_time": "2023-10-07T02:54:45.725521Z"
    }
   },
   "id": "429ad79afdee9005"
  },
  {
   "cell_type": "markdown",
   "source": [
    "##  NLinearModel"
   ],
   "metadata": {
    "collapsed": false
   },
   "id": "8692d620668fb0c1"
  },
  {
   "cell_type": "code",
   "execution_count": null,
   "outputs": [],
   "source": [
    "n_linear = NLinearModel(time_col='date', target_col='type_a', lags=30, random_state=42, \n",
    "               pl_trainer_kwargs={'enable_progress_bar': False})"
   ],
   "metadata": {
    "collapsed": false,
    "ExecuteTime": {
     "start_time": "2023-10-07T02:54:45.726054Z"
    }
   },
   "id": "8a5602b86dcc8db7"
  },
  {
   "cell_type": "code",
   "execution_count": null,
   "outputs": [],
   "source": [
    "n_linear.fit(data)\n",
    "n_linear.predict(30)"
   ],
   "metadata": {
    "collapsed": false,
    "ExecuteTime": {
     "start_time": "2023-10-07T02:54:45.726586Z"
    }
   },
   "id": "45afcc14551f22ca"
  },
  {
   "cell_type": "markdown",
   "source": [
    "##  NBeatsModel "
   ],
   "metadata": {
    "collapsed": false
   },
   "id": "c40f9cddb01f15b3"
  },
  {
   "cell_type": "code",
   "execution_count": null,
   "outputs": [],
   "source": [
    "n_beats = NBeatsModel(time_col='date', target_col='type_a', lags=30, random_state=42, \n",
    "               pl_trainer_kwargs={'enable_progress_bar': False, 'enable_model_summary': False})"
   ],
   "metadata": {
    "collapsed": false,
    "ExecuteTime": {
     "start_time": "2023-10-07T02:54:45.727087Z"
    }
   },
   "id": "d88653e7e74f2268"
  },
  {
   "cell_type": "code",
   "execution_count": null,
   "outputs": [],
   "source": [
    "n_beats.fit(data)\n",
    "n_beats.predict(30)"
   ],
   "metadata": {
    "collapsed": false,
    "ExecuteTime": {
     "start_time": "2023-10-07T02:54:45.727612Z"
    }
   },
   "id": "315c09ac5d64c972"
  },
  {
   "cell_type": "markdown",
   "source": [
    "## TCNModel"
   ],
   "metadata": {
    "collapsed": false
   },
   "id": "a935cbc4d2e06461"
  },
  {
   "cell_type": "code",
   "execution_count": null,
   "outputs": [],
   "source": [
    "tcn = TCNModel(time_col='date', target_col='type_a', lags=30, random_state=42, \n",
    "               pl_trainer_kwargs={'enable_progress_bar': False})"
   ],
   "metadata": {
    "collapsed": false,
    "ExecuteTime": {
     "start_time": "2023-10-07T02:54:45.728158Z"
    }
   },
   "id": "2eb34c0d94081f88"
  },
  {
   "cell_type": "code",
   "execution_count": null,
   "outputs": [],
   "source": [
    "tcn.fit(data)\n",
    "tcn.predict(30)"
   ],
   "metadata": {
    "collapsed": false,
    "ExecuteTime": {
     "start_time": "2023-10-07T02:54:45.728782Z"
    }
   },
   "id": "ac7ce9131406903b"
  },
  {
   "cell_type": "markdown",
   "source": [
    "## NHitsModel"
   ],
   "metadata": {
    "collapsed": false
   },
   "id": "b014add2205b843a"
  },
  {
   "cell_type": "code",
   "execution_count": null,
   "outputs": [],
   "source": [
    "n_hits = NHitsModel(time_col='date', target_col='type_a', lags=30, random_state=42, \n",
    "                    pl_trainer_kwargs={'enable_progress_bar': False})"
   ],
   "metadata": {
    "collapsed": false,
    "ExecuteTime": {
     "start_time": "2023-10-07T02:54:45.729362Z"
    }
   },
   "id": "5da169dbee5d210f"
  },
  {
   "cell_type": "code",
   "execution_count": null,
   "outputs": [],
   "source": [
    "n_hits.fit(data)\n",
    "n_hits.predict(30)"
   ],
   "metadata": {
    "collapsed": false,
    "ExecuteTime": {
     "start_time": "2023-10-07T02:54:45.730126Z"
    }
   },
   "id": "b998d02ab91c8ed"
  },
  {
   "cell_type": "markdown",
   "source": [
    "## TFTModel"
   ],
   "metadata": {
    "collapsed": false
   },
   "id": "65eeb062c00fea05"
  },
  {
   "cell_type": "code",
   "execution_count": null,
   "outputs": [],
   "source": [
    "tft = TFTModel(time_col='date', target_col='type_a', lags=30, random_state=42, \n",
    "                    pl_trainer_kwargs={'enable_progress_bar': False})"
   ],
   "metadata": {
    "collapsed": false,
    "ExecuteTime": {
     "start_time": "2023-10-07T02:54:45.730965Z"
    }
   },
   "id": "b2ed8bf0e18f101a"
  },
  {
   "cell_type": "code",
   "execution_count": null,
   "outputs": [],
   "source": [
    "tft.fit(data)\n",
    "tft.predict(30)"
   ],
   "metadata": {
    "collapsed": false,
    "ExecuteTime": {
     "start_time": "2023-10-07T02:54:45.731639Z"
    }
   },
   "id": "19b853311c7d76be"
  },
  {
   "cell_type": "code",
   "execution_count": null,
   "outputs": [],
   "source": [],
   "metadata": {
    "collapsed": false,
    "ExecuteTime": {
     "start_time": "2023-10-07T02:54:45.732309Z"
    }
   },
   "id": "ce0b858b9d8d18bd"
  }
 ],
 "metadata": {
  "kernelspec": {
   "display_name": "Python 3",
   "language": "python",
   "name": "python3"
  },
  "language_info": {
   "codemirror_mode": {
    "name": "ipython",
    "version": 2
   },
   "file_extension": ".py",
   "mimetype": "text/x-python",
   "name": "python",
   "nbconvert_exporter": "python",
   "pygments_lexer": "ipython2",
   "version": "2.7.6"
  }
 },
 "nbformat": 4,
 "nbformat_minor": 5
}

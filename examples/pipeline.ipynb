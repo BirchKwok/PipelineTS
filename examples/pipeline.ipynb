{
 "cells": [
  {
   "cell_type": "code",
   "execution_count": 1,
   "id": "a21fc4f68d02a829",
   "metadata": {
    "ExecuteTime": {
     "end_time": "2023-10-07T08:24:26.540606Z",
     "start_time": "2023-10-07T08:24:24.796685Z"
    }
   },
   "outputs": [],
   "source": [
    "from PipelineTS.dataset import LoadWebSales"
   ]
  },
  {
   "cell_type": "code",
   "execution_count": 2,
   "id": "7506c9f4d4c32daa",
   "metadata": {
    "ExecuteTime": {
     "end_time": "2023-10-07T08:24:26.545795Z",
     "start_time": "2023-10-07T08:24:26.541528Z"
    }
   },
   "outputs": [],
   "source": [
    "data = LoadWebSales()[['date', 'type_a']]"
   ]
  },
  {
   "cell_type": "code",
   "execution_count": 3,
   "id": "de503d8fc108c935",
   "metadata": {
    "ExecuteTime": {
     "end_time": "2023-10-07T08:24:26.552711Z",
     "start_time": "2023-10-07T08:24:26.547582Z"
    }
   },
   "outputs": [
    {
     "data": {
      "text/html": [
       "<div>\n",
       "<style scoped>\n",
       "    .dataframe tbody tr th:only-of-type {\n",
       "        vertical-align: middle;\n",
       "    }\n",
       "\n",
       "    .dataframe tbody tr th {\n",
       "        vertical-align: top;\n",
       "    }\n",
       "\n",
       "    .dataframe thead th {\n",
       "        text-align: right;\n",
       "    }\n",
       "</style>\n",
       "<table border=\"1\" class=\"dataframe\">\n",
       "  <thead>\n",
       "    <tr style=\"text-align: right;\">\n",
       "      <th></th>\n",
       "      <th>date</th>\n",
       "      <th>type_a</th>\n",
       "    </tr>\n",
       "  </thead>\n",
       "  <tbody>\n",
       "    <tr>\n",
       "      <th>2054</th>\n",
       "      <td>2021-08-10</td>\n",
       "      <td>9261</td>\n",
       "    </tr>\n",
       "    <tr>\n",
       "      <th>2055</th>\n",
       "      <td>2021-08-11</td>\n",
       "      <td>8976</td>\n",
       "    </tr>\n",
       "    <tr>\n",
       "      <th>2056</th>\n",
       "      <td>2021-08-12</td>\n",
       "      <td>8850</td>\n",
       "    </tr>\n",
       "    <tr>\n",
       "      <th>2057</th>\n",
       "      <td>2021-08-13</td>\n",
       "      <td>8731</td>\n",
       "    </tr>\n",
       "    <tr>\n",
       "      <th>2058</th>\n",
       "      <td>2021-08-14</td>\n",
       "      <td>7862</td>\n",
       "    </tr>\n",
       "  </tbody>\n",
       "</table>\n",
       "</div>"
      ],
      "text/plain": [
       "            date  type_a\n",
       "2054  2021-08-10    9261\n",
       "2055  2021-08-11    8976\n",
       "2056  2021-08-12    8850\n",
       "2057  2021-08-13    8731\n",
       "2058  2021-08-14    7862"
      ]
     },
     "execution_count": 3,
     "metadata": {},
     "output_type": "execute_result"
    }
   ],
   "source": [
    "data = data.iloc[:-30, :]\n",
    "valid_data = data.iloc[-30:, :]\n",
    "data.tail(5)"
   ]
  },
  {
   "cell_type": "markdown",
   "id": "fda57b56619a01ac",
   "metadata": {},
   "source": [
    "# PipelineTS"
   ]
  },
  {
   "cell_type": "code",
   "execution_count": 4,
   "id": "7c8926ea8b0bfb1a",
   "metadata": {
    "ExecuteTime": {
     "end_time": "2023-10-07T08:24:27.868292Z",
     "start_time": "2023-10-07T08:24:26.552136Z"
    }
   },
   "outputs": [],
   "source": [
    "from PipelineTS.pipeline import PipelineTS"
   ]
  },
  {
   "cell_type": "code",
   "execution_count": 5,
   "id": "62b6d3a8d4030663",
   "metadata": {
    "ExecuteTime": {
     "end_time": "2023-10-07T08:24:27.890057Z",
     "start_time": "2023-10-07T08:24:27.870336Z"
    }
   },
   "outputs": [],
   "source": [
    "from sklearn.metrics import mean_absolute_error\n",
    "pipeline = PipelineTS(\n",
    "    time_col='date', \n",
    "    target_col='type_a', \n",
    "    lags=30, \n",
    "    random_state=42, \n",
    "    metric=mean_absolute_error, \n",
    "    metric_less_is_better=True\n",
    ")"
   ]
  },
  {
   "cell_type": "code",
   "execution_count": 6,
   "id": "4c5600bd80413a32",
   "metadata": {
    "ExecuteTime": {
     "end_time": "2023-10-07T08:51:34.990817Z",
     "start_time": "2023-10-07T08:24:27.891277Z"
    }
   },
   "outputs": [
    {
     "name": "stderr",
     "output_type": "stream",
     "text": [
      "16:24:27 2023-10-07 - PipelineTS - fitting and evaluating prophet...\n",
      "16:24:28 2023-10-07 - PipelineTS - fitting and evaluating auto_arima...\n",
      "16:26:45 2023-10-07 - PipelineTS - fitting and evaluating catboost...\n",
      "16:28:43 2023-10-07 - PipelineTS - fitting and evaluating lightgbm...\n",
      "16:29:00 2023-10-07 - PipelineTS - fitting and evaluating xgboost...\n",
      "16:29:32 2023-10-07 - PipelineTS - fitting and evaluating wide_gbrt...\n",
      "16:30:50 2023-10-07 - PipelineTS - fitting and evaluating d_linear...\n",
      "16:31:41 2023-10-07 - PipelineTS - fitting and evaluating n_linear...\n",
      "16:32:23 2023-10-07 - PipelineTS - fitting and evaluating n_beats...\n",
      "16:34:25 2023-10-07 - PipelineTS - fitting and evaluating n_hits...\n",
      "16:37:15 2023-10-07 - PipelineTS - fitting and evaluating tcn...\n",
      "16:41:57 2023-10-07 - PipelineTS - fitting and evaluating tft...\n"
     ]
    },
    {
     "data": {
      "text/html": [
       "<div>\n",
       "<style scoped>\n",
       "    .dataframe tbody tr th:only-of-type {\n",
       "        vertical-align: middle;\n",
       "    }\n",
       "\n",
       "    .dataframe tbody tr th {\n",
       "        vertical-align: top;\n",
       "    }\n",
       "\n",
       "    .dataframe thead th {\n",
       "        text-align: right;\n",
       "    }\n",
       "</style>\n",
       "<table border=\"1\" class=\"dataframe\">\n",
       "  <thead>\n",
       "    <tr style=\"text-align: right;\">\n",
       "      <th>Leaderboard</th>\n",
       "      <th>model</th>\n",
       "      <th>train_cost(s)</th>\n",
       "      <th>eval_cost(s)</th>\n",
       "      <th>metric</th>\n",
       "    </tr>\n",
       "  </thead>\n",
       "  <tbody>\n",
       "    <tr>\n",
       "      <th>0</th>\n",
       "      <td>wide_gbrt</td>\n",
       "      <td>78.431731</td>\n",
       "      <td>0.004069</td>\n",
       "      <td>405.218992</td>\n",
       "    </tr>\n",
       "    <tr>\n",
       "      <th>1</th>\n",
       "      <td>n_hits</td>\n",
       "      <td>169.980026</td>\n",
       "      <td>0.009572</td>\n",
       "      <td>442.879508</td>\n",
       "    </tr>\n",
       "    <tr>\n",
       "      <th>2</th>\n",
       "      <td>auto_arima</td>\n",
       "      <td>137.041913</td>\n",
       "      <td>0.005761</td>\n",
       "      <td>451.258799</td>\n",
       "    </tr>\n",
       "    <tr>\n",
       "      <th>3</th>\n",
       "      <td>n_beats</td>\n",
       "      <td>122.503421</td>\n",
       "      <td>0.008672</td>\n",
       "      <td>557.222298</td>\n",
       "    </tr>\n",
       "    <tr>\n",
       "      <th>4</th>\n",
       "      <td>n_linear</td>\n",
       "      <td>42.427771</td>\n",
       "      <td>0.007459</td>\n",
       "      <td>588.746517</td>\n",
       "    </tr>\n",
       "    <tr>\n",
       "      <th>5</th>\n",
       "      <td>d_linear</td>\n",
       "      <td>50.357118</td>\n",
       "      <td>0.008111</td>\n",
       "      <td>622.452620</td>\n",
       "    </tr>\n",
       "    <tr>\n",
       "      <th>6</th>\n",
       "      <td>tcn</td>\n",
       "      <td>281.105936</td>\n",
       "      <td>0.008173</td>\n",
       "      <td>674.022445</td>\n",
       "    </tr>\n",
       "    <tr>\n",
       "      <th>7</th>\n",
       "      <td>xgboost</td>\n",
       "      <td>31.722031</td>\n",
       "      <td>0.011376</td>\n",
       "      <td>1117.017790</td>\n",
       "    </tr>\n",
       "    <tr>\n",
       "      <th>8</th>\n",
       "      <td>lightgbm</td>\n",
       "      <td>16.630206</td>\n",
       "      <td>0.009281</td>\n",
       "      <td>1188.224829</td>\n",
       "    </tr>\n",
       "    <tr>\n",
       "      <th>9</th>\n",
       "      <td>catboost</td>\n",
       "      <td>118.625482</td>\n",
       "      <td>0.033417</td>\n",
       "      <td>1199.051870</td>\n",
       "    </tr>\n",
       "    <tr>\n",
       "      <th>10</th>\n",
       "      <td>prophet</td>\n",
       "      <td>0.218811</td>\n",
       "      <td>0.023326</td>\n",
       "      <td>1914.340209</td>\n",
       "    </tr>\n",
       "    <tr>\n",
       "      <th>11</th>\n",
       "      <td>tft</td>\n",
       "      <td>577.904853</td>\n",
       "      <td>0.012446</td>\n",
       "      <td>6448.261442</td>\n",
       "    </tr>\n",
       "  </tbody>\n",
       "</table>\n",
       "</div>"
      ],
      "text/plain": [
       "Leaderboard       model  train_cost(s)  eval_cost(s)       metric\n",
       "0             wide_gbrt      78.431731      0.004069   405.218992\n",
       "1                n_hits     169.980026      0.009572   442.879508\n",
       "2            auto_arima     137.041913      0.005761   451.258799\n",
       "3               n_beats     122.503421      0.008672   557.222298\n",
       "4              n_linear      42.427771      0.007459   588.746517\n",
       "5              d_linear      50.357118      0.008111   622.452620\n",
       "6                   tcn     281.105936      0.008173   674.022445\n",
       "7               xgboost      31.722031      0.011376  1117.017790\n",
       "8              lightgbm      16.630206      0.009281  1188.224829\n",
       "9              catboost     118.625482      0.033417  1199.051870\n",
       "10              prophet       0.218811      0.023326  1914.340209\n",
       "11                  tft     577.904853      0.012446  6448.261442"
      ]
     },
     "execution_count": 6,
     "metadata": {},
     "output_type": "execute_result"
    }
   ],
   "source": [
    "pipeline.fit_and_eval(data, valid_data)"
   ]
  },
  {
   "cell_type": "code",
   "execution_count": 6,
   "id": "c6e5fe1722e5f83d",
   "metadata": {
    "ExecuteTime": {
     "end_time": "2023-10-07T08:51:34.992671Z",
     "start_time": "2023-10-07T08:51:34.992361Z"
    }
   },
   "outputs": [],
   "source": []
  }
 ],
 "metadata": {
  "hide_input": false,
  "kernelspec": {
   "display_name": "Python 3 (ipykernel)",
   "language": "python",
   "name": "python3"
  },
  "language_info": {
   "codemirror_mode": {
    "name": "ipython",
    "version": 3
   },
   "file_extension": ".py",
   "mimetype": "text/x-python",
   "name": "python",
   "nbconvert_exporter": "python",
   "pygments_lexer": "ipython3",
   "version": "3.11.4"
  }
 },
 "nbformat": 4,
 "nbformat_minor": 5
}

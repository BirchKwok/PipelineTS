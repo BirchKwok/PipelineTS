{
 "cells": [
  {
   "cell_type": "code",
   "execution_count": 1,
   "id": "6a5a8fc9-63d1-4f45-8b1a-a9ac3ba3e08b",
   "metadata": {},
   "outputs": [],
   "source": [
    "import sys\n",
    "sys.path.insert(0, '..')"
   ]
  },
  {
   "cell_type": "code",
   "execution_count": 2,
   "id": "3834a91f-d0fa-4308-91be-5e131750508c",
   "metadata": {},
   "outputs": [
    {
     "data": {
      "text/plain": [
       "'0.2.0'"
      ]
     },
     "execution_count": 2,
     "metadata": {},
     "output_type": "execute_result"
    }
   ],
   "source": [
    "import PipelineTS\n",
    "PipelineTS.__version__"
   ]
  },
  {
   "cell_type": "code",
   "execution_count": 3,
   "id": "a21fc4f68d02a829",
   "metadata": {
    "ExecuteTime": {
     "end_time": "2023-10-09T03:52:00.635926Z",
     "start_time": "2023-10-09T03:51:59.116238Z"
    },
    "is_executing": true
   },
   "outputs": [
    {
     "name": "stdout",
     "output_type": "stream",
     "text": [
      "+----+----------------------+----------------------------------------------------------------------+\n",
      "|    | ds name              | columns                                                              |\n",
      "+----+----------------------+----------------------------------------------------------------------+\n",
      "|  0 | AirPassengers        | Month, #Passengers                                                   |\n",
      "|  1 | ETTh1                | date, HUFL, HULL, MUFL, MULL, LUFL, LULL, OT                         |\n",
      "|  2 | ETTh2                | date, HUFL, HULL, MUFL, MULL, LUFL, LULL, OT                         |\n",
      "|  3 | ETTm1                | date, HUFL, HULL, MUFL, MULL, LUFL, LULL, OT                         |\n",
      "|  4 | ETTm2                | date, HUFL, HULL, MUFL, MULL, LUFL, LULL, OT                         |\n",
      "|  5 | Electric_Production  | date, value                                                          |\n",
      "|  6 | M3_monthly_FTS       | series_id, method_id, forecast, horizon, timestamp, origin_timestamp |\n",
      "|  7 | M3_monthly_TSTS      | series_id, category, value, timestamp                                |\n",
      "|  8 | M3_other_FTS         | series_id, method_id, forecast, horizon, timestamp, origin_timestamp |\n",
      "|  9 | M3_other_TSTS        | series_id, category, value, timestamp                                |\n",
      "| 10 | M3_quarterly_FTS     | series_id, method_id, forecast, horizon, timestamp, origin_timestamp |\n",
      "| 11 | M3_quarterly_TSTS    | series_id, category, value, timestamp                                |\n",
      "| 12 | M3_yearly_FTS        | series_id, method_id, forecast, horizon, timestamp, origin_timestamp |\n",
      "| 13 | M3_yearly_TSTS       | series_id, category, value, timestamp                                |\n",
      "| 14 | Messages_Sent        | date, ta, tb, tc                                                     |\n",
      "| 15 | Messages_Sent_Hour   | date, ta, tb, tc                                                     |\n",
      "| 16 | Supermarket_Incoming | date, goods_cnt                                                      |\n",
      "| 17 | Web_Sales            | date, type_a, type_b, sales_cnt                                      |\n",
      "+----+----------------------+----------------------------------------------------------------------+\n"
     ]
    }
   ],
   "source": [
    "from PipelineTS.dataset import BuiltInSeriesData\n",
    "bs = BuiltInSeriesData()"
   ]
  },
  {
   "cell_type": "code",
   "execution_count": 4,
   "id": "7506c9f4d4c32daa",
   "metadata": {
    "ExecuteTime": {
     "end_time": "2023-10-09T03:52:00.640764Z",
     "start_time": "2023-10-09T03:52:00.636995Z"
    }
   },
   "outputs": [],
   "source": [
    "import pandas as pd\n",
    "init_data = bs['Web_Sales']\n",
    "\n",
    "time_col = 'date'\n",
    "target_col = 'type_a'\n",
    "lags = 30\n",
    "n = 30\n",
    "device = 'cpu'\n",
    "\n",
    "init_data = init_data[[time_col, target_col]]\n",
    "init_data[time_col] = pd.to_datetime(init_data[time_col])"
   ]
  },
  {
   "cell_type": "code",
   "execution_count": 5,
   "id": "de503d8fc108c935",
   "metadata": {
    "ExecuteTime": {
     "end_time": "2023-10-09T03:52:00.773527Z",
     "start_time": "2023-10-09T03:52:00.769699Z"
    }
   },
   "outputs": [
    {
     "name": "stdout",
     "output_type": "stream",
     "text": [
      "data shape:  (2059, 2) , valid data shape:  (30, 2)\n"
     ]
    },
    {
     "data": {
      "text/html": [
       "<div>\n",
       "<style scoped>\n",
       "    .dataframe tbody tr th:only-of-type {\n",
       "        vertical-align: middle;\n",
       "    }\n",
       "\n",
       "    .dataframe tbody tr th {\n",
       "        vertical-align: top;\n",
       "    }\n",
       "\n",
       "    .dataframe thead th {\n",
       "        text-align: right;\n",
       "    }\n",
       "</style>\n",
       "<table border=\"1\" class=\"dataframe\">\n",
       "  <thead>\n",
       "    <tr style=\"text-align: right;\">\n",
       "      <th></th>\n",
       "      <th>date</th>\n",
       "      <th>type_a</th>\n",
       "    </tr>\n",
       "  </thead>\n",
       "  <tbody>\n",
       "    <tr>\n",
       "      <th>2054</th>\n",
       "      <td>2021-08-10</td>\n",
       "      <td>9261</td>\n",
       "    </tr>\n",
       "    <tr>\n",
       "      <th>2055</th>\n",
       "      <td>2021-08-11</td>\n",
       "      <td>8976</td>\n",
       "    </tr>\n",
       "    <tr>\n",
       "      <th>2056</th>\n",
       "      <td>2021-08-12</td>\n",
       "      <td>8850</td>\n",
       "    </tr>\n",
       "    <tr>\n",
       "      <th>2057</th>\n",
       "      <td>2021-08-13</td>\n",
       "      <td>8731</td>\n",
       "    </tr>\n",
       "    <tr>\n",
       "      <th>2058</th>\n",
       "      <td>2021-08-14</td>\n",
       "      <td>7862</td>\n",
       "    </tr>\n",
       "  </tbody>\n",
       "</table>\n",
       "</div>"
      ],
      "text/plain": [
       "           date  type_a\n",
       "2054 2021-08-10    9261\n",
       "2055 2021-08-11    8976\n",
       "2056 2021-08-12    8850\n",
       "2057 2021-08-13    8731\n",
       "2058 2021-08-14    7862"
      ]
     },
     "execution_count": 5,
     "metadata": {},
     "output_type": "execute_result"
    }
   ],
   "source": [
    "valid_data = init_data.iloc[-lags:, :]\n",
    "data = init_data.iloc[:-lags, :]\n",
    "print(\"data shape: \", data.shape, \", valid data shape: \", valid_data.shape)\n",
    "data.tail(5)"
   ]
  },
  {
   "cell_type": "code",
   "execution_count": 6,
   "id": "fa19cb74d07caa3",
   "metadata": {
    "ExecuteTime": {
     "end_time": "2023-10-09T03:52:00.768432Z",
     "start_time": "2023-10-09T03:52:00.641463Z"
    }
   },
   "outputs": [
    {
     "data": {
      "image/png": "[encoded data removed]",
      "text/plain": [
       "<Figure size 640x480 with 1 Axes>"
      ]
     },
     "metadata": {},
     "output_type": "display_data"
    }
   ],
   "source": [
    "from PipelineTS.plot import plot_data_period\n",
    "plot_data_period(\n",
    "    data.iloc[-300:, :], \n",
    "    valid_data, \n",
    "    time_col=time_col, \n",
    "    target_col=target_col, \n",
    "    labels=['Train data', 'Valid_data']\n",
    ")"
   ]
  },
  {
   "cell_type": "markdown",
   "id": "fda57b56619a01ac",
   "metadata": {},
   "source": [
    "# PipelineTS"
   ]
  },
  {
   "cell_type": "code",
   "execution_count": 7,
   "id": "7c8926ea8b0bfb1a",
   "metadata": {
    "ExecuteTime": {
     "end_time": "2023-10-09T03:52:01.793645Z",
     "start_time": "2023-10-09T03:52:00.774149Z"
    }
   },
   "outputs": [],
   "source": [
    "from PipelineTS.pipeline import PipelineTS, PipelineConfigs"
   ]
  },
  {
   "cell_type": "code",
   "execution_count": 8,
   "id": "81de27852109c9a",
   "metadata": {
    "ExecuteTime": {
     "end_time": "2023-10-09T03:52:01.797016Z",
     "start_time": "2023-10-09T03:52:01.794702Z"
    }
   },
   "outputs": [
    {
     "data": {
      "text/plain": [
       "['prophet',\n",
       " 'auto_arima',\n",
       " 'catboost',\n",
       " 'lightgbm',\n",
       " 'xgboost',\n",
       " 'wide_gbrt',\n",
       " 'd_linear',\n",
       " 'n_linear',\n",
       " 'n_beats',\n",
       " 'n_hits',\n",
       " 'tcn',\n",
       " 'tft',\n",
       " 'gau',\n",
       " 'stacking_rnn',\n",
       " 'time2vec',\n",
       " 'multi_output_model',\n",
       " 'multi_step_model',\n",
       " 'transformer',\n",
       " 'random_forest']"
      ]
     },
     "execution_count": 8,
     "metadata": {},
     "output_type": "execute_result"
    }
   ],
   "source": [
    "# list all models\n",
    "PipelineTS.list_models()"
   ]
  },
  {
   "cell_type": "code",
   "execution_count": 9,
   "id": "b37d49bfddf56750",
   "metadata": {
    "ExecuteTime": {
     "end_time": "2023-10-09T03:52:01.800840Z",
     "start_time": "2023-10-09T03:52:01.797755Z"
    }
   },
   "outputs": [
    {
     "data": {
      "text/html": [
       "<table>\n",
       "<thead>\n",
       "<tr><th style=\"text-align: right;\">  </th><th>model_name        </th><th>model_name_with_index  </th><th>model_configs                                                                                                                                                    </th></tr>\n",
       "</thead>\n",
       "<tbody>\n",
       "<tr><td style=\"text-align: right;\"> 0</td><td>lightgbm          </td><td>lightgbm_1             </td><td>{&#x27;init_configs&#x27;: {&#x27;verbose&#x27;: -1}, &#x27;fit_configs&#x27;: {}, &#x27;predict_configs&#x27;: {}}                                                                                      </td></tr>\n",
       "<tr><td style=\"text-align: right;\"> 1</td><td>multi_output_model</td><td>multi_output_model_1   </td><td>{&#x27;init_configs&#x27;: {&#x27;verbose&#x27;: -1}, &#x27;fit_configs&#x27;: {}, &#x27;predict_configs&#x27;: {}}                                                                                      </td></tr>\n",
       "<tr><td style=\"text-align: right;\"> 2</td><td>multi_output_model</td><td>multi_output_model_2   </td><td>{&#x27;init_configs&#x27;: {&#x27;estimator&#x27;: &lt;class &#x27;xgboost.sklearn.XGBRegressor&#x27;&gt;, &#x27;random_state&#x27;: 42, &#x27;kwargs&#x27;: {&#x27;verbosity&#x27;: 0}}, &#x27;fit_configs&#x27;: {}, &#x27;predict_configs&#x27;: {}}</td></tr>\n",
       "<tr><td style=\"text-align: right;\"> 3</td><td>multi_output_model</td><td>multi_output_model_3   </td><td>{&#x27;init_configs&#x27;: {&#x27;estimator&#x27;: &lt;class &#x27;catboost.core.CatBoostRegressor&#x27;&gt;, &#x27;random_state&#x27;: 42, &#x27;verbose&#x27;: False}, &#x27;fit_configs&#x27;: {}, &#x27;predict_configs&#x27;: {}}       </td></tr>\n",
       "<tr><td style=\"text-align: right;\"> 4</td><td>multi_step_model  </td><td>multi_step_model_1     </td><td>{&#x27;init_configs&#x27;: {&#x27;verbose&#x27;: -1}, &#x27;fit_configs&#x27;: {}, &#x27;predict_configs&#x27;: {}}                                                                                      </td></tr>\n",
       "</tbody>\n",
       "</table>"
      ],
      "text/plain": [
       "'<table>\\n<thead>\\n<tr><th style=\"text-align: right;\">  </th><th>model_name        </th><th>model_name_with_index  </th><th>model_configs                                                                                                                                                    </th></tr>\\n</thead>\\n<tbody>\\n<tr><td style=\"text-align: right;\"> 0</td><td>lightgbm          </td><td>lightgbm_1             </td><td>{&#x27;init_configs&#x27;: {&#x27;verbose&#x27;: -1}, &#x27;fit_configs&#x27;: {}, &#x27;predict_configs&#x27;: {}}                                                                                      </td></tr>\\n<tr><td style=\"text-align: right;\"> 1</td><td>multi_output_model</td><td>multi_output_model_1   </td><td>{&#x27;init_configs&#x27;: {&#x27;verbose&#x27;: -1}, &#x27;fit_configs&#x27;: {}, &#x27;predict_configs&#x27;: {}}                                                                                      </td></tr>\\n<tr><td style=\"text-align: right;\"> 2</td><td>multi_output_model</td><td>multi_output_model_2   </td><td>{&#x27;init_configs&#x27;: {&#x27;estimator&#x27;: &lt;class &#x27;xgboost.sklearn.XGBRegressor&#x27;&gt;, &#x27;random_state&#x27;: 42, &#x27;kwargs&#x27;: {&#x27;verbosity&#x27;: 0}}, &#x27;fit_configs&#x27;: {}, &#x27;predict_configs&#x27;: {}}</td></tr>\\n<tr><td style=\"text-align: right;\"> 3</td><td>multi_output_model</td><td>multi_output_model_3   </td><td>{&#x27;init_configs&#x27;: {&#x27;estimator&#x27;: &lt;class &#x27;catboost.core.CatBoostRegressor&#x27;&gt;, &#x27;random_state&#x27;: 42, &#x27;verbose&#x27;: False}, &#x27;fit_configs&#x27;: {}, &#x27;predict_configs&#x27;: {}}       </td></tr>\\n<tr><td style=\"text-align: right;\"> 4</td><td>multi_step_model  </td><td>multi_step_model_1     </td><td>{&#x27;init_configs&#x27;: {&#x27;verbose&#x27;: -1}, &#x27;fit_configs&#x27;: {}, &#x27;predict_configs&#x27;: {}}                                                                                      </td></tr>\\n</tbody>\\n</table>'"
      ]
     },
     "metadata": {},
     "output_type": "display_data"
    }
   ],
   "source": [
    "from xgboost import XGBRegressor\n",
    "from catboost import CatBoostRegressor\n",
    "\n",
    "pipeline_configs = PipelineConfigs([\n",
    "    ('lightgbm', {'init_configs': {'verbose': -1}}),\n",
    "    ('multi_output_model', {'init_configs': {'verbose': -1}}),\n",
    "    ('multi_step_model', {'init_configs': {'verbose': -1}}),\n",
    "    ('multi_output_model', {\n",
    "        'init_configs': {'estimator': XGBRegressor, 'random_state': 42, 'kwargs':{'verbosity':0}}\n",
    "        }\n",
    "    ),\n",
    "    ('multi_output_model', {\n",
    "        'init_configs': {'estimator': CatBoostRegressor, 'random_state': 42, 'verbose': False}\n",
    "        }\n",
    "    ),\n",
    "])"
   ]
  },
  {
   "cell_type": "code",
   "execution_count": 10,
   "id": "62b6d3a8d4030663",
   "metadata": {
    "ExecuteTime": {
     "end_time": "2023-10-09T03:52:01.803384Z",
     "start_time": "2023-10-09T03:52:01.801458Z"
    }
   },
   "outputs": [],
   "source": [
    "from sklearn.metrics import mean_absolute_error\n",
    "pipeline = PipelineTS(\n",
    "    time_col=time_col, \n",
    "    target_col=target_col, \n",
    "    lags=lags, \n",
    "    random_state=42, \n",
    "    metric=mean_absolute_error, \n",
    "    metric_less_is_better=True,\n",
    "    configs=pipeline_configs,\n",
    "    include_init_config_model=False,\n",
    "    use_standard_scale=False,  # False for MinMaxScaler, True for StandardScaler, None means no data be scaled\n",
    "    # models=['stacking_rnn'],  # specifying the model used\n",
    "    device=device\n",
    ")"
   ]
  },
  {
   "cell_type": "code",
   "execution_count": 11,
   "id": "4c5600bd80413a32",
   "metadata": {
    "ExecuteTime": {
     "end_time": "2023-10-09T04:12:05.510374Z",
     "start_time": "2023-10-09T03:52:01.804123Z"
    },
    "is_executing": true
   },
   "outputs": [
    {
     "name": "stderr",
     "output_type": "stream",
     "text": [
      "15:06:45 2023-10-11 - PipelineTS - There are a total of 21 models to be trained.\n",
      "15:06:45 2023-10-11 - PipelineTS - [model  0] fitting and evaluating auto_arima...\n",
      "15:08:21 2023-10-11 - PipelineTS - [model  1] fitting and evaluating catboost...\n",
      "15:09:01 2023-10-11 - PipelineTS - [model  2] fitting and evaluating d_linear...\n",
      "15:09:18 2023-10-11 - PipelineTS - [model  3] fitting and evaluating gau...\n",
      "15:13:17 2023-10-11 - PipelineTS - [model  4] fitting and evaluating lightgbm_1...\n",
      "15:13:31 2023-10-11 - PipelineTS - [model  5] fitting and evaluating multi_output_model_1...\n",
      "15:13:44 2023-10-11 - PipelineTS - [model  6] fitting and evaluating multi_output_model_2...\n",
      "15:13:52 2023-10-11 - PipelineTS - [model  7] fitting and evaluating multi_output_model_3...\n",
      "15:14:36 2023-10-11 - PipelineTS - [model  8] fitting and evaluating multi_step_model_1...\n",
      "15:14:37 2023-10-11 - PipelineTS - [model  9] fitting and evaluating n_beats...\n",
      "15:15:10 2023-10-11 - PipelineTS - [model 10] fitting and evaluating n_hits...\n",
      "15:16:09 2023-10-11 - PipelineTS - [model 11] fitting and evaluating n_linear...\n",
      "15:16:24 2023-10-11 - PipelineTS - [model 12] fitting and evaluating prophet...\n",
      "15:16:26 2023-10-11 - PipelineTS - [model 13] fitting and evaluating random_forest...\n",
      "15:16:30 2023-10-11 - PipelineTS - [model 14] fitting and evaluating stacking_rnn...\n",
      "15:27:33 2023-10-11 - PipelineTS - [model 15] fitting and evaluating tcn...\n",
      "15:29:39 2023-10-11 - PipelineTS - [model 16] fitting and evaluating tft...\n",
      "15:33:07 2023-10-11 - PipelineTS - [model 17] fitting and evaluating time2vec...\n",
      "15:37:50 2023-10-11 - PipelineTS - [model 18] fitting and evaluating transformer...\n",
      "15:43:32 2023-10-11 - PipelineTS - [model 19] fitting and evaluating wide_gbrt...\n",
      "15:44:10 2023-10-11 - PipelineTS - [model 20] fitting and evaluating xgboost...\n"
     ]
    },
    {
     "data": {
      "text/html": [
       "<div>\n",
       "<style scoped>\n",
       "    .dataframe tbody tr th:only-of-type {\n",
       "        vertical-align: middle;\n",
       "    }\n",
       "\n",
       "    .dataframe tbody tr th {\n",
       "        vertical-align: top;\n",
       "    }\n",
       "\n",
       "    .dataframe thead th {\n",
       "        text-align: right;\n",
       "    }\n",
       "</style>\n",
       "<table border=\"1\" class=\"dataframe\">\n",
       "  <thead>\n",
       "    <tr style=\"text-align: right;\">\n",
       "      <th>Leaderboard</th>\n",
       "      <th>model</th>\n",
       "      <th>train_cost(s)</th>\n",
       "      <th>eval_cost(s)</th>\n",
       "      <th>metric</th>\n",
       "    </tr>\n",
       "  </thead>\n",
       "  <tbody>\n",
       "    <tr>\n",
       "      <th>0</th>\n",
       "      <td>auto_arima</td>\n",
       "      <td>96.177089</td>\n",
       "      <td>0.007294</td>\n",
       "      <td>450.038614</td>\n",
       "    </tr>\n",
       "    <tr>\n",
       "      <th>1</th>\n",
       "      <td>n_beats</td>\n",
       "      <td>32.933662</td>\n",
       "      <td>0.009357</td>\n",
       "      <td>753.716813</td>\n",
       "    </tr>\n",
       "    <tr>\n",
       "      <th>2</th>\n",
       "      <td>random_forest</td>\n",
       "      <td>4.491950</td>\n",
       "      <td>0.003276</td>\n",
       "      <td>790.574655</td>\n",
       "    </tr>\n",
       "    <tr>\n",
       "      <th>3</th>\n",
       "      <td>multi_output_model_2</td>\n",
       "      <td>8.096111</td>\n",
       "      <td>0.008766</td>\n",
       "      <td>796.223463</td>\n",
       "    </tr>\n",
       "    <tr>\n",
       "      <th>4</th>\n",
       "      <td>wide_gbrt</td>\n",
       "      <td>37.411619</td>\n",
       "      <td>0.010271</td>\n",
       "      <td>892.112540</td>\n",
       "    </tr>\n",
       "    <tr>\n",
       "      <th>5</th>\n",
       "      <td>multi_output_model_3</td>\n",
       "      <td>43.992002</td>\n",
       "      <td>0.011475</td>\n",
       "      <td>1216.259589</td>\n",
       "    </tr>\n",
       "    <tr>\n",
       "      <th>6</th>\n",
       "      <td>n_hits</td>\n",
       "      <td>59.587177</td>\n",
       "      <td>0.009501</td>\n",
       "      <td>1344.893099</td>\n",
       "    </tr>\n",
       "    <tr>\n",
       "      <th>7</th>\n",
       "      <td>lightgbm_1</td>\n",
       "      <td>13.954615</td>\n",
       "      <td>0.012955</td>\n",
       "      <td>1396.929496</td>\n",
       "    </tr>\n",
       "    <tr>\n",
       "      <th>8</th>\n",
       "      <td>stacking_rnn</td>\n",
       "      <td>662.624487</td>\n",
       "      <td>0.002053</td>\n",
       "      <td>1414.918735</td>\n",
       "    </tr>\n",
       "    <tr>\n",
       "      <th>9</th>\n",
       "      <td>multi_output_model_1</td>\n",
       "      <td>13.614770</td>\n",
       "      <td>0.011885</td>\n",
       "      <td>1509.258124</td>\n",
       "    </tr>\n",
       "    <tr>\n",
       "      <th>10</th>\n",
       "      <td>gau</td>\n",
       "      <td>238.270517</td>\n",
       "      <td>0.001267</td>\n",
       "      <td>1914.721487</td>\n",
       "    </tr>\n",
       "    <tr>\n",
       "      <th>11</th>\n",
       "      <td>catboost</td>\n",
       "      <td>40.448393</td>\n",
       "      <td>0.013750</td>\n",
       "      <td>2012.373817</td>\n",
       "    </tr>\n",
       "    <tr>\n",
       "      <th>12</th>\n",
       "      <td>prophet</td>\n",
       "      <td>1.466017</td>\n",
       "      <td>0.019577</td>\n",
       "      <td>2051.187279</td>\n",
       "    </tr>\n",
       "    <tr>\n",
       "      <th>13</th>\n",
       "      <td>multi_step_model_1</td>\n",
       "      <td>0.499090</td>\n",
       "      <td>0.010327</td>\n",
       "      <td>2082.644733</td>\n",
       "    </tr>\n",
       "    <tr>\n",
       "      <th>14</th>\n",
       "      <td>xgboost</td>\n",
       "      <td>6.062897</td>\n",
       "      <td>0.005917</td>\n",
       "      <td>2252.036198</td>\n",
       "    </tr>\n",
       "    <tr>\n",
       "      <th>15</th>\n",
       "      <td>n_linear</td>\n",
       "      <td>14.718667</td>\n",
       "      <td>0.009468</td>\n",
       "      <td>3135.406380</td>\n",
       "    </tr>\n",
       "    <tr>\n",
       "      <th>16</th>\n",
       "      <td>time2vec</td>\n",
       "      <td>283.258577</td>\n",
       "      <td>0.001097</td>\n",
       "      <td>3240.546584</td>\n",
       "    </tr>\n",
       "    <tr>\n",
       "      <th>17</th>\n",
       "      <td>d_linear</td>\n",
       "      <td>16.993486</td>\n",
       "      <td>0.010386</td>\n",
       "      <td>3314.548210</td>\n",
       "    </tr>\n",
       "    <tr>\n",
       "      <th>18</th>\n",
       "      <td>tcn</td>\n",
       "      <td>126.485992</td>\n",
       "      <td>0.010962</td>\n",
       "      <td>4230.062402</td>\n",
       "    </tr>\n",
       "    <tr>\n",
       "      <th>19</th>\n",
       "      <td>tft</td>\n",
       "      <td>207.293453</td>\n",
       "      <td>0.014487</td>\n",
       "      <td>4426.963118</td>\n",
       "    </tr>\n",
       "    <tr>\n",
       "      <th>20</th>\n",
       "      <td>transformer</td>\n",
       "      <td>342.324902</td>\n",
       "      <td>0.014786</td>\n",
       "      <td>4775.506966</td>\n",
       "    </tr>\n",
       "  </tbody>\n",
       "</table>\n",
       "</div>"
      ],
      "text/plain": [
       "Leaderboard                 model  train_cost(s)  eval_cost(s)       metric\n",
       "0                      auto_arima      96.177089      0.007294   450.038614\n",
       "1                         n_beats      32.933662      0.009357   753.716813\n",
       "2                   random_forest       4.491950      0.003276   790.574655\n",
       "3            multi_output_model_2       8.096111      0.008766   796.223463\n",
       "4                       wide_gbrt      37.411619      0.010271   892.112540\n",
       "5            multi_output_model_3      43.992002      0.011475  1216.259589\n",
       "6                          n_hits      59.587177      0.009501  1344.893099\n",
       "7                      lightgbm_1      13.954615      0.012955  1396.929496\n",
       "8                    stacking_rnn     662.624487      0.002053  1414.918735\n",
       "9            multi_output_model_1      13.614770      0.011885  1509.258124\n",
       "10                            gau     238.270517      0.001267  1914.721487\n",
       "11                       catboost      40.448393      0.013750  2012.373817\n",
       "12                        prophet       1.466017      0.019577  2051.187279\n",
       "13             multi_step_model_1       0.499090      0.010327  2082.644733\n",
       "14                        xgboost       6.062897      0.005917  2252.036198\n",
       "15                       n_linear      14.718667      0.009468  3135.406380\n",
       "16                       time2vec     283.258577      0.001097  3240.546584\n",
       "17                       d_linear      16.993486      0.010386  3314.548210\n",
       "18                            tcn     126.485992      0.010962  4230.062402\n",
       "19                            tft     207.293453      0.014487  4426.963118\n",
       "20                    transformer     342.324902      0.014786  4775.506966"
      ]
     },
     "execution_count": 11,
     "metadata": {},
     "output_type": "execute_result"
    }
   ],
   "source": [
    "pipeline.fit(data, valid_data=valid_data)"
   ]
  },
  {
   "cell_type": "code",
   "execution_count": 12,
   "id": "2524a3a2-41a3-41c1-ae3a-e5eb27472ba2",
   "metadata": {},
   "outputs": [
    {
     "data": {
      "image/png": "[encoded data removed]",
      "text/plain": [
       "<Figure size 640x480 with 1 Axes>"
      ]
     },
     "metadata": {},
     "output_type": "display_data"
    }
   ],
   "source": [
    "prediction = pipeline.predict(n)\n",
    "\n",
    "plot_data_period(init_data.iloc[-100:, :], prediction, \n",
    "                 time_col=time_col, target_col=target_col)"
   ]
  },
  {
   "cell_type": "code",
   "execution_count": null,
   "id": "231443e8-327b-4dca-8ae4-bb654e9f9f73",
   "metadata": {},
   "outputs": [],
   "source": [
    "# Gets all configurations for the specified model\n",
    "pipeline.get_models('auto_arima').all_configs"
   ]
  },
  {
   "cell_type": "markdown",
   "id": "f3623584-c4d2-4578-81b4-143723ab4996",
   "metadata": {},
   "source": [
    "## quantile prediction"
   ]
  },
  {
   "cell_type": "code",
   "execution_count": 13,
   "id": "2336f8d5-83a9-4ac4-9801-d846934b59f8",
   "metadata": {},
   "outputs": [],
   "source": [
    "from sklearn.metrics import mean_absolute_error\n",
    "\n",
    "from PipelineTS.pipeline import PipelineTS\n",
    "\n",
    "pipeline2 = PipelineTS(\n",
    "    time_col=time_col, \n",
    "    target_col=target_col, \n",
    "    lags=lags, \n",
    "    random_state=42, \n",
    "    metric=mean_absolute_error, \n",
    "    metric_less_is_better=True,\n",
    "    configs=pipeline_configs,\n",
    "    include_init_config_model=False,\n",
    "    use_standard_scale=False,\n",
    "    with_quantile_prediction=True,   # turn on the quantile prediction switch\n",
    "    device=device\n",
    ")"
   ]
  },
  {
   "cell_type": "code",
   "execution_count": null,
   "id": "bcb4c571-f32d-4f8e-993d-3a2d5209af10",
   "metadata": {},
   "outputs": [
    {
     "name": "stderr",
     "output_type": "stream",
     "text": [
      "15:44:16 2023-10-11 - PipelineTS - There are a total of 21 models to be trained.\n",
      "15:44:16 2023-10-11 - PipelineTS - [model  0] fitting and evaluating auto_arima...\n",
      "15:47:44 2023-10-11 - PipelineTS - [model  1] fitting and evaluating catboost...\n",
      "15:51:19 2023-10-11 - PipelineTS - [model  2] fitting and evaluating d_linear...\n",
      "15:52:10 2023-10-11 - PipelineTS - [model  3] fitting and evaluating gau...\n",
      "16:15:31 2023-10-11 - PipelineTS - [model  4] fitting and evaluating lightgbm_1...\n",
      "16:17:08 2023-10-11 - PipelineTS - [model  5] fitting and evaluating multi_output_model_1...\n",
      "16:19:07 2023-10-11 - PipelineTS - [model  6] fitting and evaluating multi_output_model_2...\n",
      "16:20:05 2023-10-11 - PipelineTS - [model  7] fitting and evaluating multi_output_model_3...\n",
      "16:24:00 2023-10-11 - PipelineTS - [model  8] fitting and evaluating multi_step_model_1...\n",
      "16:24:03 2023-10-11 - PipelineTS - [model  9] fitting and evaluating n_beats...\n",
      "16:25:59 2023-10-11 - PipelineTS - [model 10] fitting and evaluating n_hits...\n",
      "16:29:09 2023-10-11 - PipelineTS - [model 11] fitting and evaluating n_linear...\n",
      "16:29:55 2023-10-11 - PipelineTS - [model 12] fitting and evaluating prophet...\n",
      "16:29:56 2023-10-11 - PipelineTS - [model 13] fitting and evaluating random_forest...\n",
      "16:30:10 2023-10-11 - PipelineTS - [model 14] fitting and evaluating stacking_rnn...\n"
     ]
    }
   ],
   "source": [
    "pipeline2.fit(data, valid_data)"
   ]
  },
  {
   "cell_type": "code",
   "execution_count": null,
   "id": "7d4e901a-540e-4abd-a93b-1a94e259cc12",
   "metadata": {},
   "outputs": [],
   "source": [
    "prediction = pipeline2.predict(n, 'n_beats')\n",
    "\n",
    "plot_data_period(init_data.iloc[-30:, :], prediction, \n",
    "                 time_col=time_col, target_col=target_col)"
   ]
  },
  {
   "cell_type": "code",
   "execution_count": null,
   "id": "b7e2414e-5a8a-40b8-8c99-a39842257e45",
   "metadata": {},
   "outputs": [],
   "source": []
  }
 ],
 "metadata": {
  "hide_input": false,
  "kernelspec": {
   "display_name": "Python 3 (ipykernel)",
   "language": "python",
   "name": "python3"
  },
  "language_info": {
   "codemirror_mode": {
    "name": "ipython",
    "version": 3
   },
   "file_extension": ".py",
   "mimetype": "text/x-python",
   "name": "python",
   "nbconvert_exporter": "python",
   "pygments_lexer": "ipython3",
   "version": "3.11.5"
  }
 },
 "nbformat": 4,
 "nbformat_minor": 5
}

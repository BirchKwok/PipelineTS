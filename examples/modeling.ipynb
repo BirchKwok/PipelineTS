{
 "cells": [
  {
   "cell_type": "code",
   "execution_count": 1,
   "outputs": [],
   "source": [
    "from PipelineTS.dataset import LoadWebSales"
   ],
   "metadata": {
    "collapsed": false,
    "ExecuteTime": {
     "end_time": "2023-10-07T09:20:45.641358Z",
     "start_time": "2023-10-07T09:20:44.273968Z"
    }
   },
   "id": "initial_id"
  },
  {
   "cell_type": "code",
   "execution_count": 2,
   "outputs": [
    {
     "data": {
      "text/plain": "            date  type_a\n2084  2021-09-09    8234\n2085  2021-09-10    7825\n2086  2021-09-11    8461\n2087  2021-09-12    8159\n2088  2021-09-13    8881",
      "text/html": "<div>\n<style scoped>\n    .dataframe tbody tr th:only-of-type {\n        vertical-align: middle;\n    }\n\n    .dataframe tbody tr th {\n        vertical-align: top;\n    }\n\n    .dataframe thead th {\n        text-align: right;\n    }\n</style>\n<table border=\"1\" class=\"dataframe\">\n  <thead>\n    <tr style=\"text-align: right;\">\n      <th></th>\n      <th>date</th>\n      <th>type_a</th>\n    </tr>\n  </thead>\n  <tbody>\n    <tr>\n      <th>2084</th>\n      <td>2021-09-09</td>\n      <td>8234</td>\n    </tr>\n    <tr>\n      <th>2085</th>\n      <td>2021-09-10</td>\n      <td>7825</td>\n    </tr>\n    <tr>\n      <th>2086</th>\n      <td>2021-09-11</td>\n      <td>8461</td>\n    </tr>\n    <tr>\n      <th>2087</th>\n      <td>2021-09-12</td>\n      <td>8159</td>\n    </tr>\n    <tr>\n      <th>2088</th>\n      <td>2021-09-13</td>\n      <td>8881</td>\n    </tr>\n  </tbody>\n</table>\n</div>"
     },
     "execution_count": 2,
     "metadata": {},
     "output_type": "execute_result"
    }
   ],
   "source": [
    "data = LoadWebSales()[['date', 'type_a']]\n",
    "data.tail(5)"
   ],
   "metadata": {
    "collapsed": false,
    "ExecuteTime": {
     "end_time": "2023-10-07T09:20:45.649224Z",
     "start_time": "2023-10-07T09:20:45.642074Z"
    }
   },
   "id": "1aedc65ccc87bf0e"
  },
  {
   "cell_type": "code",
   "execution_count": 3,
   "outputs": [],
   "source": [
    "data = data.iloc[:-30, :]\n",
    "valid_data = data.iloc[-30:, :]"
   ],
   "metadata": {
    "collapsed": false,
    "ExecuteTime": {
     "end_time": "2023-10-07T09:20:45.654413Z",
     "start_time": "2023-10-07T09:20:45.649691Z"
    }
   },
   "id": "f41ab58699aa3b30"
  },
  {
   "cell_type": "markdown",
   "source": [
    "# WideGBRT model"
   ],
   "metadata": {
    "collapsed": false
   },
   "id": "2bc20bc75f998382"
  },
  {
   "cell_type": "code",
   "execution_count": 4,
   "outputs": [
    {
     "data": {
      "text/plain": "<PipelineTS.ml_model.wide_gbrt.WideGBRTModel at 0x169a84650>"
     },
     "execution_count": 4,
     "metadata": {},
     "output_type": "execute_result"
    }
   ],
   "source": [
    "from PipelineTS.ml_model import WideGBRTModel\n",
    "\n",
    "wide_gbrt = WideGBRTModel(time_col='date', target_col='type_a', lags=30, random_state=42)\n",
    "wide_gbrt.fit(data)"
   ],
   "metadata": {
    "collapsed": false,
    "ExecuteTime": {
     "end_time": "2023-10-07T03:54:58.821715Z",
     "start_time": "2023-10-07T03:53:38.916672Z"
    }
   },
   "id": "e5fb07ebbd18610a"
  },
  {
   "cell_type": "code",
   "execution_count": 7,
   "outputs": [
    {
     "data": {
      "text/plain": "         date        type_a  type_a_lower  type_a_upper\n0  2021-08-25   9845.032357   9822.804660   9867.260054\n1  2021-08-26   9208.385637   9187.595334   9229.175940\n2  2021-08-27   9086.939983   9066.423875   9107.456091\n3  2021-08-28  10348.522843  10325.158387  10371.887299\n4  2021-08-29   9476.127464   9454.732665   9497.522263\n5  2021-08-30   9399.110885   9377.889971   9420.331800\n6  2021-08-31   9630.933955   9609.189641   9652.678270\n7  2021-09-01   9243.463037   9222.593538   9264.332537\n8  2021-09-02   8918.230346   8898.095143   8938.365548\n9  2021-09-03   9431.425672   9410.131799   9452.719545\n10 2021-09-04   9697.115599   9675.221862   9719.009336\n11 2021-09-05   9088.692124   9068.172060   9109.212188\n12 2021-09-06   8709.913571   8690.248697   8729.578445\n13 2021-09-07   8742.361470   8722.623336   8762.099603\n14 2021-09-08   8466.238274   8447.123560   8485.352988\n15 2021-09-09   8280.583114   8261.887565   8299.278664\n16 2021-09-10   8339.183262   8320.355407   8358.011117\n17 2021-09-11   8969.401745   8949.151010   8989.652480\n18 2021-09-12   8993.990090   8973.683840   9014.296340\n19 2021-09-13   8802.017953   8782.145130   8821.890776\n20 2021-09-14   8811.923592   8792.028404   8831.818780\n21 2021-09-15   8458.432573   8439.335482   8477.529663\n22 2021-09-16   8553.402624   8534.091114   8572.714134\n23 2021-09-17   8809.777342   8789.887000   8829.667684\n24 2021-09-18   9195.764655   9175.002847   9216.526463\n25 2021-09-19   9466.799241   9445.425503   9488.172979\n26 2021-09-20   9268.654144   9247.727769   9289.580518\n27 2021-09-21   9125.567776   9104.964456   9146.171096\n28 2021-09-22   8928.941786   8908.782400   8949.101172\n29 2021-09-23   8111.469642   8093.155909   8129.783374\n30 2021-09-24   9487.007698   9465.588334   9508.427062\n31 2021-09-25   9207.637981   9186.849366   9228.426596\n32 2021-09-26  10245.605420  10222.473326  10268.737513\n33 2021-09-27   9680.827905   9658.970942   9702.684868\n34 2021-09-28   9844.479229   9822.252781   9866.705677\n35 2021-09-29   9525.095981   9503.590623   9546.601339\n36 2021-09-30   9619.254619   9597.536674   9640.972565\n37 2021-10-01   9061.749973   9041.290738   9082.209208\n38 2021-10-02   9317.896147   9296.858595   9338.933698\n39 2021-10-03  10631.748263  10607.744352  10655.752173",
      "text/html": "<div>\n<style scoped>\n    .dataframe tbody tr th:only-of-type {\n        vertical-align: middle;\n    }\n\n    .dataframe tbody tr th {\n        vertical-align: top;\n    }\n\n    .dataframe thead th {\n        text-align: right;\n    }\n</style>\n<table border=\"1\" class=\"dataframe\">\n  <thead>\n    <tr style=\"text-align: right;\">\n      <th></th>\n      <th>date</th>\n      <th>type_a</th>\n      <th>type_a_lower</th>\n      <th>type_a_upper</th>\n    </tr>\n  </thead>\n  <tbody>\n    <tr>\n      <th>0</th>\n      <td>2021-08-25</td>\n      <td>9845.032357</td>\n      <td>9822.804660</td>\n      <td>9867.260054</td>\n    </tr>\n    <tr>\n      <th>1</th>\n      <td>2021-08-26</td>\n      <td>9208.385637</td>\n      <td>9187.595334</td>\n      <td>9229.175940</td>\n    </tr>\n    <tr>\n      <th>2</th>\n      <td>2021-08-27</td>\n      <td>9086.939983</td>\n      <td>9066.423875</td>\n      <td>9107.456091</td>\n    </tr>\n    <tr>\n      <th>3</th>\n      <td>2021-08-28</td>\n      <td>10348.522843</td>\n      <td>10325.158387</td>\n      <td>10371.887299</td>\n    </tr>\n    <tr>\n      <th>4</th>\n      <td>2021-08-29</td>\n      <td>9476.127464</td>\n      <td>9454.732665</td>\n      <td>9497.522263</td>\n    </tr>\n    <tr>\n      <th>5</th>\n      <td>2021-08-30</td>\n      <td>9399.110885</td>\n      <td>9377.889971</td>\n      <td>9420.331800</td>\n    </tr>\n    <tr>\n      <th>6</th>\n      <td>2021-08-31</td>\n      <td>9630.933955</td>\n      <td>9609.189641</td>\n      <td>9652.678270</td>\n    </tr>\n    <tr>\n      <th>7</th>\n      <td>2021-09-01</td>\n      <td>9243.463037</td>\n      <td>9222.593538</td>\n      <td>9264.332537</td>\n    </tr>\n    <tr>\n      <th>8</th>\n      <td>2021-09-02</td>\n      <td>8918.230346</td>\n      <td>8898.095143</td>\n      <td>8938.365548</td>\n    </tr>\n    <tr>\n      <th>9</th>\n      <td>2021-09-03</td>\n      <td>9431.425672</td>\n      <td>9410.131799</td>\n      <td>9452.719545</td>\n    </tr>\n    <tr>\n      <th>10</th>\n      <td>2021-09-04</td>\n      <td>9697.115599</td>\n      <td>9675.221862</td>\n      <td>9719.009336</td>\n    </tr>\n    <tr>\n      <th>11</th>\n      <td>2021-09-05</td>\n      <td>9088.692124</td>\n      <td>9068.172060</td>\n      <td>9109.212188</td>\n    </tr>\n    <tr>\n      <th>12</th>\n      <td>2021-09-06</td>\n      <td>8709.913571</td>\n      <td>8690.248697</td>\n      <td>8729.578445</td>\n    </tr>\n    <tr>\n      <th>13</th>\n      <td>2021-09-07</td>\n      <td>8742.361470</td>\n      <td>8722.623336</td>\n      <td>8762.099603</td>\n    </tr>\n    <tr>\n      <th>14</th>\n      <td>2021-09-08</td>\n      <td>8466.238274</td>\n      <td>8447.123560</td>\n      <td>8485.352988</td>\n    </tr>\n    <tr>\n      <th>15</th>\n      <td>2021-09-09</td>\n      <td>8280.583114</td>\n      <td>8261.887565</td>\n      <td>8299.278664</td>\n    </tr>\n    <tr>\n      <th>16</th>\n      <td>2021-09-10</td>\n      <td>8339.183262</td>\n      <td>8320.355407</td>\n      <td>8358.011117</td>\n    </tr>\n    <tr>\n      <th>17</th>\n      <td>2021-09-11</td>\n      <td>8969.401745</td>\n      <td>8949.151010</td>\n      <td>8989.652480</td>\n    </tr>\n    <tr>\n      <th>18</th>\n      <td>2021-09-12</td>\n      <td>8993.990090</td>\n      <td>8973.683840</td>\n      <td>9014.296340</td>\n    </tr>\n    <tr>\n      <th>19</th>\n      <td>2021-09-13</td>\n      <td>8802.017953</td>\n      <td>8782.145130</td>\n      <td>8821.890776</td>\n    </tr>\n    <tr>\n      <th>20</th>\n      <td>2021-09-14</td>\n      <td>8811.923592</td>\n      <td>8792.028404</td>\n      <td>8831.818780</td>\n    </tr>\n    <tr>\n      <th>21</th>\n      <td>2021-09-15</td>\n      <td>8458.432573</td>\n      <td>8439.335482</td>\n      <td>8477.529663</td>\n    </tr>\n    <tr>\n      <th>22</th>\n      <td>2021-09-16</td>\n      <td>8553.402624</td>\n      <td>8534.091114</td>\n      <td>8572.714134</td>\n    </tr>\n    <tr>\n      <th>23</th>\n      <td>2021-09-17</td>\n      <td>8809.777342</td>\n      <td>8789.887000</td>\n      <td>8829.667684</td>\n    </tr>\n    <tr>\n      <th>24</th>\n      <td>2021-09-18</td>\n      <td>9195.764655</td>\n      <td>9175.002847</td>\n      <td>9216.526463</td>\n    </tr>\n    <tr>\n      <th>25</th>\n      <td>2021-09-19</td>\n      <td>9466.799241</td>\n      <td>9445.425503</td>\n      <td>9488.172979</td>\n    </tr>\n    <tr>\n      <th>26</th>\n      <td>2021-09-20</td>\n      <td>9268.654144</td>\n      <td>9247.727769</td>\n      <td>9289.580518</td>\n    </tr>\n    <tr>\n      <th>27</th>\n      <td>2021-09-21</td>\n      <td>9125.567776</td>\n      <td>9104.964456</td>\n      <td>9146.171096</td>\n    </tr>\n    <tr>\n      <th>28</th>\n      <td>2021-09-22</td>\n      <td>8928.941786</td>\n      <td>8908.782400</td>\n      <td>8949.101172</td>\n    </tr>\n    <tr>\n      <th>29</th>\n      <td>2021-09-23</td>\n      <td>8111.469642</td>\n      <td>8093.155909</td>\n      <td>8129.783374</td>\n    </tr>\n    <tr>\n      <th>30</th>\n      <td>2021-09-24</td>\n      <td>9487.007698</td>\n      <td>9465.588334</td>\n      <td>9508.427062</td>\n    </tr>\n    <tr>\n      <th>31</th>\n      <td>2021-09-25</td>\n      <td>9207.637981</td>\n      <td>9186.849366</td>\n      <td>9228.426596</td>\n    </tr>\n    <tr>\n      <th>32</th>\n      <td>2021-09-26</td>\n      <td>10245.605420</td>\n      <td>10222.473326</td>\n      <td>10268.737513</td>\n    </tr>\n    <tr>\n      <th>33</th>\n      <td>2021-09-27</td>\n      <td>9680.827905</td>\n      <td>9658.970942</td>\n      <td>9702.684868</td>\n    </tr>\n    <tr>\n      <th>34</th>\n      <td>2021-09-28</td>\n      <td>9844.479229</td>\n      <td>9822.252781</td>\n      <td>9866.705677</td>\n    </tr>\n    <tr>\n      <th>35</th>\n      <td>2021-09-29</td>\n      <td>9525.095981</td>\n      <td>9503.590623</td>\n      <td>9546.601339</td>\n    </tr>\n    <tr>\n      <th>36</th>\n      <td>2021-09-30</td>\n      <td>9619.254619</td>\n      <td>9597.536674</td>\n      <td>9640.972565</td>\n    </tr>\n    <tr>\n      <th>37</th>\n      <td>2021-10-01</td>\n      <td>9061.749973</td>\n      <td>9041.290738</td>\n      <td>9082.209208</td>\n    </tr>\n    <tr>\n      <th>38</th>\n      <td>2021-10-02</td>\n      <td>9317.896147</td>\n      <td>9296.858595</td>\n      <td>9338.933698</td>\n    </tr>\n    <tr>\n      <th>39</th>\n      <td>2021-10-03</td>\n      <td>10631.748263</td>\n      <td>10607.744352</td>\n      <td>10655.752173</td>\n    </tr>\n  </tbody>\n</table>\n</div>"
     },
     "execution_count": 7,
     "metadata": {},
     "output_type": "execute_result"
    }
   ],
   "source": [
    "wide_gbrt.predict(40)"
   ],
   "metadata": {
    "collapsed": false,
    "ExecuteTime": {
     "end_time": "2023-10-07T03:55:16.883466Z",
     "start_time": "2023-10-07T03:55:16.879169Z"
    }
   },
   "id": "ae018097e9e92f93"
  },
  {
   "cell_type": "markdown",
   "source": [
    "# ProphetModel"
   ],
   "metadata": {
    "collapsed": false
   },
   "id": "2e647b3753eeba2e"
  },
  {
   "cell_type": "code",
   "execution_count": 4,
   "outputs": [],
   "source": [
    "from PipelineTS.statistic_model import ProphetModel\n",
    "model = ProphetModel(time_col='date', target_col='type_a')"
   ],
   "metadata": {
    "collapsed": false,
    "ExecuteTime": {
     "end_time": "2023-10-07T09:20:49.889053Z",
     "start_time": "2023-10-07T09:20:48.970246Z"
    }
   },
   "id": "cd949e95cc118c30"
  },
  {
   "cell_type": "code",
   "execution_count": 5,
   "outputs": [
    {
     "data": {
      "text/plain": "<PipelineTS.statistic_model.prophet.ProphetModel at 0x294880fd0>"
     },
     "execution_count": 5,
     "metadata": {},
     "output_type": "execute_result"
    }
   ],
   "source": [
    "model.fit(data)"
   ],
   "metadata": {
    "collapsed": false,
    "ExecuteTime": {
     "end_time": "2023-10-07T09:20:50.856635Z",
     "start_time": "2023-10-07T09:20:49.890177Z"
    }
   },
   "id": "e9b416f7b5e4b580"
  },
  {
   "cell_type": "code",
   "execution_count": 8,
   "outputs": [
    {
     "data": {
      "text/plain": "         date        type_a  type_a_lower  type_a_upper\n0  2021-08-15   5173.562865   5119.488692   5227.637038\n1  2021-08-16   9681.526466   9580.334976   9782.717956\n2  2021-08-17   9195.977917   9099.861389   9292.094444\n3  2021-08-18   8840.141283   8747.743966   8932.538600\n4  2021-08-19   8579.255668   8489.585133   8668.926204\n5  2021-08-20   8220.404602   8134.484784   8306.324420\n6  2021-08-21   6249.091332   6183.775716   6314.406948\n7  2021-08-22   6141.518392   6077.327130   6205.709653\n8  2021-08-23  10773.515705  10660.910723  10886.120686\n9  2021-08-24  10392.890130  10284.263454  10501.516806\n10 2021-08-25  10120.299896  10014.522338  10226.077454\n11 2021-08-26   9919.110056   9815.435338  10022.784774\n12 2021-08-27   9595.274797   9494.984810   9695.564783\n13 2021-08-28   7633.941360   7554.151267   7713.731454\n14 2021-08-29   7511.733179   7433.220408   7590.245950\n15 2021-08-30  12105.656486  11979.127945  12232.185027\n16 2021-08-31  11665.404104  11543.477089  11787.331119\n17 2021-09-01  11314.161442  11195.905621  11432.417262\n18 2021-09-02  11018.373107  10903.208871  11133.537342\n19 2021-09-03  10587.518903  10476.857964  10698.179843\n20 2021-09-04   8510.597475   8421.644556   8599.550394\n21 2021-09-05   8268.279095   8181.858892   8354.699298\n22 2021-09-06  12741.676143  12608.499913  12874.852373\n23 2021-09-07  12184.509385  12057.156672  12311.862098\n24 2021-09-08  11723.779581  11601.242424  11846.316738\n25 2021-09-09  11329.407192  11210.992023  11447.822361\n26 2021-09-10  10813.893133  10700.866126  10926.920140\n27 2021-09-11   8668.702576   8578.097140   8759.308013\n28 2021-09-12   8376.336637   8288.787015   8463.886259\n29 2021-09-13  12819.043149  12685.058278  12953.028021",
      "text/html": "<div>\n<style scoped>\n    .dataframe tbody tr th:only-of-type {\n        vertical-align: middle;\n    }\n\n    .dataframe tbody tr th {\n        vertical-align: top;\n    }\n\n    .dataframe thead th {\n        text-align: right;\n    }\n</style>\n<table border=\"1\" class=\"dataframe\">\n  <thead>\n    <tr style=\"text-align: right;\">\n      <th></th>\n      <th>date</th>\n      <th>type_a</th>\n      <th>type_a_lower</th>\n      <th>type_a_upper</th>\n    </tr>\n  </thead>\n  <tbody>\n    <tr>\n      <th>0</th>\n      <td>2021-08-15</td>\n      <td>5173.562865</td>\n      <td>5119.488692</td>\n      <td>5227.637038</td>\n    </tr>\n    <tr>\n      <th>1</th>\n      <td>2021-08-16</td>\n      <td>9681.526466</td>\n      <td>9580.334976</td>\n      <td>9782.717956</td>\n    </tr>\n    <tr>\n      <th>2</th>\n      <td>2021-08-17</td>\n      <td>9195.977917</td>\n      <td>9099.861389</td>\n      <td>9292.094444</td>\n    </tr>\n    <tr>\n      <th>3</th>\n      <td>2021-08-18</td>\n      <td>8840.141283</td>\n      <td>8747.743966</td>\n      <td>8932.538600</td>\n    </tr>\n    <tr>\n      <th>4</th>\n      <td>2021-08-19</td>\n      <td>8579.255668</td>\n      <td>8489.585133</td>\n      <td>8668.926204</td>\n    </tr>\n    <tr>\n      <th>5</th>\n      <td>2021-08-20</td>\n      <td>8220.404602</td>\n      <td>8134.484784</td>\n      <td>8306.324420</td>\n    </tr>\n    <tr>\n      <th>6</th>\n      <td>2021-08-21</td>\n      <td>6249.091332</td>\n      <td>6183.775716</td>\n      <td>6314.406948</td>\n    </tr>\n    <tr>\n      <th>7</th>\n      <td>2021-08-22</td>\n      <td>6141.518392</td>\n      <td>6077.327130</td>\n      <td>6205.709653</td>\n    </tr>\n    <tr>\n      <th>8</th>\n      <td>2021-08-23</td>\n      <td>10773.515705</td>\n      <td>10660.910723</td>\n      <td>10886.120686</td>\n    </tr>\n    <tr>\n      <th>9</th>\n      <td>2021-08-24</td>\n      <td>10392.890130</td>\n      <td>10284.263454</td>\n      <td>10501.516806</td>\n    </tr>\n    <tr>\n      <th>10</th>\n      <td>2021-08-25</td>\n      <td>10120.299896</td>\n      <td>10014.522338</td>\n      <td>10226.077454</td>\n    </tr>\n    <tr>\n      <th>11</th>\n      <td>2021-08-26</td>\n      <td>9919.110056</td>\n      <td>9815.435338</td>\n      <td>10022.784774</td>\n    </tr>\n    <tr>\n      <th>12</th>\n      <td>2021-08-27</td>\n      <td>9595.274797</td>\n      <td>9494.984810</td>\n      <td>9695.564783</td>\n    </tr>\n    <tr>\n      <th>13</th>\n      <td>2021-08-28</td>\n      <td>7633.941360</td>\n      <td>7554.151267</td>\n      <td>7713.731454</td>\n    </tr>\n    <tr>\n      <th>14</th>\n      <td>2021-08-29</td>\n      <td>7511.733179</td>\n      <td>7433.220408</td>\n      <td>7590.245950</td>\n    </tr>\n    <tr>\n      <th>15</th>\n      <td>2021-08-30</td>\n      <td>12105.656486</td>\n      <td>11979.127945</td>\n      <td>12232.185027</td>\n    </tr>\n    <tr>\n      <th>16</th>\n      <td>2021-08-31</td>\n      <td>11665.404104</td>\n      <td>11543.477089</td>\n      <td>11787.331119</td>\n    </tr>\n    <tr>\n      <th>17</th>\n      <td>2021-09-01</td>\n      <td>11314.161442</td>\n      <td>11195.905621</td>\n      <td>11432.417262</td>\n    </tr>\n    <tr>\n      <th>18</th>\n      <td>2021-09-02</td>\n      <td>11018.373107</td>\n      <td>10903.208871</td>\n      <td>11133.537342</td>\n    </tr>\n    <tr>\n      <th>19</th>\n      <td>2021-09-03</td>\n      <td>10587.518903</td>\n      <td>10476.857964</td>\n      <td>10698.179843</td>\n    </tr>\n    <tr>\n      <th>20</th>\n      <td>2021-09-04</td>\n      <td>8510.597475</td>\n      <td>8421.644556</td>\n      <td>8599.550394</td>\n    </tr>\n    <tr>\n      <th>21</th>\n      <td>2021-09-05</td>\n      <td>8268.279095</td>\n      <td>8181.858892</td>\n      <td>8354.699298</td>\n    </tr>\n    <tr>\n      <th>22</th>\n      <td>2021-09-06</td>\n      <td>12741.676143</td>\n      <td>12608.499913</td>\n      <td>12874.852373</td>\n    </tr>\n    <tr>\n      <th>23</th>\n      <td>2021-09-07</td>\n      <td>12184.509385</td>\n      <td>12057.156672</td>\n      <td>12311.862098</td>\n    </tr>\n    <tr>\n      <th>24</th>\n      <td>2021-09-08</td>\n      <td>11723.779581</td>\n      <td>11601.242424</td>\n      <td>11846.316738</td>\n    </tr>\n    <tr>\n      <th>25</th>\n      <td>2021-09-09</td>\n      <td>11329.407192</td>\n      <td>11210.992023</td>\n      <td>11447.822361</td>\n    </tr>\n    <tr>\n      <th>26</th>\n      <td>2021-09-10</td>\n      <td>10813.893133</td>\n      <td>10700.866126</td>\n      <td>10926.920140</td>\n    </tr>\n    <tr>\n      <th>27</th>\n      <td>2021-09-11</td>\n      <td>8668.702576</td>\n      <td>8578.097140</td>\n      <td>8759.308013</td>\n    </tr>\n    <tr>\n      <th>28</th>\n      <td>2021-09-12</td>\n      <td>8376.336637</td>\n      <td>8288.787015</td>\n      <td>8463.886259</td>\n    </tr>\n    <tr>\n      <th>29</th>\n      <td>2021-09-13</td>\n      <td>12819.043149</td>\n      <td>12685.058278</td>\n      <td>12953.028021</td>\n    </tr>\n  </tbody>\n</table>\n</div>"
     },
     "execution_count": 8,
     "metadata": {},
     "output_type": "execute_result"
    }
   ],
   "source": [
    "model.predict(30)"
   ],
   "metadata": {
    "collapsed": false,
    "ExecuteTime": {
     "end_time": "2023-10-07T09:21:24.032207Z",
     "start_time": "2023-10-07T09:21:24.000187Z"
    }
   },
   "id": "b1aede754576a621"
  },
  {
   "cell_type": "markdown",
   "source": [
    "# AutoARIMA"
   ],
   "metadata": {
    "collapsed": false
   },
   "id": "26f325e00fab98c1"
  },
  {
   "cell_type": "code",
   "execution_count": 9,
   "outputs": [],
   "source": [
    "from PipelineTS.statistic_model import AutoARIMAModel"
   ],
   "metadata": {
    "collapsed": false,
    "ExecuteTime": {
     "end_time": "2023-10-07T03:17:29.384714Z",
     "start_time": "2023-10-07T03:17:29.341131Z"
    }
   },
   "id": "fce4f3a0e971243b"
  },
  {
   "cell_type": "code",
   "execution_count": 10,
   "outputs": [
    {
     "data": {
      "text/plain": "<PipelineTS.statistic_model.autoarima.AutoARIMAModel at 0x298c00490>"
     },
     "execution_count": 10,
     "metadata": {},
     "output_type": "execute_result"
    }
   ],
   "source": [
    "auto_arima = AutoARIMAModel(time_col='date', target_col='type_a')\n",
    "auto_arima.fit(data=data)"
   ],
   "metadata": {
    "collapsed": false,
    "ExecuteTime": {
     "end_time": "2023-10-07T03:19:40.987831Z",
     "start_time": "2023-10-07T03:17:29.344862Z"
    }
   },
   "id": "8d9b8cccf22f6c1e"
  },
  {
   "cell_type": "code",
   "execution_count": 11,
   "outputs": [
    {
     "data": {
      "text/plain": "         date       type_a  type_a_lower  type_a_upper\n0  2021-08-15  8124.805268   8076.203340   8173.407196\n1  2021-08-16  8518.231577   8467.276205   8569.186949\n2  2021-08-17  8463.852404   8413.222324   8514.482484\n3  2021-08-18  8334.845938   8284.987564   8384.704312\n4  2021-08-19  8376.853656   8326.743995   8426.963317\n5  2021-08-20  8416.138748   8365.794087   8466.483409\n6  2021-08-21  8160.083454   8111.270495   8208.896413\n7  2021-08-22  8294.867276   8245.248051   8344.486501\n8  2021-08-23  8509.716657   8458.812220   8560.621094\n9  2021-08-24  8509.771020   8458.866259   8560.675782\n10 2021-08-25  8468.277612   8417.621061   8518.934164\n11 2021-08-26  8524.104175   8473.113673   8575.094676\n12 2021-08-27  8570.246883   8518.980360   8621.513407\n13 2021-08-28  8487.494921   8436.723413   8538.266429\n14 2021-08-29  8536.499310   8485.434662   8587.563958\n15 2021-08-30  8625.840048   8574.240970   8677.439125\n16 2021-08-31  8616.997715   8565.451532   8668.543898\n17 2021-09-01  8584.836247   8533.482451   8636.190043\n18 2021-09-02  8602.547693   8551.087949   8654.007437\n19 2021-09-03  8615.532916   8563.995495   8667.070337\n20 2021-09-04  8573.014416   8521.731337   8624.297495\n21 2021-09-05  8577.293662   8525.984985   8628.602338\n22 2021-09-06  8603.950476   8552.482340   8655.418612\n23 2021-09-07  8590.102116   8538.716821   8641.487412\n24 2021-09-08  8566.061102   8514.819617   8617.302586\n25 2021-09-09  8568.092690   8516.839053   8619.346327\n26 2021-09-10  8570.306124   8519.039246   8621.573002\n27 2021-09-11  8549.835696   8498.691270   8600.980121\n28 2021-09-12  8547.381758   8496.252011   8598.511504\n29 2021-09-13  8557.450908   8506.260929   8608.640887",
      "text/html": "<div>\n<style scoped>\n    .dataframe tbody tr th:only-of-type {\n        vertical-align: middle;\n    }\n\n    .dataframe tbody tr th {\n        vertical-align: top;\n    }\n\n    .dataframe thead th {\n        text-align: right;\n    }\n</style>\n<table border=\"1\" class=\"dataframe\">\n  <thead>\n    <tr style=\"text-align: right;\">\n      <th></th>\n      <th>date</th>\n      <th>type_a</th>\n      <th>type_a_lower</th>\n      <th>type_a_upper</th>\n    </tr>\n  </thead>\n  <tbody>\n    <tr>\n      <th>0</th>\n      <td>2021-08-15</td>\n      <td>8124.805268</td>\n      <td>8076.203340</td>\n      <td>8173.407196</td>\n    </tr>\n    <tr>\n      <th>1</th>\n      <td>2021-08-16</td>\n      <td>8518.231577</td>\n      <td>8467.276205</td>\n      <td>8569.186949</td>\n    </tr>\n    <tr>\n      <th>2</th>\n      <td>2021-08-17</td>\n      <td>8463.852404</td>\n      <td>8413.222324</td>\n      <td>8514.482484</td>\n    </tr>\n    <tr>\n      <th>3</th>\n      <td>2021-08-18</td>\n      <td>8334.845938</td>\n      <td>8284.987564</td>\n      <td>8384.704312</td>\n    </tr>\n    <tr>\n      <th>4</th>\n      <td>2021-08-19</td>\n      <td>8376.853656</td>\n      <td>8326.743995</td>\n      <td>8426.963317</td>\n    </tr>\n    <tr>\n      <th>5</th>\n      <td>2021-08-20</td>\n      <td>8416.138748</td>\n      <td>8365.794087</td>\n      <td>8466.483409</td>\n    </tr>\n    <tr>\n      <th>6</th>\n      <td>2021-08-21</td>\n      <td>8160.083454</td>\n      <td>8111.270495</td>\n      <td>8208.896413</td>\n    </tr>\n    <tr>\n      <th>7</th>\n      <td>2021-08-22</td>\n      <td>8294.867276</td>\n      <td>8245.248051</td>\n      <td>8344.486501</td>\n    </tr>\n    <tr>\n      <th>8</th>\n      <td>2021-08-23</td>\n      <td>8509.716657</td>\n      <td>8458.812220</td>\n      <td>8560.621094</td>\n    </tr>\n    <tr>\n      <th>9</th>\n      <td>2021-08-24</td>\n      <td>8509.771020</td>\n      <td>8458.866259</td>\n      <td>8560.675782</td>\n    </tr>\n    <tr>\n      <th>10</th>\n      <td>2021-08-25</td>\n      <td>8468.277612</td>\n      <td>8417.621061</td>\n      <td>8518.934164</td>\n    </tr>\n    <tr>\n      <th>11</th>\n      <td>2021-08-26</td>\n      <td>8524.104175</td>\n      <td>8473.113673</td>\n      <td>8575.094676</td>\n    </tr>\n    <tr>\n      <th>12</th>\n      <td>2021-08-27</td>\n      <td>8570.246883</td>\n      <td>8518.980360</td>\n      <td>8621.513407</td>\n    </tr>\n    <tr>\n      <th>13</th>\n      <td>2021-08-28</td>\n      <td>8487.494921</td>\n      <td>8436.723413</td>\n      <td>8538.266429</td>\n    </tr>\n    <tr>\n      <th>14</th>\n      <td>2021-08-29</td>\n      <td>8536.499310</td>\n      <td>8485.434662</td>\n      <td>8587.563958</td>\n    </tr>\n    <tr>\n      <th>15</th>\n      <td>2021-08-30</td>\n      <td>8625.840048</td>\n      <td>8574.240970</td>\n      <td>8677.439125</td>\n    </tr>\n    <tr>\n      <th>16</th>\n      <td>2021-08-31</td>\n      <td>8616.997715</td>\n      <td>8565.451532</td>\n      <td>8668.543898</td>\n    </tr>\n    <tr>\n      <th>17</th>\n      <td>2021-09-01</td>\n      <td>8584.836247</td>\n      <td>8533.482451</td>\n      <td>8636.190043</td>\n    </tr>\n    <tr>\n      <th>18</th>\n      <td>2021-09-02</td>\n      <td>8602.547693</td>\n      <td>8551.087949</td>\n      <td>8654.007437</td>\n    </tr>\n    <tr>\n      <th>19</th>\n      <td>2021-09-03</td>\n      <td>8615.532916</td>\n      <td>8563.995495</td>\n      <td>8667.070337</td>\n    </tr>\n    <tr>\n      <th>20</th>\n      <td>2021-09-04</td>\n      <td>8573.014416</td>\n      <td>8521.731337</td>\n      <td>8624.297495</td>\n    </tr>\n    <tr>\n      <th>21</th>\n      <td>2021-09-05</td>\n      <td>8577.293662</td>\n      <td>8525.984985</td>\n      <td>8628.602338</td>\n    </tr>\n    <tr>\n      <th>22</th>\n      <td>2021-09-06</td>\n      <td>8603.950476</td>\n      <td>8552.482340</td>\n      <td>8655.418612</td>\n    </tr>\n    <tr>\n      <th>23</th>\n      <td>2021-09-07</td>\n      <td>8590.102116</td>\n      <td>8538.716821</td>\n      <td>8641.487412</td>\n    </tr>\n    <tr>\n      <th>24</th>\n      <td>2021-09-08</td>\n      <td>8566.061102</td>\n      <td>8514.819617</td>\n      <td>8617.302586</td>\n    </tr>\n    <tr>\n      <th>25</th>\n      <td>2021-09-09</td>\n      <td>8568.092690</td>\n      <td>8516.839053</td>\n      <td>8619.346327</td>\n    </tr>\n    <tr>\n      <th>26</th>\n      <td>2021-09-10</td>\n      <td>8570.306124</td>\n      <td>8519.039246</td>\n      <td>8621.573002</td>\n    </tr>\n    <tr>\n      <th>27</th>\n      <td>2021-09-11</td>\n      <td>8549.835696</td>\n      <td>8498.691270</td>\n      <td>8600.980121</td>\n    </tr>\n    <tr>\n      <th>28</th>\n      <td>2021-09-12</td>\n      <td>8547.381758</td>\n      <td>8496.252011</td>\n      <td>8598.511504</td>\n    </tr>\n    <tr>\n      <th>29</th>\n      <td>2021-09-13</td>\n      <td>8557.450908</td>\n      <td>8506.260929</td>\n      <td>8608.640887</td>\n    </tr>\n  </tbody>\n</table>\n</div>"
     },
     "execution_count": 11,
     "metadata": {},
     "output_type": "execute_result"
    }
   ],
   "source": [
    "auto_arima.predict(30)"
   ],
   "metadata": {
    "collapsed": false,
    "ExecuteTime": {
     "end_time": "2023-10-07T03:19:41.034428Z",
     "start_time": "2023-10-07T03:19:40.990348Z"
    }
   },
   "id": "b7435540ac0c103b"
  },
  {
   "cell_type": "markdown",
   "source": [
    "# GBDT"
   ],
   "metadata": {
    "collapsed": false
   },
   "id": "67fc3f429664faa3"
  },
  {
   "cell_type": "code",
   "execution_count": 12,
   "outputs": [],
   "source": [
    "from PipelineTS.ml_model import *"
   ],
   "metadata": {
    "collapsed": false,
    "ExecuteTime": {
     "end_time": "2023-10-07T03:19:41.035485Z",
     "start_time": "2023-10-07T03:19:41.019508Z"
    }
   },
   "id": "a9001a0445699b9c"
  },
  {
   "cell_type": "markdown",
   "source": [
    "## CatBoost"
   ],
   "metadata": {
    "collapsed": false
   },
   "id": "8c179d9fecb41e8d"
  },
  {
   "cell_type": "code",
   "execution_count": 13,
   "outputs": [
    {
     "data": {
      "text/plain": "<PipelineTS.ml_model.gbdt.CatBoostModel at 0x298a3e050>"
     },
     "execution_count": 13,
     "metadata": {},
     "output_type": "execute_result"
    }
   ],
   "source": [
    "cbt = CatBoostModel(time_col='date', target_col='type_a', lags=30, random_state=42)\n",
    "cbt.fit(data=data)"
   ],
   "metadata": {
    "collapsed": false,
    "ExecuteTime": {
     "end_time": "2023-10-07T03:21:36.995118Z",
     "start_time": "2023-10-07T03:19:41.030778Z"
    }
   },
   "id": "f26435146287d96f"
  },
  {
   "cell_type": "code",
   "execution_count": 14,
   "outputs": [
    {
     "data": {
      "text/plain": "         date        type_a  type_a_lower  type_a_upper\n0  2021-08-15   8957.702695   9186.877964  10061.656014\n1  2021-08-16   9462.527744   9586.897964  10616.013265\n2  2021-08-17   9488.463671   9985.364724  11674.546360\n3  2021-08-18   9895.410365  10095.787030  11201.987898\n4  2021-08-19  10079.628816  10103.018523  11519.962973\n5  2021-08-20  10028.399849   9937.360584  11532.616508\n6  2021-08-21  10513.704042  10072.580996  12000.855901\n7  2021-08-22  10083.578903  10429.122653  11642.211980\n8  2021-08-23  10300.888269  10760.687004  11178.251293\n9  2021-08-24  10116.619723   9948.846896  11733.722030\n10 2021-08-25  10200.058567  10632.366375  12384.613391\n11 2021-08-26   9865.792925  10054.975143  12775.616793\n12 2021-08-27  10180.272466  10388.950962  13962.434199\n13 2021-08-28  10699.114405  10293.892991  14034.299210\n14 2021-08-29   9763.195875  10568.661764  14393.252695\n15 2021-08-30  10098.806321  10246.163843  12963.366545\n16 2021-08-31   9949.212864  10128.851126  13138.240681\n17 2021-09-01  10373.963150  10280.432818  13023.333401\n18 2021-09-02   9654.864416  10670.554782  13185.133501\n19 2021-09-03  10106.830338  10772.825867  13143.955462\n20 2021-09-04  10018.422089   9880.051418  13828.825647\n21 2021-09-05  10158.292910  10042.946182  13012.988822\n22 2021-09-06  10085.639944   9691.236951  13144.069861\n23 2021-09-07   9823.676476   9824.882432  13489.431298\n24 2021-09-08   9893.634778   9944.177064  14244.853548\n25 2021-09-09   9614.364138  10184.878547  14406.881368\n26 2021-09-10   8702.543445   9824.044494  13659.481086\n27 2021-09-11   8835.292408  10394.585168  13748.593274\n28 2021-09-12   8243.638494   9885.874596  13677.717856\n29 2021-09-13   8965.964696  10074.515190  13506.697486",
      "text/html": "<div>\n<style scoped>\n    .dataframe tbody tr th:only-of-type {\n        vertical-align: middle;\n    }\n\n    .dataframe tbody tr th {\n        vertical-align: top;\n    }\n\n    .dataframe thead th {\n        text-align: right;\n    }\n</style>\n<table border=\"1\" class=\"dataframe\">\n  <thead>\n    <tr style=\"text-align: right;\">\n      <th></th>\n      <th>date</th>\n      <th>type_a</th>\n      <th>type_a_lower</th>\n      <th>type_a_upper</th>\n    </tr>\n  </thead>\n  <tbody>\n    <tr>\n      <th>0</th>\n      <td>2021-08-15</td>\n      <td>8957.702695</td>\n      <td>9186.877964</td>\n      <td>10061.656014</td>\n    </tr>\n    <tr>\n      <th>1</th>\n      <td>2021-08-16</td>\n      <td>9462.527744</td>\n      <td>9586.897964</td>\n      <td>10616.013265</td>\n    </tr>\n    <tr>\n      <th>2</th>\n      <td>2021-08-17</td>\n      <td>9488.463671</td>\n      <td>9985.364724</td>\n      <td>11674.546360</td>\n    </tr>\n    <tr>\n      <th>3</th>\n      <td>2021-08-18</td>\n      <td>9895.410365</td>\n      <td>10095.787030</td>\n      <td>11201.987898</td>\n    </tr>\n    <tr>\n      <th>4</th>\n      <td>2021-08-19</td>\n      <td>10079.628816</td>\n      <td>10103.018523</td>\n      <td>11519.962973</td>\n    </tr>\n    <tr>\n      <th>5</th>\n      <td>2021-08-20</td>\n      <td>10028.399849</td>\n      <td>9937.360584</td>\n      <td>11532.616508</td>\n    </tr>\n    <tr>\n      <th>6</th>\n      <td>2021-08-21</td>\n      <td>10513.704042</td>\n      <td>10072.580996</td>\n      <td>12000.855901</td>\n    </tr>\n    <tr>\n      <th>7</th>\n      <td>2021-08-22</td>\n      <td>10083.578903</td>\n      <td>10429.122653</td>\n      <td>11642.211980</td>\n    </tr>\n    <tr>\n      <th>8</th>\n      <td>2021-08-23</td>\n      <td>10300.888269</td>\n      <td>10760.687004</td>\n      <td>11178.251293</td>\n    </tr>\n    <tr>\n      <th>9</th>\n      <td>2021-08-24</td>\n      <td>10116.619723</td>\n      <td>9948.846896</td>\n      <td>11733.722030</td>\n    </tr>\n    <tr>\n      <th>10</th>\n      <td>2021-08-25</td>\n      <td>10200.058567</td>\n      <td>10632.366375</td>\n      <td>12384.613391</td>\n    </tr>\n    <tr>\n      <th>11</th>\n      <td>2021-08-26</td>\n      <td>9865.792925</td>\n      <td>10054.975143</td>\n      <td>12775.616793</td>\n    </tr>\n    <tr>\n      <th>12</th>\n      <td>2021-08-27</td>\n      <td>10180.272466</td>\n      <td>10388.950962</td>\n      <td>13962.434199</td>\n    </tr>\n    <tr>\n      <th>13</th>\n      <td>2021-08-28</td>\n      <td>10699.114405</td>\n      <td>10293.892991</td>\n      <td>14034.299210</td>\n    </tr>\n    <tr>\n      <th>14</th>\n      <td>2021-08-29</td>\n      <td>9763.195875</td>\n      <td>10568.661764</td>\n      <td>14393.252695</td>\n    </tr>\n    <tr>\n      <th>15</th>\n      <td>2021-08-30</td>\n      <td>10098.806321</td>\n      <td>10246.163843</td>\n      <td>12963.366545</td>\n    </tr>\n    <tr>\n      <th>16</th>\n      <td>2021-08-31</td>\n      <td>9949.212864</td>\n      <td>10128.851126</td>\n      <td>13138.240681</td>\n    </tr>\n    <tr>\n      <th>17</th>\n      <td>2021-09-01</td>\n      <td>10373.963150</td>\n      <td>10280.432818</td>\n      <td>13023.333401</td>\n    </tr>\n    <tr>\n      <th>18</th>\n      <td>2021-09-02</td>\n      <td>9654.864416</td>\n      <td>10670.554782</td>\n      <td>13185.133501</td>\n    </tr>\n    <tr>\n      <th>19</th>\n      <td>2021-09-03</td>\n      <td>10106.830338</td>\n      <td>10772.825867</td>\n      <td>13143.955462</td>\n    </tr>\n    <tr>\n      <th>20</th>\n      <td>2021-09-04</td>\n      <td>10018.422089</td>\n      <td>9880.051418</td>\n      <td>13828.825647</td>\n    </tr>\n    <tr>\n      <th>21</th>\n      <td>2021-09-05</td>\n      <td>10158.292910</td>\n      <td>10042.946182</td>\n      <td>13012.988822</td>\n    </tr>\n    <tr>\n      <th>22</th>\n      <td>2021-09-06</td>\n      <td>10085.639944</td>\n      <td>9691.236951</td>\n      <td>13144.069861</td>\n    </tr>\n    <tr>\n      <th>23</th>\n      <td>2021-09-07</td>\n      <td>9823.676476</td>\n      <td>9824.882432</td>\n      <td>13489.431298</td>\n    </tr>\n    <tr>\n      <th>24</th>\n      <td>2021-09-08</td>\n      <td>9893.634778</td>\n      <td>9944.177064</td>\n      <td>14244.853548</td>\n    </tr>\n    <tr>\n      <th>25</th>\n      <td>2021-09-09</td>\n      <td>9614.364138</td>\n      <td>10184.878547</td>\n      <td>14406.881368</td>\n    </tr>\n    <tr>\n      <th>26</th>\n      <td>2021-09-10</td>\n      <td>8702.543445</td>\n      <td>9824.044494</td>\n      <td>13659.481086</td>\n    </tr>\n    <tr>\n      <th>27</th>\n      <td>2021-09-11</td>\n      <td>8835.292408</td>\n      <td>10394.585168</td>\n      <td>13748.593274</td>\n    </tr>\n    <tr>\n      <th>28</th>\n      <td>2021-09-12</td>\n      <td>8243.638494</td>\n      <td>9885.874596</td>\n      <td>13677.717856</td>\n    </tr>\n    <tr>\n      <th>29</th>\n      <td>2021-09-13</td>\n      <td>8965.964696</td>\n      <td>10074.515190</td>\n      <td>13506.697486</td>\n    </tr>\n  </tbody>\n</table>\n</div>"
     },
     "execution_count": 14,
     "metadata": {},
     "output_type": "execute_result"
    }
   ],
   "source": [
    "cbt.predict(30)"
   ],
   "metadata": {
    "collapsed": false,
    "ExecuteTime": {
     "end_time": "2023-10-07T03:21:37.033498Z",
     "start_time": "2023-10-07T03:21:36.992784Z"
    }
   },
   "id": "15170035e3b50c01"
  },
  {
   "cell_type": "markdown",
   "source": [
    "## XGBoost"
   ],
   "metadata": {
    "collapsed": false
   },
   "id": "7dec9ceba00d5094"
  },
  {
   "cell_type": "code",
   "execution_count": 15,
   "outputs": [
    {
     "data": {
      "text/plain": "<PipelineTS.ml_model.gbdt.XGBoostModel at 0x2987c8150>"
     },
     "execution_count": 15,
     "metadata": {},
     "output_type": "execute_result"
    }
   ],
   "source": [
    "xgb = XGBoostModel(time_col='date', target_col='type_a', lags=30, random_state=42)\n",
    "xgb.fit(data=data)"
   ],
   "metadata": {
    "collapsed": false,
    "ExecuteTime": {
     "end_time": "2023-10-07T03:22:12.895439Z",
     "start_time": "2023-10-07T03:21:37.034365Z"
    }
   },
   "id": "4b01d664300d9e63"
  },
  {
   "cell_type": "code",
   "execution_count": 16,
   "outputs": [
    {
     "data": {
      "text/plain": "         date        type_a  type_a_lower  type_a_upper\n0  2021-08-15   8109.658203   8084.823730   8134.492188\n1  2021-08-16   9206.233398   9178.041016   9234.424805\n2  2021-08-17  10129.718750  10098.698242  10160.738281\n3  2021-08-18   9552.613281   9523.360352   9581.866211\n4  2021-08-19   8632.674805   8606.239258   8659.110352\n5  2021-08-20   9327.443359   9298.879883   9356.005859\n6  2021-08-21   8350.327148   8324.755859   8375.897461\n7  2021-08-22  10420.876953  10388.964844  10452.788086\n8  2021-08-23   8265.765625   8240.453125   8291.077148\n9  2021-08-24  10076.258789  10045.402344  10107.115234\n10 2021-08-25  10210.885742  10179.617188  10242.154297\n11 2021-08-26   8717.146484   8690.452148   8743.840820\n12 2021-08-27  10289.033203  10257.525391  10320.541016\n13 2021-08-28   9431.089844   9402.208984   9459.969727\n14 2021-08-29   9570.508789   9541.201172   9599.816406\n15 2021-08-30  10148.840820  10117.761719  10179.918945\n16 2021-08-31   9628.024414   9598.540039   9657.507812\n17 2021-09-01   8586.947266   8560.651367   8613.242188\n18 2021-09-02   9443.641602   9414.722656   9472.560547\n19 2021-09-03  11578.468750  11543.011719  11613.924805\n20 2021-09-04   9602.880859   9573.473633   9632.287109\n21 2021-09-05  10046.781250  10016.014648  10077.546875\n22 2021-09-06  10521.868164  10489.646484  10554.088867\n23 2021-09-07   7722.393066   7698.744629   7746.041016\n24 2021-09-08   9480.368164   9451.335938   9509.399414\n25 2021-09-09   7878.034180   7853.909180   7902.158691\n26 2021-09-10  11343.241211  11308.504883  11377.976562\n27 2021-09-11   9984.852539   9954.275391  10015.428711\n28 2021-09-12   9117.791992   9089.870117   9145.712891\n29 2021-09-13   8446.058594   8420.194336   8471.922852",
      "text/html": "<div>\n<style scoped>\n    .dataframe tbody tr th:only-of-type {\n        vertical-align: middle;\n    }\n\n    .dataframe tbody tr th {\n        vertical-align: top;\n    }\n\n    .dataframe thead th {\n        text-align: right;\n    }\n</style>\n<table border=\"1\" class=\"dataframe\">\n  <thead>\n    <tr style=\"text-align: right;\">\n      <th></th>\n      <th>date</th>\n      <th>type_a</th>\n      <th>type_a_lower</th>\n      <th>type_a_upper</th>\n    </tr>\n  </thead>\n  <tbody>\n    <tr>\n      <th>0</th>\n      <td>2021-08-15</td>\n      <td>8109.658203</td>\n      <td>8084.823730</td>\n      <td>8134.492188</td>\n    </tr>\n    <tr>\n      <th>1</th>\n      <td>2021-08-16</td>\n      <td>9206.233398</td>\n      <td>9178.041016</td>\n      <td>9234.424805</td>\n    </tr>\n    <tr>\n      <th>2</th>\n      <td>2021-08-17</td>\n      <td>10129.718750</td>\n      <td>10098.698242</td>\n      <td>10160.738281</td>\n    </tr>\n    <tr>\n      <th>3</th>\n      <td>2021-08-18</td>\n      <td>9552.613281</td>\n      <td>9523.360352</td>\n      <td>9581.866211</td>\n    </tr>\n    <tr>\n      <th>4</th>\n      <td>2021-08-19</td>\n      <td>8632.674805</td>\n      <td>8606.239258</td>\n      <td>8659.110352</td>\n    </tr>\n    <tr>\n      <th>5</th>\n      <td>2021-08-20</td>\n      <td>9327.443359</td>\n      <td>9298.879883</td>\n      <td>9356.005859</td>\n    </tr>\n    <tr>\n      <th>6</th>\n      <td>2021-08-21</td>\n      <td>8350.327148</td>\n      <td>8324.755859</td>\n      <td>8375.897461</td>\n    </tr>\n    <tr>\n      <th>7</th>\n      <td>2021-08-22</td>\n      <td>10420.876953</td>\n      <td>10388.964844</td>\n      <td>10452.788086</td>\n    </tr>\n    <tr>\n      <th>8</th>\n      <td>2021-08-23</td>\n      <td>8265.765625</td>\n      <td>8240.453125</td>\n      <td>8291.077148</td>\n    </tr>\n    <tr>\n      <th>9</th>\n      <td>2021-08-24</td>\n      <td>10076.258789</td>\n      <td>10045.402344</td>\n      <td>10107.115234</td>\n    </tr>\n    <tr>\n      <th>10</th>\n      <td>2021-08-25</td>\n      <td>10210.885742</td>\n      <td>10179.617188</td>\n      <td>10242.154297</td>\n    </tr>\n    <tr>\n      <th>11</th>\n      <td>2021-08-26</td>\n      <td>8717.146484</td>\n      <td>8690.452148</td>\n      <td>8743.840820</td>\n    </tr>\n    <tr>\n      <th>12</th>\n      <td>2021-08-27</td>\n      <td>10289.033203</td>\n      <td>10257.525391</td>\n      <td>10320.541016</td>\n    </tr>\n    <tr>\n      <th>13</th>\n      <td>2021-08-28</td>\n      <td>9431.089844</td>\n      <td>9402.208984</td>\n      <td>9459.969727</td>\n    </tr>\n    <tr>\n      <th>14</th>\n      <td>2021-08-29</td>\n      <td>9570.508789</td>\n      <td>9541.201172</td>\n      <td>9599.816406</td>\n    </tr>\n    <tr>\n      <th>15</th>\n      <td>2021-08-30</td>\n      <td>10148.840820</td>\n      <td>10117.761719</td>\n      <td>10179.918945</td>\n    </tr>\n    <tr>\n      <th>16</th>\n      <td>2021-08-31</td>\n      <td>9628.024414</td>\n      <td>9598.540039</td>\n      <td>9657.507812</td>\n    </tr>\n    <tr>\n      <th>17</th>\n      <td>2021-09-01</td>\n      <td>8586.947266</td>\n      <td>8560.651367</td>\n      <td>8613.242188</td>\n    </tr>\n    <tr>\n      <th>18</th>\n      <td>2021-09-02</td>\n      <td>9443.641602</td>\n      <td>9414.722656</td>\n      <td>9472.560547</td>\n    </tr>\n    <tr>\n      <th>19</th>\n      <td>2021-09-03</td>\n      <td>11578.468750</td>\n      <td>11543.011719</td>\n      <td>11613.924805</td>\n    </tr>\n    <tr>\n      <th>20</th>\n      <td>2021-09-04</td>\n      <td>9602.880859</td>\n      <td>9573.473633</td>\n      <td>9632.287109</td>\n    </tr>\n    <tr>\n      <th>21</th>\n      <td>2021-09-05</td>\n      <td>10046.781250</td>\n      <td>10016.014648</td>\n      <td>10077.546875</td>\n    </tr>\n    <tr>\n      <th>22</th>\n      <td>2021-09-06</td>\n      <td>10521.868164</td>\n      <td>10489.646484</td>\n      <td>10554.088867</td>\n    </tr>\n    <tr>\n      <th>23</th>\n      <td>2021-09-07</td>\n      <td>7722.393066</td>\n      <td>7698.744629</td>\n      <td>7746.041016</td>\n    </tr>\n    <tr>\n      <th>24</th>\n      <td>2021-09-08</td>\n      <td>9480.368164</td>\n      <td>9451.335938</td>\n      <td>9509.399414</td>\n    </tr>\n    <tr>\n      <th>25</th>\n      <td>2021-09-09</td>\n      <td>7878.034180</td>\n      <td>7853.909180</td>\n      <td>7902.158691</td>\n    </tr>\n    <tr>\n      <th>26</th>\n      <td>2021-09-10</td>\n      <td>11343.241211</td>\n      <td>11308.504883</td>\n      <td>11377.976562</td>\n    </tr>\n    <tr>\n      <th>27</th>\n      <td>2021-09-11</td>\n      <td>9984.852539</td>\n      <td>9954.275391</td>\n      <td>10015.428711</td>\n    </tr>\n    <tr>\n      <th>28</th>\n      <td>2021-09-12</td>\n      <td>9117.791992</td>\n      <td>9089.870117</td>\n      <td>9145.712891</td>\n    </tr>\n    <tr>\n      <th>29</th>\n      <td>2021-09-13</td>\n      <td>8446.058594</td>\n      <td>8420.194336</td>\n      <td>8471.922852</td>\n    </tr>\n  </tbody>\n</table>\n</div>"
     },
     "execution_count": 16,
     "metadata": {},
     "output_type": "execute_result"
    }
   ],
   "source": [
    "xgb.predict(30)"
   ],
   "metadata": {
    "collapsed": false,
    "ExecuteTime": {
     "end_time": "2023-10-07T03:22:12.913213Z",
     "start_time": "2023-10-07T03:22:12.883011Z"
    }
   },
   "id": "a0ea5eafc2f7f076"
  },
  {
   "cell_type": "markdown",
   "source": [
    "## LightGBM"
   ],
   "metadata": {
    "collapsed": false
   },
   "id": "56fcbb8fd24d75f6"
  },
  {
   "cell_type": "code",
   "execution_count": 17,
   "outputs": [
    {
     "data": {
      "text/plain": "<PipelineTS.ml_model.gbdt.LightGBMModel at 0x298a80150>"
     },
     "execution_count": 17,
     "metadata": {},
     "output_type": "execute_result"
    }
   ],
   "source": [
    "lgb = LightGBMModel(time_col='date', target_col='type_a', lags=30, random_state=42)\n",
    "lgb.fit(data=data)"
   ],
   "metadata": {
    "collapsed": false,
    "ExecuteTime": {
     "end_time": "2023-10-07T03:22:38.823883Z",
     "start_time": "2023-10-07T03:22:12.901342Z"
    }
   },
   "id": "fc7b3fb48a41ee05"
  },
  {
   "cell_type": "code",
   "execution_count": 18,
   "outputs": [
    {
     "data": {
      "text/plain": "         date        type_a  type_a_lower  type_a_upper\n0  2021-08-15   7076.917764   6749.944087  11246.670270\n1  2021-08-16   8017.762986   7920.432959  11807.137600\n2  2021-08-17   8956.557595   9590.323002  12826.493270\n3  2021-08-18   8790.788577   9858.530543  13309.892457\n4  2021-08-19  10205.794569  10185.427277  13193.163982\n5  2021-08-20  10887.243250   9710.190276  13435.132552\n6  2021-08-21  10670.619232  10065.626876  13644.494919\n7  2021-08-22  10347.090470   9426.552115  13599.222823\n8  2021-08-23  10073.151484  10347.311392  14030.416453\n9  2021-08-24  10753.307191   9487.176561  13961.798461\n10 2021-08-25  11329.256962   9882.695369  14255.726330\n11 2021-08-26  11066.862395   8881.843741  14365.972046\n12 2021-08-27  11900.030689   8921.953557  15278.755107\n13 2021-08-28   9771.843688   9234.797825  15120.496740\n14 2021-08-29   9418.633645   9398.677506  14860.642719\n15 2021-08-30   9260.230222   9498.182954  15310.824833\n16 2021-08-31  10007.888028   9080.863936  15297.900386\n17 2021-09-01   9716.351357   8655.597619  14816.909472\n18 2021-09-02  10700.605028   8601.114942  15121.257777\n19 2021-09-03   8878.254246   8468.983651  15318.844297\n20 2021-09-04   9867.796682   8782.102518  15201.165082\n21 2021-09-05   8163.892426   8742.374877  15189.258791\n22 2021-09-06   9106.160285   8509.102624  14737.022994\n23 2021-09-07   8518.116362   8649.636997  14578.149203\n24 2021-09-08   9726.657121   8742.611078  14702.603085\n25 2021-09-09   9957.666411   8324.844677  15008.858714\n26 2021-09-10   9464.733675   8546.120521  13277.717242\n27 2021-09-11   8884.357004   8495.227166  14538.612063\n28 2021-09-12   8909.569332   8619.072830  14974.828555\n29 2021-09-13   9209.544837   8892.287754  15156.155124",
      "text/html": "<div>\n<style scoped>\n    .dataframe tbody tr th:only-of-type {\n        vertical-align: middle;\n    }\n\n    .dataframe tbody tr th {\n        vertical-align: top;\n    }\n\n    .dataframe thead th {\n        text-align: right;\n    }\n</style>\n<table border=\"1\" class=\"dataframe\">\n  <thead>\n    <tr style=\"text-align: right;\">\n      <th></th>\n      <th>date</th>\n      <th>type_a</th>\n      <th>type_a_lower</th>\n      <th>type_a_upper</th>\n    </tr>\n  </thead>\n  <tbody>\n    <tr>\n      <th>0</th>\n      <td>2021-08-15</td>\n      <td>7076.917764</td>\n      <td>6749.944087</td>\n      <td>11246.670270</td>\n    </tr>\n    <tr>\n      <th>1</th>\n      <td>2021-08-16</td>\n      <td>8017.762986</td>\n      <td>7920.432959</td>\n      <td>11807.137600</td>\n    </tr>\n    <tr>\n      <th>2</th>\n      <td>2021-08-17</td>\n      <td>8956.557595</td>\n      <td>9590.323002</td>\n      <td>12826.493270</td>\n    </tr>\n    <tr>\n      <th>3</th>\n      <td>2021-08-18</td>\n      <td>8790.788577</td>\n      <td>9858.530543</td>\n      <td>13309.892457</td>\n    </tr>\n    <tr>\n      <th>4</th>\n      <td>2021-08-19</td>\n      <td>10205.794569</td>\n      <td>10185.427277</td>\n      <td>13193.163982</td>\n    </tr>\n    <tr>\n      <th>5</th>\n      <td>2021-08-20</td>\n      <td>10887.243250</td>\n      <td>9710.190276</td>\n      <td>13435.132552</td>\n    </tr>\n    <tr>\n      <th>6</th>\n      <td>2021-08-21</td>\n      <td>10670.619232</td>\n      <td>10065.626876</td>\n      <td>13644.494919</td>\n    </tr>\n    <tr>\n      <th>7</th>\n      <td>2021-08-22</td>\n      <td>10347.090470</td>\n      <td>9426.552115</td>\n      <td>13599.222823</td>\n    </tr>\n    <tr>\n      <th>8</th>\n      <td>2021-08-23</td>\n      <td>10073.151484</td>\n      <td>10347.311392</td>\n      <td>14030.416453</td>\n    </tr>\n    <tr>\n      <th>9</th>\n      <td>2021-08-24</td>\n      <td>10753.307191</td>\n      <td>9487.176561</td>\n      <td>13961.798461</td>\n    </tr>\n    <tr>\n      <th>10</th>\n      <td>2021-08-25</td>\n      <td>11329.256962</td>\n      <td>9882.695369</td>\n      <td>14255.726330</td>\n    </tr>\n    <tr>\n      <th>11</th>\n      <td>2021-08-26</td>\n      <td>11066.862395</td>\n      <td>8881.843741</td>\n      <td>14365.972046</td>\n    </tr>\n    <tr>\n      <th>12</th>\n      <td>2021-08-27</td>\n      <td>11900.030689</td>\n      <td>8921.953557</td>\n      <td>15278.755107</td>\n    </tr>\n    <tr>\n      <th>13</th>\n      <td>2021-08-28</td>\n      <td>9771.843688</td>\n      <td>9234.797825</td>\n      <td>15120.496740</td>\n    </tr>\n    <tr>\n      <th>14</th>\n      <td>2021-08-29</td>\n      <td>9418.633645</td>\n      <td>9398.677506</td>\n      <td>14860.642719</td>\n    </tr>\n    <tr>\n      <th>15</th>\n      <td>2021-08-30</td>\n      <td>9260.230222</td>\n      <td>9498.182954</td>\n      <td>15310.824833</td>\n    </tr>\n    <tr>\n      <th>16</th>\n      <td>2021-08-31</td>\n      <td>10007.888028</td>\n      <td>9080.863936</td>\n      <td>15297.900386</td>\n    </tr>\n    <tr>\n      <th>17</th>\n      <td>2021-09-01</td>\n      <td>9716.351357</td>\n      <td>8655.597619</td>\n      <td>14816.909472</td>\n    </tr>\n    <tr>\n      <th>18</th>\n      <td>2021-09-02</td>\n      <td>10700.605028</td>\n      <td>8601.114942</td>\n      <td>15121.257777</td>\n    </tr>\n    <tr>\n      <th>19</th>\n      <td>2021-09-03</td>\n      <td>8878.254246</td>\n      <td>8468.983651</td>\n      <td>15318.844297</td>\n    </tr>\n    <tr>\n      <th>20</th>\n      <td>2021-09-04</td>\n      <td>9867.796682</td>\n      <td>8782.102518</td>\n      <td>15201.165082</td>\n    </tr>\n    <tr>\n      <th>21</th>\n      <td>2021-09-05</td>\n      <td>8163.892426</td>\n      <td>8742.374877</td>\n      <td>15189.258791</td>\n    </tr>\n    <tr>\n      <th>22</th>\n      <td>2021-09-06</td>\n      <td>9106.160285</td>\n      <td>8509.102624</td>\n      <td>14737.022994</td>\n    </tr>\n    <tr>\n      <th>23</th>\n      <td>2021-09-07</td>\n      <td>8518.116362</td>\n      <td>8649.636997</td>\n      <td>14578.149203</td>\n    </tr>\n    <tr>\n      <th>24</th>\n      <td>2021-09-08</td>\n      <td>9726.657121</td>\n      <td>8742.611078</td>\n      <td>14702.603085</td>\n    </tr>\n    <tr>\n      <th>25</th>\n      <td>2021-09-09</td>\n      <td>9957.666411</td>\n      <td>8324.844677</td>\n      <td>15008.858714</td>\n    </tr>\n    <tr>\n      <th>26</th>\n      <td>2021-09-10</td>\n      <td>9464.733675</td>\n      <td>8546.120521</td>\n      <td>13277.717242</td>\n    </tr>\n    <tr>\n      <th>27</th>\n      <td>2021-09-11</td>\n      <td>8884.357004</td>\n      <td>8495.227166</td>\n      <td>14538.612063</td>\n    </tr>\n    <tr>\n      <th>28</th>\n      <td>2021-09-12</td>\n      <td>8909.569332</td>\n      <td>8619.072830</td>\n      <td>14974.828555</td>\n    </tr>\n    <tr>\n      <th>29</th>\n      <td>2021-09-13</td>\n      <td>9209.544837</td>\n      <td>8892.287754</td>\n      <td>15156.155124</td>\n    </tr>\n  </tbody>\n</table>\n</div>"
     },
     "execution_count": 18,
     "metadata": {},
     "output_type": "execute_result"
    }
   ],
   "source": [
    "lgb.predict(30)"
   ],
   "metadata": {
    "collapsed": false,
    "ExecuteTime": {
     "end_time": "2023-10-07T03:22:38.847997Z",
     "start_time": "2023-10-07T03:22:38.817562Z"
    }
   },
   "id": "4bb0c5d7e0eb311e"
  },
  {
   "cell_type": "markdown",
   "source": [
    "## RandomForest"
   ],
   "metadata": {
    "collapsed": false
   },
   "id": "a18ed981b44520eb"
  },
  {
   "cell_type": "code",
   "execution_count": 19,
   "outputs": [
    {
     "data": {
      "text/plain": "<PipelineTS.ml_model.gbdt.RandomForestModel at 0x298cb8150>"
     },
     "execution_count": 19,
     "metadata": {},
     "output_type": "execute_result"
    }
   ],
   "source": [
    "rf = RandomForestModel(time_col='date', target_col='type_a', lags=30, random_state=42)\n",
    "rf.fit(data=data)"
   ],
   "metadata": {
    "collapsed": false,
    "ExecuteTime": {
     "end_time": "2023-10-07T03:22:55.646082Z",
     "start_time": "2023-10-07T03:22:38.846063Z"
    }
   },
   "id": "4e4324b6025c947"
  },
  {
   "cell_type": "code",
   "execution_count": 20,
   "outputs": [
    {
     "data": {
      "text/plain": "         date   type_a  type_a_lower  type_a_upper\n0  2021-08-15  9504.00   9481.120671   9526.879329\n1  2021-08-16  9471.74   9448.938332   9494.541668\n2  2021-08-17  9502.42   9479.544475   9525.295525\n3  2021-08-18  9502.43   9479.554451   9525.305549\n4  2021-08-19  9507.32   9484.432679   9530.207321\n5  2021-08-20  9489.77   9466.924928   9512.615072\n6  2021-08-21  9473.97   9451.162964   9496.777036\n7  2021-08-22  9364.98   9342.435339   9387.524661\n8  2021-08-23  9342.59   9320.099240   9365.080760\n9  2021-08-24  9263.01   9240.710815   9285.309185\n10 2021-08-25  9300.35   9277.960925   9322.739075\n11 2021-08-26  9199.80   9177.652983   9221.947017\n12 2021-08-27  9165.60   9143.535314   9187.664686\n13 2021-08-28  9113.12   9091.181651   9135.058349\n14 2021-08-29  9101.85   9079.938782   9123.761218\n15 2021-08-30  9081.87   9060.006880   9103.733120\n16 2021-08-31  8955.73   8934.170542   8977.289458\n17 2021-09-01  8893.63   8872.220037   8915.039963\n18 2021-09-02  8809.91   8788.701580   8831.118420\n19 2021-09-03  8784.31   8763.163208   8805.456792\n20 2021-09-04  8758.41   8737.325558   8779.494442\n21 2021-09-05  8685.79   8664.880378   8706.699622\n22 2021-09-06  8674.45   8653.567678   8695.332322\n23 2021-09-07  8686.70   8665.788188   8707.611812\n24 2021-09-08  8684.22   8663.314158   8705.125842\n25 2021-09-09  8667.58   8646.714216   8688.445784\n26 2021-09-10  8750.04   8728.975707   8771.104293\n27 2021-09-11  8819.23   8797.999143   8840.460857\n28 2021-09-12  8847.73   8826.430534   8869.029466\n29 2021-09-13  8824.19   8802.947203   8845.432797",
      "text/html": "<div>\n<style scoped>\n    .dataframe tbody tr th:only-of-type {\n        vertical-align: middle;\n    }\n\n    .dataframe tbody tr th {\n        vertical-align: top;\n    }\n\n    .dataframe thead th {\n        text-align: right;\n    }\n</style>\n<table border=\"1\" class=\"dataframe\">\n  <thead>\n    <tr style=\"text-align: right;\">\n      <th></th>\n      <th>date</th>\n      <th>type_a</th>\n      <th>type_a_lower</th>\n      <th>type_a_upper</th>\n    </tr>\n  </thead>\n  <tbody>\n    <tr>\n      <th>0</th>\n      <td>2021-08-15</td>\n      <td>9504.00</td>\n      <td>9481.120671</td>\n      <td>9526.879329</td>\n    </tr>\n    <tr>\n      <th>1</th>\n      <td>2021-08-16</td>\n      <td>9471.74</td>\n      <td>9448.938332</td>\n      <td>9494.541668</td>\n    </tr>\n    <tr>\n      <th>2</th>\n      <td>2021-08-17</td>\n      <td>9502.42</td>\n      <td>9479.544475</td>\n      <td>9525.295525</td>\n    </tr>\n    <tr>\n      <th>3</th>\n      <td>2021-08-18</td>\n      <td>9502.43</td>\n      <td>9479.554451</td>\n      <td>9525.305549</td>\n    </tr>\n    <tr>\n      <th>4</th>\n      <td>2021-08-19</td>\n      <td>9507.32</td>\n      <td>9484.432679</td>\n      <td>9530.207321</td>\n    </tr>\n    <tr>\n      <th>5</th>\n      <td>2021-08-20</td>\n      <td>9489.77</td>\n      <td>9466.924928</td>\n      <td>9512.615072</td>\n    </tr>\n    <tr>\n      <th>6</th>\n      <td>2021-08-21</td>\n      <td>9473.97</td>\n      <td>9451.162964</td>\n      <td>9496.777036</td>\n    </tr>\n    <tr>\n      <th>7</th>\n      <td>2021-08-22</td>\n      <td>9364.98</td>\n      <td>9342.435339</td>\n      <td>9387.524661</td>\n    </tr>\n    <tr>\n      <th>8</th>\n      <td>2021-08-23</td>\n      <td>9342.59</td>\n      <td>9320.099240</td>\n      <td>9365.080760</td>\n    </tr>\n    <tr>\n      <th>9</th>\n      <td>2021-08-24</td>\n      <td>9263.01</td>\n      <td>9240.710815</td>\n      <td>9285.309185</td>\n    </tr>\n    <tr>\n      <th>10</th>\n      <td>2021-08-25</td>\n      <td>9300.35</td>\n      <td>9277.960925</td>\n      <td>9322.739075</td>\n    </tr>\n    <tr>\n      <th>11</th>\n      <td>2021-08-26</td>\n      <td>9199.80</td>\n      <td>9177.652983</td>\n      <td>9221.947017</td>\n    </tr>\n    <tr>\n      <th>12</th>\n      <td>2021-08-27</td>\n      <td>9165.60</td>\n      <td>9143.535314</td>\n      <td>9187.664686</td>\n    </tr>\n    <tr>\n      <th>13</th>\n      <td>2021-08-28</td>\n      <td>9113.12</td>\n      <td>9091.181651</td>\n      <td>9135.058349</td>\n    </tr>\n    <tr>\n      <th>14</th>\n      <td>2021-08-29</td>\n      <td>9101.85</td>\n      <td>9079.938782</td>\n      <td>9123.761218</td>\n    </tr>\n    <tr>\n      <th>15</th>\n      <td>2021-08-30</td>\n      <td>9081.87</td>\n      <td>9060.006880</td>\n      <td>9103.733120</td>\n    </tr>\n    <tr>\n      <th>16</th>\n      <td>2021-08-31</td>\n      <td>8955.73</td>\n      <td>8934.170542</td>\n      <td>8977.289458</td>\n    </tr>\n    <tr>\n      <th>17</th>\n      <td>2021-09-01</td>\n      <td>8893.63</td>\n      <td>8872.220037</td>\n      <td>8915.039963</td>\n    </tr>\n    <tr>\n      <th>18</th>\n      <td>2021-09-02</td>\n      <td>8809.91</td>\n      <td>8788.701580</td>\n      <td>8831.118420</td>\n    </tr>\n    <tr>\n      <th>19</th>\n      <td>2021-09-03</td>\n      <td>8784.31</td>\n      <td>8763.163208</td>\n      <td>8805.456792</td>\n    </tr>\n    <tr>\n      <th>20</th>\n      <td>2021-09-04</td>\n      <td>8758.41</td>\n      <td>8737.325558</td>\n      <td>8779.494442</td>\n    </tr>\n    <tr>\n      <th>21</th>\n      <td>2021-09-05</td>\n      <td>8685.79</td>\n      <td>8664.880378</td>\n      <td>8706.699622</td>\n    </tr>\n    <tr>\n      <th>22</th>\n      <td>2021-09-06</td>\n      <td>8674.45</td>\n      <td>8653.567678</td>\n      <td>8695.332322</td>\n    </tr>\n    <tr>\n      <th>23</th>\n      <td>2021-09-07</td>\n      <td>8686.70</td>\n      <td>8665.788188</td>\n      <td>8707.611812</td>\n    </tr>\n    <tr>\n      <th>24</th>\n      <td>2021-09-08</td>\n      <td>8684.22</td>\n      <td>8663.314158</td>\n      <td>8705.125842</td>\n    </tr>\n    <tr>\n      <th>25</th>\n      <td>2021-09-09</td>\n      <td>8667.58</td>\n      <td>8646.714216</td>\n      <td>8688.445784</td>\n    </tr>\n    <tr>\n      <th>26</th>\n      <td>2021-09-10</td>\n      <td>8750.04</td>\n      <td>8728.975707</td>\n      <td>8771.104293</td>\n    </tr>\n    <tr>\n      <th>27</th>\n      <td>2021-09-11</td>\n      <td>8819.23</td>\n      <td>8797.999143</td>\n      <td>8840.460857</td>\n    </tr>\n    <tr>\n      <th>28</th>\n      <td>2021-09-12</td>\n      <td>8847.73</td>\n      <td>8826.430534</td>\n      <td>8869.029466</td>\n    </tr>\n    <tr>\n      <th>29</th>\n      <td>2021-09-13</td>\n      <td>8824.19</td>\n      <td>8802.947203</td>\n      <td>8845.432797</td>\n    </tr>\n  </tbody>\n</table>\n</div>"
     },
     "execution_count": 20,
     "metadata": {},
     "output_type": "execute_result"
    }
   ],
   "source": [
    "rf.predict(30)"
   ],
   "metadata": {
    "collapsed": false,
    "ExecuteTime": {
     "end_time": "2023-10-07T03:22:55.646687Z",
     "start_time": "2023-10-07T03:22:55.632497Z"
    }
   },
   "id": "f1c8083e22646bd0"
  },
  {
   "cell_type": "markdown",
   "source": [
    "# NN Model"
   ],
   "metadata": {
    "collapsed": false
   },
   "id": "349a8d6c55917582"
  },
  {
   "cell_type": "code",
   "execution_count": 21,
   "outputs": [],
   "source": [
    "from PipelineTS.nn_model import *"
   ],
   "metadata": {
    "collapsed": false,
    "ExecuteTime": {
     "end_time": "2023-10-07T03:22:55.698256Z",
     "start_time": "2023-10-07T03:22:55.645671Z"
    }
   },
   "id": "4b1ef182fd9fe6f5"
  },
  {
   "cell_type": "markdown",
   "source": [
    "## DLinearModel"
   ],
   "metadata": {
    "collapsed": false
   },
   "id": "fe25f24791a8cce7"
  },
  {
   "cell_type": "code",
   "execution_count": 22,
   "outputs": [],
   "source": [
    "d_linear = DLinearModel(time_col='date', target_col='type_a', lags=30, random_state=42)"
   ],
   "metadata": {
    "collapsed": false,
    "ExecuteTime": {
     "end_time": "2023-10-07T03:22:55.698655Z",
     "start_time": "2023-10-07T03:22:55.663032Z"
    }
   },
   "id": "8a319b5bfed4295b"
  },
  {
   "cell_type": "code",
   "execution_count": 23,
   "outputs": [
    {
     "data": {
      "text/plain": "         date       type_a  type_a_lower  type_a_upper\n0  2021-08-15  8298.811523   8265.902344   8331.720703\n1  2021-08-16  8857.418945   8822.294922   8892.542969\n2  2021-08-17  8564.097656   8530.136719   8598.058594\n3  2021-08-18  8490.714844   8457.044922   8524.384766\n4  2021-08-19  8304.337891   8271.407227   8337.268555\n5  2021-08-20  8040.516113   8008.631348   8072.400879\n6  2021-08-21  7737.038574   7706.357422   7767.719727\n7  2021-08-22  8021.276367   7989.468262   8053.084473\n8  2021-08-23  8606.546875   8572.417969   8640.675781\n9  2021-08-24  8470.290039   8436.701172   8503.878906\n10 2021-08-25  8320.759766   8287.763672   8353.755859\n11 2021-08-26  8330.719727   8297.684570   8363.754883\n12 2021-08-27  8085.941895   8053.876953   8118.006836\n13 2021-08-28  7803.250488   7772.306641   7834.194336\n14 2021-08-29  7990.011230   7958.326660   8021.695801\n15 2021-08-30  8648.426758   8614.131836   8682.721680\n16 2021-08-31  8489.021484   8455.358398   8522.684570\n17 2021-09-01  8231.581055   8198.938477   8264.223633\n18 2021-09-02  8220.020508   8187.423828   8252.617188\n19 2021-09-03  8030.926270   7999.079590   8062.772949\n20 2021-09-04  7689.028320   7658.537598   7719.519043\n21 2021-09-05  7979.881836   7948.237793   8011.525879\n22 2021-09-06  8562.593750   8528.638672   8596.548828\n23 2021-09-07  8554.266602   8520.344727   8588.188477\n24 2021-09-08  8365.503906   8332.330078   8398.677734\n25 2021-09-09  8324.417969   8291.407227   8357.428711\n26 2021-09-10  8194.801758   8162.305176   8227.297852\n27 2021-09-11  7957.207031   7925.652832   7988.761230\n28 2021-09-12  8165.726074   8133.344727   8198.107422\n29 2021-09-13  8755.969727   8721.248047   8790.691406",
      "text/html": "<div>\n<style scoped>\n    .dataframe tbody tr th:only-of-type {\n        vertical-align: middle;\n    }\n\n    .dataframe tbody tr th {\n        vertical-align: top;\n    }\n\n    .dataframe thead th {\n        text-align: right;\n    }\n</style>\n<table border=\"1\" class=\"dataframe\">\n  <thead>\n    <tr style=\"text-align: right;\">\n      <th></th>\n      <th>date</th>\n      <th>type_a</th>\n      <th>type_a_lower</th>\n      <th>type_a_upper</th>\n    </tr>\n  </thead>\n  <tbody>\n    <tr>\n      <th>0</th>\n      <td>2021-08-15</td>\n      <td>8298.811523</td>\n      <td>8265.902344</td>\n      <td>8331.720703</td>\n    </tr>\n    <tr>\n      <th>1</th>\n      <td>2021-08-16</td>\n      <td>8857.418945</td>\n      <td>8822.294922</td>\n      <td>8892.542969</td>\n    </tr>\n    <tr>\n      <th>2</th>\n      <td>2021-08-17</td>\n      <td>8564.097656</td>\n      <td>8530.136719</td>\n      <td>8598.058594</td>\n    </tr>\n    <tr>\n      <th>3</th>\n      <td>2021-08-18</td>\n      <td>8490.714844</td>\n      <td>8457.044922</td>\n      <td>8524.384766</td>\n    </tr>\n    <tr>\n      <th>4</th>\n      <td>2021-08-19</td>\n      <td>8304.337891</td>\n      <td>8271.407227</td>\n      <td>8337.268555</td>\n    </tr>\n    <tr>\n      <th>5</th>\n      <td>2021-08-20</td>\n      <td>8040.516113</td>\n      <td>8008.631348</td>\n      <td>8072.400879</td>\n    </tr>\n    <tr>\n      <th>6</th>\n      <td>2021-08-21</td>\n      <td>7737.038574</td>\n      <td>7706.357422</td>\n      <td>7767.719727</td>\n    </tr>\n    <tr>\n      <th>7</th>\n      <td>2021-08-22</td>\n      <td>8021.276367</td>\n      <td>7989.468262</td>\n      <td>8053.084473</td>\n    </tr>\n    <tr>\n      <th>8</th>\n      <td>2021-08-23</td>\n      <td>8606.546875</td>\n      <td>8572.417969</td>\n      <td>8640.675781</td>\n    </tr>\n    <tr>\n      <th>9</th>\n      <td>2021-08-24</td>\n      <td>8470.290039</td>\n      <td>8436.701172</td>\n      <td>8503.878906</td>\n    </tr>\n    <tr>\n      <th>10</th>\n      <td>2021-08-25</td>\n      <td>8320.759766</td>\n      <td>8287.763672</td>\n      <td>8353.755859</td>\n    </tr>\n    <tr>\n      <th>11</th>\n      <td>2021-08-26</td>\n      <td>8330.719727</td>\n      <td>8297.684570</td>\n      <td>8363.754883</td>\n    </tr>\n    <tr>\n      <th>12</th>\n      <td>2021-08-27</td>\n      <td>8085.941895</td>\n      <td>8053.876953</td>\n      <td>8118.006836</td>\n    </tr>\n    <tr>\n      <th>13</th>\n      <td>2021-08-28</td>\n      <td>7803.250488</td>\n      <td>7772.306641</td>\n      <td>7834.194336</td>\n    </tr>\n    <tr>\n      <th>14</th>\n      <td>2021-08-29</td>\n      <td>7990.011230</td>\n      <td>7958.326660</td>\n      <td>8021.695801</td>\n    </tr>\n    <tr>\n      <th>15</th>\n      <td>2021-08-30</td>\n      <td>8648.426758</td>\n      <td>8614.131836</td>\n      <td>8682.721680</td>\n    </tr>\n    <tr>\n      <th>16</th>\n      <td>2021-08-31</td>\n      <td>8489.021484</td>\n      <td>8455.358398</td>\n      <td>8522.684570</td>\n    </tr>\n    <tr>\n      <th>17</th>\n      <td>2021-09-01</td>\n      <td>8231.581055</td>\n      <td>8198.938477</td>\n      <td>8264.223633</td>\n    </tr>\n    <tr>\n      <th>18</th>\n      <td>2021-09-02</td>\n      <td>8220.020508</td>\n      <td>8187.423828</td>\n      <td>8252.617188</td>\n    </tr>\n    <tr>\n      <th>19</th>\n      <td>2021-09-03</td>\n      <td>8030.926270</td>\n      <td>7999.079590</td>\n      <td>8062.772949</td>\n    </tr>\n    <tr>\n      <th>20</th>\n      <td>2021-09-04</td>\n      <td>7689.028320</td>\n      <td>7658.537598</td>\n      <td>7719.519043</td>\n    </tr>\n    <tr>\n      <th>21</th>\n      <td>2021-09-05</td>\n      <td>7979.881836</td>\n      <td>7948.237793</td>\n      <td>8011.525879</td>\n    </tr>\n    <tr>\n      <th>22</th>\n      <td>2021-09-06</td>\n      <td>8562.593750</td>\n      <td>8528.638672</td>\n      <td>8596.548828</td>\n    </tr>\n    <tr>\n      <th>23</th>\n      <td>2021-09-07</td>\n      <td>8554.266602</td>\n      <td>8520.344727</td>\n      <td>8588.188477</td>\n    </tr>\n    <tr>\n      <th>24</th>\n      <td>2021-09-08</td>\n      <td>8365.503906</td>\n      <td>8332.330078</td>\n      <td>8398.677734</td>\n    </tr>\n    <tr>\n      <th>25</th>\n      <td>2021-09-09</td>\n      <td>8324.417969</td>\n      <td>8291.407227</td>\n      <td>8357.428711</td>\n    </tr>\n    <tr>\n      <th>26</th>\n      <td>2021-09-10</td>\n      <td>8194.801758</td>\n      <td>8162.305176</td>\n      <td>8227.297852</td>\n    </tr>\n    <tr>\n      <th>27</th>\n      <td>2021-09-11</td>\n      <td>7957.207031</td>\n      <td>7925.652832</td>\n      <td>7988.761230</td>\n    </tr>\n    <tr>\n      <th>28</th>\n      <td>2021-09-12</td>\n      <td>8165.726074</td>\n      <td>8133.344727</td>\n      <td>8198.107422</td>\n    </tr>\n    <tr>\n      <th>29</th>\n      <td>2021-09-13</td>\n      <td>8755.969727</td>\n      <td>8721.248047</td>\n      <td>8790.691406</td>\n    </tr>\n  </tbody>\n</table>\n</div>"
     },
     "execution_count": 23,
     "metadata": {},
     "output_type": "execute_result"
    }
   ],
   "source": [
    "d_linear.fit(data)\n",
    "d_linear.predict(30)"
   ],
   "metadata": {
    "collapsed": false,
    "ExecuteTime": {
     "end_time": "2023-10-07T03:23:50.003500Z",
     "start_time": "2023-10-07T03:22:55.681794Z"
    }
   },
   "id": "429ad79afdee9005"
  },
  {
   "cell_type": "markdown",
   "source": [
    "##  NLinearModel"
   ],
   "metadata": {
    "collapsed": false
   },
   "id": "8692d620668fb0c1"
  },
  {
   "cell_type": "code",
   "execution_count": 24,
   "outputs": [],
   "source": [
    "n_linear = NLinearModel(time_col='date', target_col='type_a', lags=30, random_state=42)"
   ],
   "metadata": {
    "collapsed": false,
    "ExecuteTime": {
     "end_time": "2023-10-07T03:23:50.010474Z",
     "start_time": "2023-10-07T03:23:50.004273Z"
    }
   },
   "id": "8a5602b86dcc8db7"
  },
  {
   "cell_type": "code",
   "execution_count": 25,
   "outputs": [
    {
     "data": {
      "text/plain": "         date       type_a  type_a_lower  type_a_upper\n0  2021-08-15  8196.580078   8158.957031   8234.204102\n1  2021-08-16  8604.582031   8565.085938   8644.078125\n2  2021-08-17  8607.585938   8568.076172   8647.095703\n3  2021-08-18  8335.010742   8296.751953   8373.269531\n4  2021-08-19  8211.809570   8174.116699   8249.502930\n5  2021-08-20  8035.030762   7998.149414   8071.912598\n6  2021-08-21  7755.708008   7720.108398   7791.308105\n7  2021-08-22  8179.750488   8142.204590   8217.296875\n8  2021-08-23  8651.883789   8612.170898   8691.597656\n9  2021-08-24  8497.446289   8458.442383   8536.451172\n10 2021-08-25  8287.789062   8249.747070   8325.831055\n11 2021-08-26  8368.666992   8330.253906   8407.080078\n12 2021-08-27  8164.074707   8126.601074   8201.548828\n13 2021-08-28  7845.913086   7809.899414   7881.927246\n14 2021-08-29  8061.681152   8024.677246   8098.685547\n15 2021-08-30  8529.394531   8490.244141   8568.545898\n16 2021-08-31  8533.750977   8494.580078   8572.921875\n17 2021-09-01  8420.260742   8381.611328   8458.911133\n18 2021-09-02  8496.163086   8457.165039   8535.162109\n19 2021-09-03  8320.873047   8282.679688   8359.067383\n20 2021-09-04  7941.814453   7905.360840   7978.268555\n21 2021-09-05  8227.071289   8189.308105   8264.834961\n22 2021-09-06  8847.437500   8806.827148   8888.048828\n23 2021-09-07  8685.497070   8645.629883   8725.365234\n24 2021-09-08  8518.012695   8478.914062   8557.111328\n25 2021-09-09  8417.606445   8378.968750   8456.244141\n26 2021-09-10  8066.511719   8029.485840   8103.538086\n27 2021-09-11  7779.848145   7744.137695   7815.559082\n28 2021-09-12  7945.106934   7908.638184   7981.576172\n29 2021-09-13  8282.268555   8244.251953   8320.285156",
      "text/html": "<div>\n<style scoped>\n    .dataframe tbody tr th:only-of-type {\n        vertical-align: middle;\n    }\n\n    .dataframe tbody tr th {\n        vertical-align: top;\n    }\n\n    .dataframe thead th {\n        text-align: right;\n    }\n</style>\n<table border=\"1\" class=\"dataframe\">\n  <thead>\n    <tr style=\"text-align: right;\">\n      <th></th>\n      <th>date</th>\n      <th>type_a</th>\n      <th>type_a_lower</th>\n      <th>type_a_upper</th>\n    </tr>\n  </thead>\n  <tbody>\n    <tr>\n      <th>0</th>\n      <td>2021-08-15</td>\n      <td>8196.580078</td>\n      <td>8158.957031</td>\n      <td>8234.204102</td>\n    </tr>\n    <tr>\n      <th>1</th>\n      <td>2021-08-16</td>\n      <td>8604.582031</td>\n      <td>8565.085938</td>\n      <td>8644.078125</td>\n    </tr>\n    <tr>\n      <th>2</th>\n      <td>2021-08-17</td>\n      <td>8607.585938</td>\n      <td>8568.076172</td>\n      <td>8647.095703</td>\n    </tr>\n    <tr>\n      <th>3</th>\n      <td>2021-08-18</td>\n      <td>8335.010742</td>\n      <td>8296.751953</td>\n      <td>8373.269531</td>\n    </tr>\n    <tr>\n      <th>4</th>\n      <td>2021-08-19</td>\n      <td>8211.809570</td>\n      <td>8174.116699</td>\n      <td>8249.502930</td>\n    </tr>\n    <tr>\n      <th>5</th>\n      <td>2021-08-20</td>\n      <td>8035.030762</td>\n      <td>7998.149414</td>\n      <td>8071.912598</td>\n    </tr>\n    <tr>\n      <th>6</th>\n      <td>2021-08-21</td>\n      <td>7755.708008</td>\n      <td>7720.108398</td>\n      <td>7791.308105</td>\n    </tr>\n    <tr>\n      <th>7</th>\n      <td>2021-08-22</td>\n      <td>8179.750488</td>\n      <td>8142.204590</td>\n      <td>8217.296875</td>\n    </tr>\n    <tr>\n      <th>8</th>\n      <td>2021-08-23</td>\n      <td>8651.883789</td>\n      <td>8612.170898</td>\n      <td>8691.597656</td>\n    </tr>\n    <tr>\n      <th>9</th>\n      <td>2021-08-24</td>\n      <td>8497.446289</td>\n      <td>8458.442383</td>\n      <td>8536.451172</td>\n    </tr>\n    <tr>\n      <th>10</th>\n      <td>2021-08-25</td>\n      <td>8287.789062</td>\n      <td>8249.747070</td>\n      <td>8325.831055</td>\n    </tr>\n    <tr>\n      <th>11</th>\n      <td>2021-08-26</td>\n      <td>8368.666992</td>\n      <td>8330.253906</td>\n      <td>8407.080078</td>\n    </tr>\n    <tr>\n      <th>12</th>\n      <td>2021-08-27</td>\n      <td>8164.074707</td>\n      <td>8126.601074</td>\n      <td>8201.548828</td>\n    </tr>\n    <tr>\n      <th>13</th>\n      <td>2021-08-28</td>\n      <td>7845.913086</td>\n      <td>7809.899414</td>\n      <td>7881.927246</td>\n    </tr>\n    <tr>\n      <th>14</th>\n      <td>2021-08-29</td>\n      <td>8061.681152</td>\n      <td>8024.677246</td>\n      <td>8098.685547</td>\n    </tr>\n    <tr>\n      <th>15</th>\n      <td>2021-08-30</td>\n      <td>8529.394531</td>\n      <td>8490.244141</td>\n      <td>8568.545898</td>\n    </tr>\n    <tr>\n      <th>16</th>\n      <td>2021-08-31</td>\n      <td>8533.750977</td>\n      <td>8494.580078</td>\n      <td>8572.921875</td>\n    </tr>\n    <tr>\n      <th>17</th>\n      <td>2021-09-01</td>\n      <td>8420.260742</td>\n      <td>8381.611328</td>\n      <td>8458.911133</td>\n    </tr>\n    <tr>\n      <th>18</th>\n      <td>2021-09-02</td>\n      <td>8496.163086</td>\n      <td>8457.165039</td>\n      <td>8535.162109</td>\n    </tr>\n    <tr>\n      <th>19</th>\n      <td>2021-09-03</td>\n      <td>8320.873047</td>\n      <td>8282.679688</td>\n      <td>8359.067383</td>\n    </tr>\n    <tr>\n      <th>20</th>\n      <td>2021-09-04</td>\n      <td>7941.814453</td>\n      <td>7905.360840</td>\n      <td>7978.268555</td>\n    </tr>\n    <tr>\n      <th>21</th>\n      <td>2021-09-05</td>\n      <td>8227.071289</td>\n      <td>8189.308105</td>\n      <td>8264.834961</td>\n    </tr>\n    <tr>\n      <th>22</th>\n      <td>2021-09-06</td>\n      <td>8847.437500</td>\n      <td>8806.827148</td>\n      <td>8888.048828</td>\n    </tr>\n    <tr>\n      <th>23</th>\n      <td>2021-09-07</td>\n      <td>8685.497070</td>\n      <td>8645.629883</td>\n      <td>8725.365234</td>\n    </tr>\n    <tr>\n      <th>24</th>\n      <td>2021-09-08</td>\n      <td>8518.012695</td>\n      <td>8478.914062</td>\n      <td>8557.111328</td>\n    </tr>\n    <tr>\n      <th>25</th>\n      <td>2021-09-09</td>\n      <td>8417.606445</td>\n      <td>8378.968750</td>\n      <td>8456.244141</td>\n    </tr>\n    <tr>\n      <th>26</th>\n      <td>2021-09-10</td>\n      <td>8066.511719</td>\n      <td>8029.485840</td>\n      <td>8103.538086</td>\n    </tr>\n    <tr>\n      <th>27</th>\n      <td>2021-09-11</td>\n      <td>7779.848145</td>\n      <td>7744.137695</td>\n      <td>7815.559082</td>\n    </tr>\n    <tr>\n      <th>28</th>\n      <td>2021-09-12</td>\n      <td>7945.106934</td>\n      <td>7908.638184</td>\n      <td>7981.576172</td>\n    </tr>\n    <tr>\n      <th>29</th>\n      <td>2021-09-13</td>\n      <td>8282.268555</td>\n      <td>8244.251953</td>\n      <td>8320.285156</td>\n    </tr>\n  </tbody>\n</table>\n</div>"
     },
     "execution_count": 25,
     "metadata": {},
     "output_type": "execute_result"
    }
   ],
   "source": [
    "n_linear.fit(data)\n",
    "n_linear.predict(30)"
   ],
   "metadata": {
    "collapsed": false,
    "ExecuteTime": {
     "end_time": "2023-10-07T03:24:33.805131Z",
     "start_time": "2023-10-07T03:23:50.012625Z"
    }
   },
   "id": "45afcc14551f22ca"
  },
  {
   "cell_type": "markdown",
   "source": [
    "##  NBeatsModel "
   ],
   "metadata": {
    "collapsed": false
   },
   "id": "c40f9cddb01f15b3"
  },
  {
   "cell_type": "code",
   "execution_count": 26,
   "outputs": [],
   "source": [
    "n_beats = NBeatsModel(time_col='date', target_col='type_a', lags=30, random_state=42)"
   ],
   "metadata": {
    "collapsed": false,
    "ExecuteTime": {
     "end_time": "2023-10-07T03:24:33.811385Z",
     "start_time": "2023-10-07T03:24:33.805914Z"
    }
   },
   "id": "d88653e7e74f2268"
  },
  {
   "cell_type": "code",
   "execution_count": 27,
   "outputs": [
    {
     "data": {
      "text/plain": "         date        type_a  type_a_lower  type_a_upper\n0  2021-08-15   8327.192383   8264.924805   8389.459961\n1  2021-08-16   8731.897461   8666.603516   8797.191406\n2  2021-08-17   8579.774414   8515.618164   8643.930664\n3  2021-08-18   8590.552734   8526.316406   8654.790039\n4  2021-08-19   8878.488281   8812.098633   8944.878906\n5  2021-08-20   8553.616211   8489.656250   8617.577148\n6  2021-08-21   8055.523438   7995.287598   8115.759766\n7  2021-08-22   8250.633789   8188.938965   8312.329102\n8  2021-08-23   9136.042969   9067.727539   9204.359375\n9  2021-08-24   8639.552734   8574.950195   8704.156250\n10 2021-08-25   8422.797852   8359.815430   8485.780273\n11 2021-08-26   8154.399414   8093.424316   8215.375000\n12 2021-08-27   8501.486328   8437.916016   8565.057617\n13 2021-08-28   8209.581055   8148.193359   8270.969727\n14 2021-08-29   8263.573242   8201.781250   8325.365234\n15 2021-08-30   8844.318359   8778.184570   8910.453125\n16 2021-08-31   8512.489258   8448.835938   8576.142578\n17 2021-09-01   8496.307617   8432.775391   8559.839844\n18 2021-09-02   8782.430664   8716.759766   8848.102539\n19 2021-09-03   8541.870117   8477.998047   8605.743164\n20 2021-09-04   8219.156250   8157.696777   8280.616211\n21 2021-09-05   8223.987305   8162.491699   8285.483398\n22 2021-09-06   9159.931641   9091.437500   9228.426758\n23 2021-09-07   8861.910156   8795.644531   8928.176758\n24 2021-09-08   9368.482422   9298.428711   9438.536133\n25 2021-09-09   9590.292969   9518.581055   9662.005859\n26 2021-09-10   9561.291992   9489.796875   9632.788086\n27 2021-09-11   8993.055664   8925.809570   9060.302734\n28 2021-09-12   9836.743164   9763.188477   9910.298828\n29 2021-09-13  11020.699219  10938.291016  11103.108398",
      "text/html": "<div>\n<style scoped>\n    .dataframe tbody tr th:only-of-type {\n        vertical-align: middle;\n    }\n\n    .dataframe tbody tr th {\n        vertical-align: top;\n    }\n\n    .dataframe thead th {\n        text-align: right;\n    }\n</style>\n<table border=\"1\" class=\"dataframe\">\n  <thead>\n    <tr style=\"text-align: right;\">\n      <th></th>\n      <th>date</th>\n      <th>type_a</th>\n      <th>type_a_lower</th>\n      <th>type_a_upper</th>\n    </tr>\n  </thead>\n  <tbody>\n    <tr>\n      <th>0</th>\n      <td>2021-08-15</td>\n      <td>8327.192383</td>\n      <td>8264.924805</td>\n      <td>8389.459961</td>\n    </tr>\n    <tr>\n      <th>1</th>\n      <td>2021-08-16</td>\n      <td>8731.897461</td>\n      <td>8666.603516</td>\n      <td>8797.191406</td>\n    </tr>\n    <tr>\n      <th>2</th>\n      <td>2021-08-17</td>\n      <td>8579.774414</td>\n      <td>8515.618164</td>\n      <td>8643.930664</td>\n    </tr>\n    <tr>\n      <th>3</th>\n      <td>2021-08-18</td>\n      <td>8590.552734</td>\n      <td>8526.316406</td>\n      <td>8654.790039</td>\n    </tr>\n    <tr>\n      <th>4</th>\n      <td>2021-08-19</td>\n      <td>8878.488281</td>\n      <td>8812.098633</td>\n      <td>8944.878906</td>\n    </tr>\n    <tr>\n      <th>5</th>\n      <td>2021-08-20</td>\n      <td>8553.616211</td>\n      <td>8489.656250</td>\n      <td>8617.577148</td>\n    </tr>\n    <tr>\n      <th>6</th>\n      <td>2021-08-21</td>\n      <td>8055.523438</td>\n      <td>7995.287598</td>\n      <td>8115.759766</td>\n    </tr>\n    <tr>\n      <th>7</th>\n      <td>2021-08-22</td>\n      <td>8250.633789</td>\n      <td>8188.938965</td>\n      <td>8312.329102</td>\n    </tr>\n    <tr>\n      <th>8</th>\n      <td>2021-08-23</td>\n      <td>9136.042969</td>\n      <td>9067.727539</td>\n      <td>9204.359375</td>\n    </tr>\n    <tr>\n      <th>9</th>\n      <td>2021-08-24</td>\n      <td>8639.552734</td>\n      <td>8574.950195</td>\n      <td>8704.156250</td>\n    </tr>\n    <tr>\n      <th>10</th>\n      <td>2021-08-25</td>\n      <td>8422.797852</td>\n      <td>8359.815430</td>\n      <td>8485.780273</td>\n    </tr>\n    <tr>\n      <th>11</th>\n      <td>2021-08-26</td>\n      <td>8154.399414</td>\n      <td>8093.424316</td>\n      <td>8215.375000</td>\n    </tr>\n    <tr>\n      <th>12</th>\n      <td>2021-08-27</td>\n      <td>8501.486328</td>\n      <td>8437.916016</td>\n      <td>8565.057617</td>\n    </tr>\n    <tr>\n      <th>13</th>\n      <td>2021-08-28</td>\n      <td>8209.581055</td>\n      <td>8148.193359</td>\n      <td>8270.969727</td>\n    </tr>\n    <tr>\n      <th>14</th>\n      <td>2021-08-29</td>\n      <td>8263.573242</td>\n      <td>8201.781250</td>\n      <td>8325.365234</td>\n    </tr>\n    <tr>\n      <th>15</th>\n      <td>2021-08-30</td>\n      <td>8844.318359</td>\n      <td>8778.184570</td>\n      <td>8910.453125</td>\n    </tr>\n    <tr>\n      <th>16</th>\n      <td>2021-08-31</td>\n      <td>8512.489258</td>\n      <td>8448.835938</td>\n      <td>8576.142578</td>\n    </tr>\n    <tr>\n      <th>17</th>\n      <td>2021-09-01</td>\n      <td>8496.307617</td>\n      <td>8432.775391</td>\n      <td>8559.839844</td>\n    </tr>\n    <tr>\n      <th>18</th>\n      <td>2021-09-02</td>\n      <td>8782.430664</td>\n      <td>8716.759766</td>\n      <td>8848.102539</td>\n    </tr>\n    <tr>\n      <th>19</th>\n      <td>2021-09-03</td>\n      <td>8541.870117</td>\n      <td>8477.998047</td>\n      <td>8605.743164</td>\n    </tr>\n    <tr>\n      <th>20</th>\n      <td>2021-09-04</td>\n      <td>8219.156250</td>\n      <td>8157.696777</td>\n      <td>8280.616211</td>\n    </tr>\n    <tr>\n      <th>21</th>\n      <td>2021-09-05</td>\n      <td>8223.987305</td>\n      <td>8162.491699</td>\n      <td>8285.483398</td>\n    </tr>\n    <tr>\n      <th>22</th>\n      <td>2021-09-06</td>\n      <td>9159.931641</td>\n      <td>9091.437500</td>\n      <td>9228.426758</td>\n    </tr>\n    <tr>\n      <th>23</th>\n      <td>2021-09-07</td>\n      <td>8861.910156</td>\n      <td>8795.644531</td>\n      <td>8928.176758</td>\n    </tr>\n    <tr>\n      <th>24</th>\n      <td>2021-09-08</td>\n      <td>9368.482422</td>\n      <td>9298.428711</td>\n      <td>9438.536133</td>\n    </tr>\n    <tr>\n      <th>25</th>\n      <td>2021-09-09</td>\n      <td>9590.292969</td>\n      <td>9518.581055</td>\n      <td>9662.005859</td>\n    </tr>\n    <tr>\n      <th>26</th>\n      <td>2021-09-10</td>\n      <td>9561.291992</td>\n      <td>9489.796875</td>\n      <td>9632.788086</td>\n    </tr>\n    <tr>\n      <th>27</th>\n      <td>2021-09-11</td>\n      <td>8993.055664</td>\n      <td>8925.809570</td>\n      <td>9060.302734</td>\n    </tr>\n    <tr>\n      <th>28</th>\n      <td>2021-09-12</td>\n      <td>9836.743164</td>\n      <td>9763.188477</td>\n      <td>9910.298828</td>\n    </tr>\n    <tr>\n      <th>29</th>\n      <td>2021-09-13</td>\n      <td>11020.699219</td>\n      <td>10938.291016</td>\n      <td>11103.108398</td>\n    </tr>\n  </tbody>\n</table>\n</div>"
     },
     "execution_count": 27,
     "metadata": {},
     "output_type": "execute_result"
    }
   ],
   "source": [
    "n_beats.fit(data)\n",
    "n_beats.predict(30)"
   ],
   "metadata": {
    "collapsed": false,
    "ExecuteTime": {
     "end_time": "2023-10-07T03:26:07.193206Z",
     "start_time": "2023-10-07T03:24:33.811984Z"
    }
   },
   "id": "315c09ac5d64c972"
  },
  {
   "cell_type": "markdown",
   "source": [
    "## TCNModel"
   ],
   "metadata": {
    "collapsed": false
   },
   "id": "a935cbc4d2e06461"
  },
  {
   "cell_type": "code",
   "execution_count": 28,
   "outputs": [],
   "source": [
    "tcn = TCNModel(time_col='date', target_col='type_a', lags=30, random_state=42)"
   ],
   "metadata": {
    "collapsed": false,
    "ExecuteTime": {
     "end_time": "2023-10-07T03:26:07.203988Z",
     "start_time": "2023-10-07T03:26:07.192397Z"
    }
   },
   "id": "2eb34c0d94081f88"
  },
  {
   "cell_type": "code",
   "execution_count": 29,
   "outputs": [
    {
     "data": {
      "text/plain": "         date       type_a  type_a_lower  type_a_upper\n0  2021-08-15  7910.128418   7877.528320   7942.728516\n1  2021-08-16  7845.146484   7812.814453   7877.478516\n2  2021-08-17  8464.758789   8429.873047   8499.644531\n3  2021-08-18  8248.763672   8214.767578   8282.759766\n4  2021-08-19  8290.397461   8256.230469   8324.564453\n5  2021-08-20  8629.541016   8593.975586   8665.106445\n6  2021-08-21  7846.062012   7813.726074   7878.397949\n7  2021-08-22  7684.980957   7653.308594   7716.653320\n8  2021-08-23  8132.227051   8098.711914   8165.742188\n9  2021-08-24  8739.114258   8703.097656   8775.130859\n10 2021-08-25  8268.570312   8234.493164   8302.647461\n11 2021-08-26  8180.406250   8146.692383   8214.120117\n12 2021-08-27  8080.689453   8047.386719   8113.992188\n13 2021-08-28  8008.931152   7975.923828   8041.938477\n14 2021-08-29  7459.100098   7428.358887   7489.841309\n15 2021-08-30  7417.611328   7387.041016   7448.181641\n16 2021-08-31  8124.787109   8091.302246   8158.271973\n17 2021-09-01  8133.526855   8100.006348   8167.047363\n18 2021-09-02  7816.897949   7784.682129   7849.113770\n19 2021-09-03  7687.402344   7655.720215   7719.084473\n20 2021-09-04  7713.332031   7681.542969   7745.121094\n21 2021-09-05  7343.657227   7313.391602   7373.922852\n22 2021-09-06  7906.685059   7874.099121   7939.270996\n23 2021-09-07  8525.117188   8489.982422   8560.251953\n24 2021-09-08  8579.160156   8543.802734   8614.517578\n25 2021-09-09  8346.248047   8311.850586   8380.645508\n26 2021-09-10  8191.961426   8158.199707   8225.722656\n27 2021-09-11  8085.680176   8052.356445   8119.003906\n28 2021-09-12  7367.363281   7337.000000   7397.726562\n29 2021-09-13  7346.257812   7315.981445   7376.534180",
      "text/html": "<div>\n<style scoped>\n    .dataframe tbody tr th:only-of-type {\n        vertical-align: middle;\n    }\n\n    .dataframe tbody tr th {\n        vertical-align: top;\n    }\n\n    .dataframe thead th {\n        text-align: right;\n    }\n</style>\n<table border=\"1\" class=\"dataframe\">\n  <thead>\n    <tr style=\"text-align: right;\">\n      <th></th>\n      <th>date</th>\n      <th>type_a</th>\n      <th>type_a_lower</th>\n      <th>type_a_upper</th>\n    </tr>\n  </thead>\n  <tbody>\n    <tr>\n      <th>0</th>\n      <td>2021-08-15</td>\n      <td>7910.128418</td>\n      <td>7877.528320</td>\n      <td>7942.728516</td>\n    </tr>\n    <tr>\n      <th>1</th>\n      <td>2021-08-16</td>\n      <td>7845.146484</td>\n      <td>7812.814453</td>\n      <td>7877.478516</td>\n    </tr>\n    <tr>\n      <th>2</th>\n      <td>2021-08-17</td>\n      <td>8464.758789</td>\n      <td>8429.873047</td>\n      <td>8499.644531</td>\n    </tr>\n    <tr>\n      <th>3</th>\n      <td>2021-08-18</td>\n      <td>8248.763672</td>\n      <td>8214.767578</td>\n      <td>8282.759766</td>\n    </tr>\n    <tr>\n      <th>4</th>\n      <td>2021-08-19</td>\n      <td>8290.397461</td>\n      <td>8256.230469</td>\n      <td>8324.564453</td>\n    </tr>\n    <tr>\n      <th>5</th>\n      <td>2021-08-20</td>\n      <td>8629.541016</td>\n      <td>8593.975586</td>\n      <td>8665.106445</td>\n    </tr>\n    <tr>\n      <th>6</th>\n      <td>2021-08-21</td>\n      <td>7846.062012</td>\n      <td>7813.726074</td>\n      <td>7878.397949</td>\n    </tr>\n    <tr>\n      <th>7</th>\n      <td>2021-08-22</td>\n      <td>7684.980957</td>\n      <td>7653.308594</td>\n      <td>7716.653320</td>\n    </tr>\n    <tr>\n      <th>8</th>\n      <td>2021-08-23</td>\n      <td>8132.227051</td>\n      <td>8098.711914</td>\n      <td>8165.742188</td>\n    </tr>\n    <tr>\n      <th>9</th>\n      <td>2021-08-24</td>\n      <td>8739.114258</td>\n      <td>8703.097656</td>\n      <td>8775.130859</td>\n    </tr>\n    <tr>\n      <th>10</th>\n      <td>2021-08-25</td>\n      <td>8268.570312</td>\n      <td>8234.493164</td>\n      <td>8302.647461</td>\n    </tr>\n    <tr>\n      <th>11</th>\n      <td>2021-08-26</td>\n      <td>8180.406250</td>\n      <td>8146.692383</td>\n      <td>8214.120117</td>\n    </tr>\n    <tr>\n      <th>12</th>\n      <td>2021-08-27</td>\n      <td>8080.689453</td>\n      <td>8047.386719</td>\n      <td>8113.992188</td>\n    </tr>\n    <tr>\n      <th>13</th>\n      <td>2021-08-28</td>\n      <td>8008.931152</td>\n      <td>7975.923828</td>\n      <td>8041.938477</td>\n    </tr>\n    <tr>\n      <th>14</th>\n      <td>2021-08-29</td>\n      <td>7459.100098</td>\n      <td>7428.358887</td>\n      <td>7489.841309</td>\n    </tr>\n    <tr>\n      <th>15</th>\n      <td>2021-08-30</td>\n      <td>7417.611328</td>\n      <td>7387.041016</td>\n      <td>7448.181641</td>\n    </tr>\n    <tr>\n      <th>16</th>\n      <td>2021-08-31</td>\n      <td>8124.787109</td>\n      <td>8091.302246</td>\n      <td>8158.271973</td>\n    </tr>\n    <tr>\n      <th>17</th>\n      <td>2021-09-01</td>\n      <td>8133.526855</td>\n      <td>8100.006348</td>\n      <td>8167.047363</td>\n    </tr>\n    <tr>\n      <th>18</th>\n      <td>2021-09-02</td>\n      <td>7816.897949</td>\n      <td>7784.682129</td>\n      <td>7849.113770</td>\n    </tr>\n    <tr>\n      <th>19</th>\n      <td>2021-09-03</td>\n      <td>7687.402344</td>\n      <td>7655.720215</td>\n      <td>7719.084473</td>\n    </tr>\n    <tr>\n      <th>20</th>\n      <td>2021-09-04</td>\n      <td>7713.332031</td>\n      <td>7681.542969</td>\n      <td>7745.121094</td>\n    </tr>\n    <tr>\n      <th>21</th>\n      <td>2021-09-05</td>\n      <td>7343.657227</td>\n      <td>7313.391602</td>\n      <td>7373.922852</td>\n    </tr>\n    <tr>\n      <th>22</th>\n      <td>2021-09-06</td>\n      <td>7906.685059</td>\n      <td>7874.099121</td>\n      <td>7939.270996</td>\n    </tr>\n    <tr>\n      <th>23</th>\n      <td>2021-09-07</td>\n      <td>8525.117188</td>\n      <td>8489.982422</td>\n      <td>8560.251953</td>\n    </tr>\n    <tr>\n      <th>24</th>\n      <td>2021-09-08</td>\n      <td>8579.160156</td>\n      <td>8543.802734</td>\n      <td>8614.517578</td>\n    </tr>\n    <tr>\n      <th>25</th>\n      <td>2021-09-09</td>\n      <td>8346.248047</td>\n      <td>8311.850586</td>\n      <td>8380.645508</td>\n    </tr>\n    <tr>\n      <th>26</th>\n      <td>2021-09-10</td>\n      <td>8191.961426</td>\n      <td>8158.199707</td>\n      <td>8225.722656</td>\n    </tr>\n    <tr>\n      <th>27</th>\n      <td>2021-09-11</td>\n      <td>8085.680176</td>\n      <td>8052.356445</td>\n      <td>8119.003906</td>\n    </tr>\n    <tr>\n      <th>28</th>\n      <td>2021-09-12</td>\n      <td>7367.363281</td>\n      <td>7337.000000</td>\n      <td>7397.726562</td>\n    </tr>\n    <tr>\n      <th>29</th>\n      <td>2021-09-13</td>\n      <td>7346.257812</td>\n      <td>7315.981445</td>\n      <td>7376.534180</td>\n    </tr>\n  </tbody>\n</table>\n</div>"
     },
     "execution_count": 29,
     "metadata": {},
     "output_type": "execute_result"
    }
   ],
   "source": [
    "tcn.fit(data)\n",
    "tcn.predict(30)"
   ],
   "metadata": {
    "collapsed": false,
    "ExecuteTime": {
     "end_time": "2023-10-07T03:32:49.074480Z",
     "start_time": "2023-10-07T03:26:07.197987Z"
    }
   },
   "id": "ac7ce9131406903b"
  },
  {
   "cell_type": "markdown",
   "source": [
    "## NHitsModel"
   ],
   "metadata": {
    "collapsed": false
   },
   "id": "b014add2205b843a"
  },
  {
   "cell_type": "code",
   "execution_count": 30,
   "outputs": [],
   "source": [
    "n_hits = NHitsModel(time_col='date', target_col='type_a', lags=30, random_state=42)"
   ],
   "metadata": {
    "collapsed": false,
    "ExecuteTime": {
     "end_time": "2023-10-07T03:32:49.081142Z",
     "start_time": "2023-10-07T03:32:49.075061Z"
    }
   },
   "id": "5da169dbee5d210f"
  },
  {
   "cell_type": "code",
   "execution_count": 31,
   "outputs": [
    {
     "data": {
      "text/plain": "         date       type_a  type_a_lower  type_a_upper\n0  2021-08-15  7824.524902   7777.578125   7871.471680\n1  2021-08-16  8459.645508   8408.888672   8510.402344\n2  2021-08-17  8486.732422   8435.812500   8537.652344\n3  2021-08-18  8430.742188   8380.158203   8481.326172\n4  2021-08-19  8380.701172   8330.417969   8430.984375\n5  2021-08-20  8595.738281   8544.164062   8647.312500\n6  2021-08-21  8157.101562   8108.159668   8206.043945\n7  2021-08-22  8217.091797   8167.790039   8266.393555\n8  2021-08-23  8686.380859   8634.263672   8738.498047\n9  2021-08-24  8842.955078   8789.898438   8896.011719\n10 2021-08-25  8937.427734   8883.803711   8991.051758\n11 2021-08-26  8648.820312   8596.927734   8700.712891\n12 2021-08-27  8441.979492   8391.328125   8492.630859\n13 2021-08-28  8287.646484   8237.920898   8337.372070\n14 2021-08-29  8265.404297   8215.812500   8314.996094\n15 2021-08-30  8381.112305   8330.826172   8431.398438\n16 2021-08-31  8338.464844   8288.434570   8388.495117\n17 2021-09-01  8166.935547   8117.934570   8215.936523\n18 2021-09-02  8300.710938   8250.907227   8350.514648\n19 2021-09-03  8340.027344   8289.988281   8390.066406\n20 2021-09-04  8006.057617   7958.021973   8054.093262\n21 2021-09-05  8010.560547   7962.497559   8058.623535\n22 2021-09-06  8802.698242   8749.882812   8855.513672\n23 2021-09-07  9000.376953   8946.375000   9054.378906\n24 2021-09-08  8927.335938   8873.772461   8980.899414\n25 2021-09-09  9020.585938   8966.462891   9074.708984\n26 2021-09-10  8935.826172   8882.211914   8989.440430\n27 2021-09-11  8624.922852   8573.173828   8676.671875\n28 2021-09-12  8806.243164   8753.406250   8859.080078\n29 2021-09-13  9664.618164   9606.630859   9722.605469",
      "text/html": "<div>\n<style scoped>\n    .dataframe tbody tr th:only-of-type {\n        vertical-align: middle;\n    }\n\n    .dataframe tbody tr th {\n        vertical-align: top;\n    }\n\n    .dataframe thead th {\n        text-align: right;\n    }\n</style>\n<table border=\"1\" class=\"dataframe\">\n  <thead>\n    <tr style=\"text-align: right;\">\n      <th></th>\n      <th>date</th>\n      <th>type_a</th>\n      <th>type_a_lower</th>\n      <th>type_a_upper</th>\n    </tr>\n  </thead>\n  <tbody>\n    <tr>\n      <th>0</th>\n      <td>2021-08-15</td>\n      <td>7824.524902</td>\n      <td>7777.578125</td>\n      <td>7871.471680</td>\n    </tr>\n    <tr>\n      <th>1</th>\n      <td>2021-08-16</td>\n      <td>8459.645508</td>\n      <td>8408.888672</td>\n      <td>8510.402344</td>\n    </tr>\n    <tr>\n      <th>2</th>\n      <td>2021-08-17</td>\n      <td>8486.732422</td>\n      <td>8435.812500</td>\n      <td>8537.652344</td>\n    </tr>\n    <tr>\n      <th>3</th>\n      <td>2021-08-18</td>\n      <td>8430.742188</td>\n      <td>8380.158203</td>\n      <td>8481.326172</td>\n    </tr>\n    <tr>\n      <th>4</th>\n      <td>2021-08-19</td>\n      <td>8380.701172</td>\n      <td>8330.417969</td>\n      <td>8430.984375</td>\n    </tr>\n    <tr>\n      <th>5</th>\n      <td>2021-08-20</td>\n      <td>8595.738281</td>\n      <td>8544.164062</td>\n      <td>8647.312500</td>\n    </tr>\n    <tr>\n      <th>6</th>\n      <td>2021-08-21</td>\n      <td>8157.101562</td>\n      <td>8108.159668</td>\n      <td>8206.043945</td>\n    </tr>\n    <tr>\n      <th>7</th>\n      <td>2021-08-22</td>\n      <td>8217.091797</td>\n      <td>8167.790039</td>\n      <td>8266.393555</td>\n    </tr>\n    <tr>\n      <th>8</th>\n      <td>2021-08-23</td>\n      <td>8686.380859</td>\n      <td>8634.263672</td>\n      <td>8738.498047</td>\n    </tr>\n    <tr>\n      <th>9</th>\n      <td>2021-08-24</td>\n      <td>8842.955078</td>\n      <td>8789.898438</td>\n      <td>8896.011719</td>\n    </tr>\n    <tr>\n      <th>10</th>\n      <td>2021-08-25</td>\n      <td>8937.427734</td>\n      <td>8883.803711</td>\n      <td>8991.051758</td>\n    </tr>\n    <tr>\n      <th>11</th>\n      <td>2021-08-26</td>\n      <td>8648.820312</td>\n      <td>8596.927734</td>\n      <td>8700.712891</td>\n    </tr>\n    <tr>\n      <th>12</th>\n      <td>2021-08-27</td>\n      <td>8441.979492</td>\n      <td>8391.328125</td>\n      <td>8492.630859</td>\n    </tr>\n    <tr>\n      <th>13</th>\n      <td>2021-08-28</td>\n      <td>8287.646484</td>\n      <td>8237.920898</td>\n      <td>8337.372070</td>\n    </tr>\n    <tr>\n      <th>14</th>\n      <td>2021-08-29</td>\n      <td>8265.404297</td>\n      <td>8215.812500</td>\n      <td>8314.996094</td>\n    </tr>\n    <tr>\n      <th>15</th>\n      <td>2021-08-30</td>\n      <td>8381.112305</td>\n      <td>8330.826172</td>\n      <td>8431.398438</td>\n    </tr>\n    <tr>\n      <th>16</th>\n      <td>2021-08-31</td>\n      <td>8338.464844</td>\n      <td>8288.434570</td>\n      <td>8388.495117</td>\n    </tr>\n    <tr>\n      <th>17</th>\n      <td>2021-09-01</td>\n      <td>8166.935547</td>\n      <td>8117.934570</td>\n      <td>8215.936523</td>\n    </tr>\n    <tr>\n      <th>18</th>\n      <td>2021-09-02</td>\n      <td>8300.710938</td>\n      <td>8250.907227</td>\n      <td>8350.514648</td>\n    </tr>\n    <tr>\n      <th>19</th>\n      <td>2021-09-03</td>\n      <td>8340.027344</td>\n      <td>8289.988281</td>\n      <td>8390.066406</td>\n    </tr>\n    <tr>\n      <th>20</th>\n      <td>2021-09-04</td>\n      <td>8006.057617</td>\n      <td>7958.021973</td>\n      <td>8054.093262</td>\n    </tr>\n    <tr>\n      <th>21</th>\n      <td>2021-09-05</td>\n      <td>8010.560547</td>\n      <td>7962.497559</td>\n      <td>8058.623535</td>\n    </tr>\n    <tr>\n      <th>22</th>\n      <td>2021-09-06</td>\n      <td>8802.698242</td>\n      <td>8749.882812</td>\n      <td>8855.513672</td>\n    </tr>\n    <tr>\n      <th>23</th>\n      <td>2021-09-07</td>\n      <td>9000.376953</td>\n      <td>8946.375000</td>\n      <td>9054.378906</td>\n    </tr>\n    <tr>\n      <th>24</th>\n      <td>2021-09-08</td>\n      <td>8927.335938</td>\n      <td>8873.772461</td>\n      <td>8980.899414</td>\n    </tr>\n    <tr>\n      <th>25</th>\n      <td>2021-09-09</td>\n      <td>9020.585938</td>\n      <td>8966.462891</td>\n      <td>9074.708984</td>\n    </tr>\n    <tr>\n      <th>26</th>\n      <td>2021-09-10</td>\n      <td>8935.826172</td>\n      <td>8882.211914</td>\n      <td>8989.440430</td>\n    </tr>\n    <tr>\n      <th>27</th>\n      <td>2021-09-11</td>\n      <td>8624.922852</td>\n      <td>8573.173828</td>\n      <td>8676.671875</td>\n    </tr>\n    <tr>\n      <th>28</th>\n      <td>2021-09-12</td>\n      <td>8806.243164</td>\n      <td>8753.406250</td>\n      <td>8859.080078</td>\n    </tr>\n    <tr>\n      <th>29</th>\n      <td>2021-09-13</td>\n      <td>9664.618164</td>\n      <td>9606.630859</td>\n      <td>9722.605469</td>\n    </tr>\n  </tbody>\n</table>\n</div>"
     },
     "execution_count": 31,
     "metadata": {},
     "output_type": "execute_result"
    }
   ],
   "source": [
    "n_hits.fit(data)\n",
    "n_hits.predict(30)"
   ],
   "metadata": {
    "collapsed": false,
    "ExecuteTime": {
     "end_time": "2023-10-07T03:35:01.074889Z",
     "start_time": "2023-10-07T03:32:49.083707Z"
    }
   },
   "id": "b998d02ab91c8ed"
  },
  {
   "cell_type": "markdown",
   "source": [
    "## TFTModel"
   ],
   "metadata": {
    "collapsed": false
   },
   "id": "65eeb062c00fea05"
  },
  {
   "cell_type": "code",
   "execution_count": 32,
   "outputs": [],
   "source": [
    "tft = TFTModel(time_col='date', target_col='type_a', lags=30, random_state=42)"
   ],
   "metadata": {
    "collapsed": false,
    "ExecuteTime": {
     "end_time": "2023-10-07T03:35:01.081523Z",
     "start_time": "2023-10-07T03:35:01.075532Z"
    }
   },
   "id": "b2ed8bf0e18f101a"
  },
  {
   "cell_type": "code",
   "execution_count": 33,
   "outputs": [
    {
     "data": {
      "text/plain": "         date       type_a  type_a_lower  type_a_upper\n0  2021-08-15  2209.738525    444.906128   3974.571045\n1  2021-08-16  2209.738525    444.906128   3974.571045\n2  2021-08-17  2209.738770    444.906189   3974.571533\n3  2021-08-18  2209.738770    444.906189   3974.571533\n4  2021-08-19  2209.738281    444.906067   3974.570557\n5  2021-08-20  2209.738525    444.906128   3974.571045\n6  2021-08-21  2209.738525    444.906128   3974.571045\n7  2021-08-22  2209.738525    444.906128   3974.571045\n8  2021-08-23  2209.738525    444.906128   3974.571045\n9  2021-08-24  2209.738281    444.906067   3974.570557\n10 2021-08-25  2209.738525    444.906128   3974.571045\n11 2021-08-26  2209.738525    444.906128   3974.571045\n12 2021-08-27  2209.738770    444.906189   3974.571533\n13 2021-08-28  2209.738525    444.906128   3974.571045\n14 2021-08-29  2209.738525    444.906128   3974.571045\n15 2021-08-30  2209.738525    444.906128   3974.571045\n16 2021-08-31  2209.738770    444.906189   3974.571533\n17 2021-09-01  2209.738525    444.906128   3974.571045\n18 2021-09-02  2209.738525    444.906128   3974.571045\n19 2021-09-03  2209.738525    444.906128   3974.571045\n20 2021-09-04  2209.738770    444.906189   3974.571533\n21 2021-09-05  2209.738770    444.906189   3974.571533\n22 2021-09-06  2209.738770    444.906189   3974.571533\n23 2021-09-07  2209.738525    444.906128   3974.571045\n24 2021-09-08  2209.738525    444.906128   3974.571045\n25 2021-09-09  2209.738770    444.906189   3974.571533\n26 2021-09-10  2209.738281    444.906067   3974.570557\n27 2021-09-11  2209.738281    444.906067   3974.570557\n28 2021-09-12  2209.738525    444.906128   3974.571045\n29 2021-09-13  2209.738525    444.906128   3974.571045",
      "text/html": "<div>\n<style scoped>\n    .dataframe tbody tr th:only-of-type {\n        vertical-align: middle;\n    }\n\n    .dataframe tbody tr th {\n        vertical-align: top;\n    }\n\n    .dataframe thead th {\n        text-align: right;\n    }\n</style>\n<table border=\"1\" class=\"dataframe\">\n  <thead>\n    <tr style=\"text-align: right;\">\n      <th></th>\n      <th>date</th>\n      <th>type_a</th>\n      <th>type_a_lower</th>\n      <th>type_a_upper</th>\n    </tr>\n  </thead>\n  <tbody>\n    <tr>\n      <th>0</th>\n      <td>2021-08-15</td>\n      <td>2209.738525</td>\n      <td>444.906128</td>\n      <td>3974.571045</td>\n    </tr>\n    <tr>\n      <th>1</th>\n      <td>2021-08-16</td>\n      <td>2209.738525</td>\n      <td>444.906128</td>\n      <td>3974.571045</td>\n    </tr>\n    <tr>\n      <th>2</th>\n      <td>2021-08-17</td>\n      <td>2209.738770</td>\n      <td>444.906189</td>\n      <td>3974.571533</td>\n    </tr>\n    <tr>\n      <th>3</th>\n      <td>2021-08-18</td>\n      <td>2209.738770</td>\n      <td>444.906189</td>\n      <td>3974.571533</td>\n    </tr>\n    <tr>\n      <th>4</th>\n      <td>2021-08-19</td>\n      <td>2209.738281</td>\n      <td>444.906067</td>\n      <td>3974.570557</td>\n    </tr>\n    <tr>\n      <th>5</th>\n      <td>2021-08-20</td>\n      <td>2209.738525</td>\n      <td>444.906128</td>\n      <td>3974.571045</td>\n    </tr>\n    <tr>\n      <th>6</th>\n      <td>2021-08-21</td>\n      <td>2209.738525</td>\n      <td>444.906128</td>\n      <td>3974.571045</td>\n    </tr>\n    <tr>\n      <th>7</th>\n      <td>2021-08-22</td>\n      <td>2209.738525</td>\n      <td>444.906128</td>\n      <td>3974.571045</td>\n    </tr>\n    <tr>\n      <th>8</th>\n      <td>2021-08-23</td>\n      <td>2209.738525</td>\n      <td>444.906128</td>\n      <td>3974.571045</td>\n    </tr>\n    <tr>\n      <th>9</th>\n      <td>2021-08-24</td>\n      <td>2209.738281</td>\n      <td>444.906067</td>\n      <td>3974.570557</td>\n    </tr>\n    <tr>\n      <th>10</th>\n      <td>2021-08-25</td>\n      <td>2209.738525</td>\n      <td>444.906128</td>\n      <td>3974.571045</td>\n    </tr>\n    <tr>\n      <th>11</th>\n      <td>2021-08-26</td>\n      <td>2209.738525</td>\n      <td>444.906128</td>\n      <td>3974.571045</td>\n    </tr>\n    <tr>\n      <th>12</th>\n      <td>2021-08-27</td>\n      <td>2209.738770</td>\n      <td>444.906189</td>\n      <td>3974.571533</td>\n    </tr>\n    <tr>\n      <th>13</th>\n      <td>2021-08-28</td>\n      <td>2209.738525</td>\n      <td>444.906128</td>\n      <td>3974.571045</td>\n    </tr>\n    <tr>\n      <th>14</th>\n      <td>2021-08-29</td>\n      <td>2209.738525</td>\n      <td>444.906128</td>\n      <td>3974.571045</td>\n    </tr>\n    <tr>\n      <th>15</th>\n      <td>2021-08-30</td>\n      <td>2209.738525</td>\n      <td>444.906128</td>\n      <td>3974.571045</td>\n    </tr>\n    <tr>\n      <th>16</th>\n      <td>2021-08-31</td>\n      <td>2209.738770</td>\n      <td>444.906189</td>\n      <td>3974.571533</td>\n    </tr>\n    <tr>\n      <th>17</th>\n      <td>2021-09-01</td>\n      <td>2209.738525</td>\n      <td>444.906128</td>\n      <td>3974.571045</td>\n    </tr>\n    <tr>\n      <th>18</th>\n      <td>2021-09-02</td>\n      <td>2209.738525</td>\n      <td>444.906128</td>\n      <td>3974.571045</td>\n    </tr>\n    <tr>\n      <th>19</th>\n      <td>2021-09-03</td>\n      <td>2209.738525</td>\n      <td>444.906128</td>\n      <td>3974.571045</td>\n    </tr>\n    <tr>\n      <th>20</th>\n      <td>2021-09-04</td>\n      <td>2209.738770</td>\n      <td>444.906189</td>\n      <td>3974.571533</td>\n    </tr>\n    <tr>\n      <th>21</th>\n      <td>2021-09-05</td>\n      <td>2209.738770</td>\n      <td>444.906189</td>\n      <td>3974.571533</td>\n    </tr>\n    <tr>\n      <th>22</th>\n      <td>2021-09-06</td>\n      <td>2209.738770</td>\n      <td>444.906189</td>\n      <td>3974.571533</td>\n    </tr>\n    <tr>\n      <th>23</th>\n      <td>2021-09-07</td>\n      <td>2209.738525</td>\n      <td>444.906128</td>\n      <td>3974.571045</td>\n    </tr>\n    <tr>\n      <th>24</th>\n      <td>2021-09-08</td>\n      <td>2209.738525</td>\n      <td>444.906128</td>\n      <td>3974.571045</td>\n    </tr>\n    <tr>\n      <th>25</th>\n      <td>2021-09-09</td>\n      <td>2209.738770</td>\n      <td>444.906189</td>\n      <td>3974.571533</td>\n    </tr>\n    <tr>\n      <th>26</th>\n      <td>2021-09-10</td>\n      <td>2209.738281</td>\n      <td>444.906067</td>\n      <td>3974.570557</td>\n    </tr>\n    <tr>\n      <th>27</th>\n      <td>2021-09-11</td>\n      <td>2209.738281</td>\n      <td>444.906067</td>\n      <td>3974.570557</td>\n    </tr>\n    <tr>\n      <th>28</th>\n      <td>2021-09-12</td>\n      <td>2209.738525</td>\n      <td>444.906128</td>\n      <td>3974.571045</td>\n    </tr>\n    <tr>\n      <th>29</th>\n      <td>2021-09-13</td>\n      <td>2209.738525</td>\n      <td>444.906128</td>\n      <td>3974.571045</td>\n    </tr>\n  </tbody>\n</table>\n</div>"
     },
     "execution_count": 33,
     "metadata": {},
     "output_type": "execute_result"
    }
   ],
   "source": [
    "tft.fit(data)\n",
    "tft.predict(30)"
   ],
   "metadata": {
    "collapsed": false,
    "ExecuteTime": {
     "end_time": "2023-10-07T03:45:13.076247Z",
     "start_time": "2023-10-07T03:35:01.084129Z"
    }
   },
   "id": "19b853311c7d76be"
  },
  {
   "cell_type": "code",
   "execution_count": 33,
   "outputs": [],
   "source": [],
   "metadata": {
    "collapsed": false,
    "ExecuteTime": {
     "end_time": "2023-10-07T03:45:13.077476Z",
     "start_time": "2023-10-07T03:45:13.076168Z"
    }
   },
   "id": "ce0b858b9d8d18bd"
  }
 ],
 "metadata": {
  "kernelspec": {
   "display_name": "Python 3",
   "language": "python",
   "name": "python3"
  },
  "language_info": {
   "codemirror_mode": {
    "name": "ipython",
    "version": 2
   },
   "file_extension": ".py",
   "mimetype": "text/x-python",
   "name": "python",
   "nbconvert_exporter": "python",
   "pygments_lexer": "ipython2",
   "version": "2.7.6"
  }
 },
 "nbformat": 4,
 "nbformat_minor": 5
}

{
 "cells": [
  {
   "cell_type": "code",
   "execution_count": 1,
   "id": "6a5a8fc9-63d1-4f45-8b1a-a9ac3ba3e08b",
   "metadata": {
    "ExecuteTime": {
     "end_time": "2023-11-07T13:17:02.184915Z",
     "start_time": "2023-11-07T13:17:02.170948Z"
    },
    "execution": {
     "iopub.execute_input": "2023-11-07T13:20:59.129126Z",
     "iopub.status.busy": "2023-11-07T13:20:59.127821Z",
     "iopub.status.idle": "2023-11-07T13:20:59.135800Z",
     "shell.execute_reply": "2023-11-07T13:20:59.134955Z",
     "shell.execute_reply.started": "2023-11-07T13:20:59.129101Z"
    }
   },
   "outputs": [],
   "source": [
    "import sys\n",
    "sys.path.insert(0, '..')"
   ]
  },
  {
   "cell_type": "code",
   "execution_count": 2,
   "id": "3834a91f-d0fa-4308-91be-5e131750508c",
   "metadata": {
    "ExecuteTime": {
     "end_time": "2023-11-07T13:17:02.385873Z",
     "start_time": "2023-11-07T13:17:02.380227Z"
    },
    "execution": {
     "iopub.execute_input": "2023-11-07T13:20:59.138031Z",
     "iopub.status.busy": "2023-11-07T13:20:59.137799Z",
     "iopub.status.idle": "2023-11-07T13:20:59.146808Z",
     "shell.execute_reply": "2023-11-07T13:20:59.146149Z",
     "shell.execute_reply.started": "2023-11-07T13:20:59.138010Z"
    }
   },
   "outputs": [
    {
     "data": {
      "text/plain": [
       "'0.3.10'"
      ]
     },
     "execution_count": 2,
     "metadata": {},
     "output_type": "execute_result"
    }
   ],
   "source": [
    "import PipelineTS\n",
    "PipelineTS.__version__"
   ]
  },
  {
   "cell_type": "code",
   "execution_count": 3,
   "id": "a21fc4f68d02a829",
   "metadata": {
    "ExecuteTime": {
     "end_time": "2023-11-07T13:17:04.932047Z",
     "start_time": "2023-11-07T13:17:02.565498Z"
    },
    "execution": {
     "iopub.execute_input": "2023-11-07T13:20:59.147839Z",
     "iopub.status.busy": "2023-11-07T13:20:59.147722Z",
     "iopub.status.idle": "2023-11-07T13:21:01.356779Z",
     "shell.execute_reply": "2023-11-07T13:21:01.356417Z",
     "shell.execute_reply.started": "2023-11-07T13:20:59.147826Z"
    }
   },
   "outputs": [
    {
     "name": "stdout",
     "output_type": "stream",
     "text": [
      "+----+----------------------+----------------------------------------------------------------------+\n",
      "|    | ds name              | columns                                                              |\n",
      "+----+----------------------+----------------------------------------------------------------------+\n",
      "|  0 | AirPassengers        | Month, #Passengers                                                   |\n",
      "|  1 | ETTh1                | date, HUFL, HULL, MUFL, MULL, LUFL, LULL, OT                         |\n",
      "|  2 | ETTh2                | date, HUFL, HULL, MUFL, MULL, LUFL, LULL, OT                         |\n",
      "|  3 | ETTm1                | date, HUFL, HULL, MUFL, MULL, LUFL, LULL, OT                         |\n",
      "|  4 | ETTm2                | date, HUFL, HULL, MUFL, MULL, LUFL, LULL, OT                         |\n",
      "|  5 | Electric_Production  | date, value                                                          |\n",
      "|  6 | M3_monthly_FTS       | series_id, method_id, forecast, horizon, timestamp, origin_timestamp |\n",
      "|  7 | M3_monthly_TSTS      | series_id, category, value, timestamp                                |\n",
      "|  8 | M3_other_FTS         | series_id, method_id, forecast, horizon, timestamp, origin_timestamp |\n",
      "|  9 | M3_other_TSTS        | series_id, category, value, timestamp                                |\n",
      "| 10 | M3_quarterly_FTS     | series_id, method_id, forecast, horizon, timestamp, origin_timestamp |\n",
      "| 11 | M3_quarterly_TSTS    | series_id, category, value, timestamp                                |\n",
      "| 12 | M3_yearly_FTS        | series_id, method_id, forecast, horizon, timestamp, origin_timestamp |\n",
      "| 13 | M3_yearly_TSTS       | series_id, category, value, timestamp                                |\n",
      "| 14 | Messages_Sent        | date, ta, tb, tc                                                     |\n",
      "| 15 | Messages_Sent_Hour   | date, ta, tb, tc                                                     |\n",
      "| 16 | Supermarket_Incoming | date, goods_cnt                                                      |\n",
      "| 17 | Web_Sales            | date, type_a, type_b, sales_cnt                                      |\n",
      "+----+----------------------+----------------------------------------------------------------------+\n"
     ]
    }
   ],
   "source": [
    "from PipelineTS.dataset import BuiltInSeriesData\n",
    "bs = BuiltInSeriesData()"
   ]
  },
  {
   "cell_type": "code",
   "execution_count": 4,
   "id": "7506c9f4d4c32daa",
   "metadata": {
    "ExecuteTime": {
     "end_time": "2023-11-07T13:17:04.936265Z",
     "start_time": "2023-11-07T13:17:04.929530Z"
    },
    "execution": {
     "iopub.execute_input": "2023-11-07T13:21:01.357445Z",
     "iopub.status.busy": "2023-11-07T13:21:01.357353Z",
     "iopub.status.idle": "2023-11-07T13:21:01.363866Z",
     "shell.execute_reply": "2023-11-07T13:21:01.363568Z",
     "shell.execute_reply.started": "2023-11-07T13:21:01.357433Z"
    }
   },
   "outputs": [],
   "source": [
    "import pandas as pd\n",
    "init_data = bs['Messages_Sent']\n",
    "\n",
    "time_col = 'date'\n",
    "target_col = 'ta'\n",
    "lags = 60\n",
    "n = 40\n",
    "accelerator = 'auto'\n",
    "\n",
    "init_data = init_data[[time_col, target_col]]\n",
    "init_data[time_col] = pd.to_datetime(init_data[time_col])\n",
    "init_data = init_data.sort_values(time_col).reset_index(drop=True)"
   ]
  },
  {
   "cell_type": "code",
   "execution_count": 5,
   "id": "de503d8fc108c935",
   "metadata": {
    "ExecuteTime": {
     "end_time": "2023-11-07T13:17:04.942493Z",
     "start_time": "2023-11-07T13:17:04.937916Z"
    },
    "execution": {
     "iopub.execute_input": "2023-11-07T13:21:01.364348Z",
     "iopub.status.busy": "2023-11-07T13:21:01.364262Z",
     "iopub.status.idle": "2023-11-07T13:21:01.370507Z",
     "shell.execute_reply": "2023-11-07T13:21:01.370211Z",
     "shell.execute_reply.started": "2023-11-07T13:21:01.364339Z"
    }
   },
   "outputs": [
    {
     "name": "stdout",
     "output_type": "stream",
     "text": [
      "data shape:  (562, 2) , valid data shape:  (40, 2)\n"
     ]
    },
    {
     "data": {
      "text/html": [
       "<div>\n",
       "<style scoped>\n",
       "    .dataframe tbody tr th:only-of-type {\n",
       "        vertical-align: middle;\n",
       "    }\n",
       "\n",
       "    .dataframe tbody tr th {\n",
       "        vertical-align: top;\n",
       "    }\n",
       "\n",
       "    .dataframe thead th {\n",
       "        text-align: right;\n",
       "    }\n",
       "</style>\n",
       "<table border=\"1\" class=\"dataframe\">\n",
       "  <thead>\n",
       "    <tr style=\"text-align: right;\">\n",
       "      <th></th>\n",
       "      <th>date</th>\n",
       "      <th>ta</th>\n",
       "    </tr>\n",
       "  </thead>\n",
       "  <tbody>\n",
       "    <tr>\n",
       "      <th>557</th>\n",
       "      <td>2021-07-11</td>\n",
       "      <td>125957</td>\n",
       "    </tr>\n",
       "    <tr>\n",
       "      <th>558</th>\n",
       "      <td>2021-07-12</td>\n",
       "      <td>139012</td>\n",
       "    </tr>\n",
       "    <tr>\n",
       "      <th>559</th>\n",
       "      <td>2021-07-13</td>\n",
       "      <td>127014</td>\n",
       "    </tr>\n",
       "    <tr>\n",
       "      <th>560</th>\n",
       "      <td>2021-07-14</td>\n",
       "      <td>118241</td>\n",
       "    </tr>\n",
       "    <tr>\n",
       "      <th>561</th>\n",
       "      <td>2021-07-15</td>\n",
       "      <td>114358</td>\n",
       "    </tr>\n",
       "  </tbody>\n",
       "</table>\n",
       "</div>"
      ],
      "text/plain": [
       "          date      ta\n",
       "557 2021-07-11  125957\n",
       "558 2021-07-12  139012\n",
       "559 2021-07-13  127014\n",
       "560 2021-07-14  118241\n",
       "561 2021-07-15  114358"
      ]
     },
     "execution_count": 5,
     "metadata": {},
     "output_type": "execute_result"
    }
   ],
   "source": [
    "valid_data = init_data.iloc[-n:, :]\n",
    "data = init_data.iloc[:-n, :]\n",
    "print(\"data shape: \", data.shape, \", valid data shape: \", valid_data.shape)\n",
    "data.tail(5)"
   ]
  },
  {
   "cell_type": "code",
   "execution_count": 6,
   "id": "fa19cb74d07caa3",
   "metadata": {
    "ExecuteTime": {
     "end_time": "2023-11-07T13:17:05.175522Z",
     "start_time": "2023-11-07T13:17:04.943506Z"
    },
    "execution": {
     "iopub.execute_input": "2023-11-07T13:21:01.371219Z",
     "iopub.status.busy": "2023-11-07T13:21:01.371056Z",
     "iopub.status.idle": "2023-11-07T13:21:01.483480Z",
     "shell.execute_reply": "2023-11-07T13:21:01.481745Z",
     "shell.execute_reply.started": "2023-11-07T13:21:01.371207Z"
    }
   },
   "outputs": [
    {
     "data": {
      "image/png": "[encoded data removed]",
      "text/plain": [
       "<Figure size 640x480 with 1 Axes>"
      ]
     },
     "metadata": {},
     "output_type": "display_data"
    }
   ],
   "source": [
    "from PipelineTS.plot import plot_data_period\n",
    "plot_data_period(\n",
    "    data.iloc[-200:, :], \n",
    "    valid_data, \n",
    "    time_col=time_col, \n",
    "    target_col=target_col, \n",
    "    labels=['Train data', 'Valid_data'],\n",
    "    # date_fmt='%Y-%m-%d %H:%M:%S'  # 支持指定时间格式\n",
    ")"
   ]
  },
  {
   "cell_type": "markdown",
   "id": "fda57b56619a01ac",
   "metadata": {},
   "source": [
    "# PipelineTS"
   ]
  },
  {
   "cell_type": "code",
   "execution_count": 7,
   "id": "7c8926ea8b0bfb1a",
   "metadata": {
    "ExecuteTime": {
     "end_time": "2023-10-09T03:52:01.793645Z",
     "start_time": "2023-10-09T03:52:00.774149Z"
    },
    "execution": {
     "iopub.execute_input": "2023-11-02T07:57:01.959000Z",
     "iopub.status.busy": "2023-11-02T07:57:01.958654Z",
     "iopub.status.idle": "2023-11-02T07:57:03.051912Z",
     "shell.execute_reply": "2023-11-02T07:57:03.051574Z",
     "shell.execute_reply.started": "2023-11-02T07:57:01.958979Z"
    }
   },
   "outputs": [],
   "source": [
    "from PipelineTS.pipeline import ModelPipeline, PipelineConfigs"
   ]
  },
  {
   "cell_type": "code",
   "execution_count": 8,
   "id": "81de27852109c9a",
   "metadata": {
    "ExecuteTime": {
     "end_time": "2023-10-09T03:52:01.797016Z",
     "start_time": "2023-10-09T03:52:01.794702Z"
    },
    "execution": {
     "iopub.execute_input": "2023-11-02T07:57:03.052538Z",
     "iopub.status.busy": "2023-11-02T07:57:03.052381Z",
     "iopub.status.idle": "2023-11-02T07:57:03.055034Z",
     "shell.execute_reply": "2023-11-02T07:57:03.054788Z",
     "shell.execute_reply.started": "2023-11-02T07:57:03.052529Z"
    }
   },
   "outputs": [
    {
     "data": {
      "text/plain": [
       "['auto_arima',\n",
       " 'catboost',\n",
       " 'lightgbm',\n",
       " 'xgboost',\n",
       " 'wide_gbrt',\n",
       " 'd_linear',\n",
       " 'n_linear',\n",
       " 'n_beats',\n",
       " 'n_hits',\n",
       " 'tcn',\n",
       " 'tft',\n",
       " 'gau',\n",
       " 'stacking_rnn',\n",
       " 'time2vec',\n",
       " 'multi_output_model',\n",
       " 'multi_step_model',\n",
       " 'transformer',\n",
       " 'random_forest',\n",
       " 'tide',\n",
       " 'seg_rnn',\n",
       " 'prophet']"
      ]
     },
     "execution_count": 8,
     "metadata": {},
     "output_type": "execute_result"
    }
   ],
   "source": [
    "# list all models\n",
    "ModelPipeline.list_all_available_models()"
   ]
  },
  {
   "cell_type": "code",
   "execution_count": 9,
   "id": "b37d49bfddf56750",
   "metadata": {
    "ExecuteTime": {
     "end_time": "2023-10-09T03:52:01.800840Z",
     "start_time": "2023-10-09T03:52:01.797755Z"
    },
    "execution": {
     "iopub.execute_input": "2023-11-02T07:57:03.055495Z",
     "iopub.status.busy": "2023-11-02T07:57:03.055423Z",
     "iopub.status.idle": "2023-11-02T07:57:03.058817Z",
     "shell.execute_reply": "2023-11-02T07:57:03.058504Z",
     "shell.execute_reply.started": "2023-11-02T07:57:03.055488Z"
    }
   },
   "outputs": [
    {
     "data": {
      "text/html": [
       "<table>\n",
       "<thead>\n",
       "<tr><th style=\"text-align: right;\">  </th><th>model_name        </th><th>model_name_after_rename  </th><th>model_configs                                                                                                                                                    </th></tr>\n",
       "</thead>\n",
       "<tbody>\n",
       "<tr><td style=\"text-align: right;\"> 0</td><td>lightgbm          </td><td>lightgbm_linear_tree     </td><td>{&#x27;init_configs&#x27;: {&#x27;verbose&#x27;: -1, &#x27;linear_tree&#x27;: True}, &#x27;fit_configs&#x27;: {}, &#x27;predict_configs&#x27;: {}}                                                                 </td></tr>\n",
       "<tr><td style=\"text-align: right;\"> 1</td><td>multi_output_model</td><td>multi_output_model_1     </td><td>{&#x27;init_configs&#x27;: {&#x27;verbose&#x27;: -1}, &#x27;fit_configs&#x27;: {}, &#x27;predict_configs&#x27;: {}}                                                                                      </td></tr>\n",
       "<tr><td style=\"text-align: right;\"> 2</td><td>multi_output_model</td><td>multi_output_model_2     </td><td>{&#x27;init_configs&#x27;: {&#x27;estimator&#x27;: &lt;class &#x27;xgboost.sklearn.XGBRegressor&#x27;&gt;, &#x27;random_state&#x27;: 42, &#x27;kwargs&#x27;: {&#x27;verbosity&#x27;: 0}}, &#x27;fit_configs&#x27;: {}, &#x27;predict_configs&#x27;: {}}</td></tr>\n",
       "<tr><td style=\"text-align: right;\"> 3</td><td>multi_output_model</td><td>multi_output_model_3     </td><td>{&#x27;init_configs&#x27;: {&#x27;estimator&#x27;: &lt;class &#x27;catboost.core.CatBoostRegressor&#x27;&gt;, &#x27;random_state&#x27;: 42, &#x27;verbose&#x27;: False}, &#x27;fit_configs&#x27;: {}, &#x27;predict_configs&#x27;: {}}       </td></tr>\n",
       "<tr><td style=\"text-align: right;\"> 4</td><td>multi_step_model  </td><td>multi_step_model_1       </td><td>{&#x27;init_configs&#x27;: {&#x27;verbose&#x27;: -1}, &#x27;fit_configs&#x27;: {}, &#x27;predict_configs&#x27;: {}}                                                                                      </td></tr>\n",
       "</tbody>\n",
       "</table>"
      ],
      "text/plain": [
       "'<table>\\n<thead>\\n<tr><th style=\"text-align: right;\">  </th><th>model_name        </th><th>model_name_after_rename  </th><th>model_configs                                                                                                                                                    </th></tr>\\n</thead>\\n<tbody>\\n<tr><td style=\"text-align: right;\"> 0</td><td>lightgbm          </td><td>lightgbm_linear_tree     </td><td>{&#x27;init_configs&#x27;: {&#x27;verbose&#x27;: -1, &#x27;linear_tree&#x27;: True}, &#x27;fit_configs&#x27;: {}, &#x27;predict_configs&#x27;: {}}                                                                 </td></tr>\\n<tr><td style=\"text-align: right;\"> 1</td><td>multi_output_model</td><td>multi_output_model_1     </td><td>{&#x27;init_configs&#x27;: {&#x27;verbose&#x27;: -1}, &#x27;fit_configs&#x27;: {}, &#x27;predict_configs&#x27;: {}}                                                                                      </td></tr>\\n<tr><td style=\"text-align: right;\"> 2</td><td>multi_output_model</td><td>multi_output_model_2     </td><td>{&#x27;init_configs&#x27;: {&#x27;estimator&#x27;: &lt;class &#x27;xgboost.sklearn.XGBRegressor&#x27;&gt;, &#x27;random_state&#x27;: 42, &#x27;kwargs&#x27;: {&#x27;verbosity&#x27;: 0}}, &#x27;fit_configs&#x27;: {}, &#x27;predict_configs&#x27;: {}}</td></tr>\\n<tr><td style=\"text-align: right;\"> 3</td><td>multi_output_model</td><td>multi_output_model_3     </td><td>{&#x27;init_configs&#x27;: {&#x27;estimator&#x27;: &lt;class &#x27;catboost.core.CatBoostRegressor&#x27;&gt;, &#x27;random_state&#x27;: 42, &#x27;verbose&#x27;: False}, &#x27;fit_configs&#x27;: {}, &#x27;predict_configs&#x27;: {}}       </td></tr>\\n<tr><td style=\"text-align: right;\"> 4</td><td>multi_step_model  </td><td>multi_step_model_1       </td><td>{&#x27;init_configs&#x27;: {&#x27;verbose&#x27;: -1}, &#x27;fit_configs&#x27;: {}, &#x27;predict_configs&#x27;: {}}                                                                                      </td></tr>\\n</tbody>\\n</table>'"
      ]
     },
     "metadata": {},
     "output_type": "display_data"
    }
   ],
   "source": [
    "# If you want to try multiple configurations of a model at once for comparison or tuning purposes, you can use `PipelineConfigs`.\n",
    "# This feature allows for customizing the models returned by each `ModelPipeline.list_all_available_models()` call.\n",
    "# The first one is the name of the model, which needs to be in the list of available models provided by PipelineTS.list_all_available_models(). \n",
    "# If you want to customize the name of the model, then the second argument can be a string of the model name, \n",
    "# otherwise, the second one is of type dict. The dict can have three keys: 'init_configs', 'fit_configs', 'predict_configs', or any combination of them. \n",
    "# The remaining keys will be automatically filled with default parameters.\n",
    "# Among them, 'init_configs' represents the initialization parameters of the model, 'fit_configs' represents the parameters during model training, \n",
    "# and 'predict_configs' represents the parameters during model prediction.\n",
    "\n",
    "from xgboost import XGBRegressor\n",
    "from catboost import CatBoostRegressor\n",
    "\n",
    "pipeline_configs = PipelineConfigs([\n",
    "    ('lightgbm', 'lightgbm_linear_tree', {'init_configs': {'verbose': -1, 'linear_tree': True}}),\n",
    "    ('multi_output_model', {'init_configs': {'verbose': -1}}),\n",
    "    ('multi_step_model', {'init_configs': {'verbose': -1}}),\n",
    "    ('multi_output_model', {\n",
    "        'init_configs': {'estimator': XGBRegressor, 'random_state': 42, 'kwargs': {'verbosity': 0}}\n",
    "    }\n",
    "     ),\n",
    "    ('multi_output_model', {\n",
    "        'init_configs': {'estimator': CatBoostRegressor, 'random_state': 42, 'verbose': False}\n",
    "    }\n",
    "     ),\n",
    "])"
   ]
  },
  {
   "cell_type": "code",
   "execution_count": 10,
   "id": "62b6d3a8d4030663",
   "metadata": {
    "ExecuteTime": {
     "end_time": "2023-10-09T03:52:01.803384Z",
     "start_time": "2023-10-09T03:52:01.801458Z"
    },
    "execution": {
     "iopub.execute_input": "2023-11-02T07:57:03.059261Z",
     "iopub.status.busy": "2023-11-02T07:57:03.059180Z",
     "iopub.status.idle": "2023-11-02T07:57:03.072438Z",
     "shell.execute_reply": "2023-11-02T07:57:03.072143Z",
     "shell.execute_reply.started": "2023-11-02T07:57:03.059253Z"
    }
   },
   "outputs": [],
   "source": [
    "from sklearn.metrics import mean_absolute_error\n",
    "pipeline = ModelPipeline(\n",
    "    time_col=time_col, \n",
    "    target_col=target_col, \n",
    "    lags=lags, \n",
    "    random_state=42, \n",
    "    metric=mean_absolute_error, \n",
    "    metric_less_is_better=True,\n",
    "    # configs=pipeline_configs, # default to None, it means use the default configs of the model\n",
    "    include_init_config_model=False,\n",
    "    use_standard_scale=None,  # False for MinMaxScaler, True for StandardScaler, None means no data be scaled\n",
    "    include_models='all', # it can be one of the strings ‘light’, ‘all’, ‘nn’, or ‘ml’, or it is of type None or a list. Default to 'light'\n",
    "    # include_models=['d_linear', 'random_forest', 'n_linear', 'n_beats'],  # specifying the model used\n",
    "    # exclude_models=['catboost', 'tcn', 'transformer'],  # exclude specified models\n",
    "    accelerator=accelerator,\n",
    "    # Now we can directly input the \"modelname__'init_params'\" parameter to instantiate the models in ModelPipeline.\n",
    "    # Note that it is double underline. \n",
    "    # When it is duplicated with the ModelPipeline class keyword parameter, the ModelPipeline clas keyword parameter is ignored\n",
    "    # such as :\n",
    "    # d_linear__lags=50,\n",
    "    # n_linear__random_state=1024,\n",
    "    # n_beats__num_blocks=3,\n",
    "    # random_forest__n_estimators=200\n",
    ")"
   ]
  },
  {
   "cell_type": "code",
   "execution_count": null,
   "id": "15c66df9-d748-457a-a067-3a7773437fe3",
   "metadata": {
    "execution": {
     "iopub.execute_input": "2023-11-02T07:57:03.073025Z",
     "iopub.status.busy": "2023-11-02T07:57:03.072902Z"
    }
   },
   "outputs": [
    {
     "name": "stderr",
     "output_type": "stream",
     "text": [
      "MPS  available: True   | MPS  use: True\n",
      "CUDA available: False  | CUDA use: False\n",
      "TPU  available: False  | TPU  use: False\n",
      "CPU  available: True   | CPU  use: False\n",
      "\n",
      "15:57:03 2023-11-02 - PipelineTS - There are a total of 21 models to be trained.\n",
      "15:57:03 2023-11-02 - PipelineTS - [model  0] fitting and evaluating auto_arima...\n",
      "15:57:25 2023-11-02 - PipelineTS - [model  1] fitting and evaluating catboost...\n",
      "15:59:26 2023-11-02 - PipelineTS - [model  2] fitting and evaluating d_linear...\n",
      "15:59:45 2023-11-02 - PipelineTS - [model  3] fitting and evaluating gau...\n",
      "16:00:30 2023-11-02 - PipelineTS - [model  4] fitting and evaluating lightgbm...\n",
      "16:00:54 2023-11-02 - PipelineTS - [model  5] fitting and evaluating multi_output_model...\n",
      "16:01:14 2023-11-02 - PipelineTS - [model  6] fitting and evaluating multi_step_model...\n",
      "16:01:23 2023-11-02 - PipelineTS - [model  7] fitting and evaluating n_beats...\n",
      "16:01:55 2023-11-02 - PipelineTS - [model  8] fitting and evaluating n_hits...\n",
      "16:02:16 2023-11-02 - PipelineTS - [model  9] fitting and evaluating n_linear...\n",
      "16:02:33 2023-11-02 - PipelineTS - [model 10] fitting and evaluating prophet...\n",
      "16:02:43 2023-11-02 - PipelineTS - [model 11] fitting and evaluating random_forest...\n",
      "16:02:55 2023-11-02 - PipelineTS - [model 12] fitting and evaluating seg_rnn...\n",
      "16:03:14 2023-11-02 - PipelineTS - [model 13] fitting and evaluating stacking_rnn...\n",
      "16:03:52 2023-11-02 - PipelineTS - [model 14] fitting and evaluating tcn...\n",
      "16:04:21 2023-11-02 - PipelineTS - [model 15] fitting and evaluating tft...\n",
      "16:05:31 2023-11-02 - PipelineTS - [model 16] fitting and evaluating tide...\n",
      "16:06:05 2023-11-02 - PipelineTS - [model 17] fitting and evaluating time2vec...\n"
     ]
    }
   ],
   "source": [
    "pipeline.fit(data, valid_data=valid_data)"
   ]
  },
  {
   "cell_type": "code",
   "execution_count": null,
   "id": "2524a3a2-41a3-41c1-ae3a-e5eb27472ba2",
   "metadata": {},
   "outputs": [],
   "source": [
    "prediction = pipeline.predict(n)\n",
    "\n",
    "plot_data_period(init_data.iloc[-200:, :], prediction, \n",
    "                 time_col=time_col, target_col=target_col)"
   ]
  },
  {
   "cell_type": "code",
   "execution_count": null,
   "id": "231443e8-327b-4dca-8ae4-bb654e9f9f73",
   "metadata": {},
   "outputs": [],
   "source": [
    "# Gets all configurations for the specified model， default to best model\n",
    "pipeline.get_model_all_configs()"
   ]
  },
  {
   "cell_type": "markdown",
   "id": "21ea8a82-3b7e-4293-b22b-929fa5a9a513",
   "metadata": {},
   "source": [
    "## Model saving and reloading"
   ]
  },
  {
   "cell_type": "code",
   "execution_count": null,
   "id": "aa679d3a-3354-4c82-852f-db5c0fddef00",
   "metadata": {},
   "outputs": [],
   "source": [
    "from PipelineTS.io import *"
   ]
  },
  {
   "cell_type": "code",
   "execution_count": null,
   "id": "8717fe6f-90d6-4c2d-ae5b-23b7ab221bed",
   "metadata": {},
   "outputs": [],
   "source": [
    "save_model('pipeline.zip', pipeline)\n",
    "pipeline2 = load_model('pipeline.zip')"
   ]
  },
  {
   "cell_type": "code",
   "execution_count": null,
   "id": "4c3ebaf9-1277-4441-b72d-b296d670188b",
   "metadata": {},
   "outputs": [],
   "source": [
    "pipeline2.best_model_"
   ]
  },
  {
   "cell_type": "code",
   "execution_count": null,
   "id": "bc2bd230-c5df-4174-bd9b-411fe9c55252",
   "metadata": {},
   "outputs": [],
   "source": [
    "# Gets all configurations for the specified model， default to best model\n",
    "pipeline2.get_model_all_configs()"
   ]
  },
  {
   "cell_type": "code",
   "execution_count": null,
   "id": "3a39b3d6-b0ce-4a75-bb8a-e20f68dd164a",
   "metadata": {},
   "outputs": [],
   "source": [
    "prediction = pipeline2.predict(n)\n",
    "\n",
    "plot_data_period(init_data.iloc[-200:, :], prediction, \n",
    "                 time_col=time_col, target_col=target_col)"
   ]
  },
  {
   "cell_type": "code",
   "execution_count": null,
   "id": "5c47c199-d6c8-4a92-bc50-18152bcedb8e",
   "metadata": {},
   "outputs": [],
   "source": []
  }
 ],
 "metadata": {
  "hide_input": false,
  "kernelspec": {
   "display_name": "Python 3 (ipykernel)",
   "language": "python",
   "name": "python3"
  },
  "language_info": {
   "codemirror_mode": {
    "name": "ipython",
    "version": 3
   },
   "file_extension": ".py",
   "mimetype": "text/x-python",
   "name": "python",
   "nbconvert_exporter": "python",
   "pygments_lexer": "ipython3",
   "version": "3.11.5"
  }
 },
 "nbformat": 4,
 "nbformat_minor": 5
}

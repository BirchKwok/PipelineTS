{
 "cells": [
  {
   "cell_type": "code",
   "execution_count": 1,
   "id": "2e3d3f66-b4b5-4ae1-ae38-4d9799fbf81a",
   "metadata": {
    "execution": {
     "iopub.execute_input": "2023-11-20T07:51:01.692599Z",
     "iopub.status.busy": "2023-11-20T07:51:01.692354Z",
     "iopub.status.idle": "2023-11-20T07:51:01.702796Z",
     "shell.execute_reply": "2023-11-20T07:51:01.702428Z",
     "shell.execute_reply.started": "2023-11-20T07:51:01.692583Z"
    }
   },
   "outputs": [
    {
     "data": {
      "text/plain": [
       "'0.3.10'"
      ]
     },
     "execution_count": 1,
     "metadata": {},
     "output_type": "execute_result"
    }
   ],
   "source": [
    "import sys\n",
    "sys.path.insert(0, '..')\n",
    "\n",
    "import PipelineTS\n",
    "PipelineTS.__version__"
   ]
  },
  {
   "cell_type": "markdown",
   "id": "191c07ff-d1bc-4f38-a2aa-38471c147d9c",
   "metadata": {},
   "source": [
    "# Using Optuna"
   ]
  },
  {
   "cell_type": "code",
   "execution_count": 2,
   "id": "0854f6ca-f994-40f2-84da-74be0c635648",
   "metadata": {
    "execution": {
     "iopub.execute_input": "2023-11-20T07:51:01.704899Z",
     "iopub.status.busy": "2023-11-20T07:51:01.704712Z",
     "iopub.status.idle": "2023-11-20T07:51:04.840633Z",
     "shell.execute_reply": "2023-11-20T07:51:04.840365Z",
     "shell.execute_reply.started": "2023-11-20T07:51:01.704884Z"
    }
   },
   "outputs": [],
   "source": [
    "import pandas as pd\n",
    "\n",
    "# define optimization target\n",
    "from sklearn.metrics import mean_absolute_error\n",
    "evaluation_metric = mean_absolute_error\n",
    "\n",
    "# preprocess data\n",
    "from PipelineTS.dataset import LoadMessagesSentDataSets\n",
    "init_data = LoadMessagesSentDataSets()\n",
    "time_col = init_data.time_col\n",
    "target_col = init_data.target_col\n",
    "\n",
    "init_data[time_col] = pd.to_datetime(init_data[time_col])\n",
    "\n",
    "# dividing the training set and the validation set\n",
    "valid_data = init_data[[time_col, target_col]].iloc[-30:, :]\n",
    "data = init_data[[time_col, target_col]].iloc[:-30, :]\n",
    "\n",
    "# set the computing device, which will specify the computing device for the neural network model\n",
    "# default to 'auto'\n",
    "accelerator = 'auto'  \n",
    "\n",
    "# set the step size for prediction\n",
    "n = 30\n",
    "\n",
    "from PipelineTS.pipeline import ModelPipeline"
   ]
  },
  {
   "cell_type": "code",
   "execution_count": 5,
   "id": "c573941a-5f0b-4db0-851f-4671d8b83397",
   "metadata": {
    "execution": {
     "iopub.execute_input": "2023-11-20T07:55:08.355435Z",
     "iopub.status.busy": "2023-11-20T07:55:08.355130Z",
     "iopub.status.idle": "2023-11-20T08:04:42.781073Z",
     "shell.execute_reply": "2023-11-20T08:04:42.780859Z",
     "shell.execute_reply.started": "2023-11-20T07:55:08.355415Z"
    }
   },
   "outputs": [
    {
     "name": "stderr",
     "output_type": "stream",
     "text": [
      "[I 2023-11-20 15:55:08,359] A new study created in memory with name: no-name-e576220a-9e24-436a-8806-bdf9e211e215\n",
      "MPS  available: True   | MPS  use: True\n",
      "CUDA available: False  | CUDA use: False\n",
      "TPU  available: False  | TPU  use: False\n",
      "CPU  available: True   | CPU  use: False\n",
      "\n",
      "15:55:08 2023-11-20 - PipelineTS - There are a total of 1 models to be trained.\n",
      "15:55:08 2023-11-20 - PipelineTS - [model 0] fitting and evaluating StackingRNNModel...\n",
      "[I 2023-11-20 15:55:39,360] Trial 0 finished with value: 13793.19880609562 and parameters: {'lags': 26}. Best is trial 0 with value: 13793.19880609562.\n",
      "MPS  available: True   | MPS  use: True\n",
      "CUDA available: False  | CUDA use: False\n",
      "TPU  available: False  | TPU  use: False\n",
      "CPU  available: True   | CPU  use: False\n",
      "\n",
      "15:55:39 2023-11-20 - PipelineTS - There are a total of 1 models to be trained.\n",
      "15:55:39 2023-11-20 - PipelineTS - [model 0] fitting and evaluating StackingRNNModel...\n",
      "[I 2023-11-20 15:56:09,918] Trial 1 finished with value: 7217.621660822133 and parameters: {'lags': 44}. Best is trial 1 with value: 7217.621660822133.\n",
      "MPS  available: True   | MPS  use: True\n",
      "CUDA available: False  | CUDA use: False\n",
      "TPU  available: False  | TPU  use: False\n",
      "CPU  available: True   | CPU  use: False\n",
      "\n",
      "15:56:10 2023-11-20 - PipelineTS - There are a total of 1 models to be trained.\n",
      "15:56:10 2023-11-20 - PipelineTS - [model 0] fitting and evaluating StackingRNNModel...\n",
      "[I 2023-11-20 15:56:40,450] Trial 2 finished with value: 10981.369632642467 and parameters: {'lags': 52}. Best is trial 1 with value: 7217.621660822133.\n",
      "MPS  available: True   | MPS  use: True\n",
      "CUDA available: False  | CUDA use: False\n",
      "TPU  available: False  | TPU  use: False\n",
      "CPU  available: True   | CPU  use: False\n",
      "\n",
      "15:56:40 2023-11-20 - PipelineTS - There are a total of 1 models to be trained.\n",
      "15:56:40 2023-11-20 - PipelineTS - [model 0] fitting and evaluating StackingRNNModel...\n",
      "[I 2023-11-20 15:57:07,217] Trial 3 finished with value: 15382.221200084687 and parameters: {'lags': 42}. Best is trial 1 with value: 7217.621660822133.\n",
      "MPS  available: True   | MPS  use: True\n",
      "CUDA available: False  | CUDA use: False\n",
      "TPU  available: False  | TPU  use: False\n",
      "CPU  available: True   | CPU  use: False\n",
      "\n",
      "15:57:07 2023-11-20 - PipelineTS - There are a total of 1 models to be trained.\n",
      "15:57:07 2023-11-20 - PipelineTS - [model 0] fitting and evaluating StackingRNNModel...\n",
      "[I 2023-11-20 15:57:37,692] Trial 4 finished with value: 4787.490543701748 and parameters: {'lags': 50}. Best is trial 4 with value: 4787.490543701748.\n",
      "MPS  available: True   | MPS  use: True\n",
      "CUDA available: False  | CUDA use: False\n",
      "TPU  available: False  | TPU  use: False\n",
      "CPU  available: True   | CPU  use: False\n",
      "\n",
      "15:57:38 2023-11-20 - PipelineTS - There are a total of 1 models to be trained.\n",
      "15:57:38 2023-11-20 - PipelineTS - [model 0] fitting and evaluating StackingRNNModel...\n",
      "[I 2023-11-20 15:58:08,395] Trial 5 finished with value: 7958.143257661164 and parameters: {'lags': 18}. Best is trial 4 with value: 4787.490543701748.\n",
      "MPS  available: True   | MPS  use: True\n",
      "CUDA available: False  | CUDA use: False\n",
      "TPU  available: False  | TPU  use: False\n",
      "CPU  available: True   | CPU  use: False\n",
      "\n",
      "15:58:08 2023-11-20 - PipelineTS - There are a total of 1 models to be trained.\n",
      "15:58:08 2023-11-20 - PipelineTS - [model 0] fitting and evaluating StackingRNNModel...\n",
      "[I 2023-11-20 15:58:38,897] Trial 6 finished with value: 3512.582296315084 and parameters: {'lags': 46}. Best is trial 6 with value: 3512.582296315084.\n",
      "MPS  available: True   | MPS  use: True\n",
      "CUDA available: False  | CUDA use: False\n",
      "TPU  available: False  | TPU  use: False\n",
      "CPU  available: True   | CPU  use: False\n",
      "\n",
      "15:58:39 2023-11-20 - PipelineTS - There are a total of 1 models to be trained.\n",
      "15:58:39 2023-11-20 - PipelineTS - [model 0] fitting and evaluating StackingRNNModel...\n",
      "[I 2023-11-20 15:58:56,564] Trial 7 finished with value: 26867.992219573258 and parameters: {'lags': 60}. Best is trial 6 with value: 3512.582296315084.\n",
      "MPS  available: True   | MPS  use: True\n",
      "CUDA available: False  | CUDA use: False\n",
      "TPU  available: False  | TPU  use: False\n",
      "CPU  available: True   | CPU  use: False\n",
      "\n",
      "15:58:57 2023-11-20 - PipelineTS - There are a total of 1 models to be trained.\n",
      "15:58:57 2023-11-20 - PipelineTS - [model 0] fitting and evaluating StackingRNNModel...\n",
      "[I 2023-11-20 15:59:26,940] Trial 8 finished with value: 4787.490543701748 and parameters: {'lags': 50}. Best is trial 6 with value: 3512.582296315084.\n",
      "MPS  available: True   | MPS  use: True\n",
      "CUDA available: False  | CUDA use: False\n",
      "TPU  available: False  | TPU  use: False\n",
      "CPU  available: True   | CPU  use: False\n",
      "\n",
      "15:59:27 2023-11-20 - PipelineTS - There are a total of 1 models to be trained.\n",
      "15:59:27 2023-11-20 - PipelineTS - [model 0] fitting and evaluating StackingRNNModel...\n",
      "[I 2023-11-20 15:59:57,576] Trial 9 finished with value: 3483.5307484482723 and parameters: {'lags': 56}. Best is trial 9 with value: 3483.5307484482723.\n",
      "MPS  available: True   | MPS  use: True\n",
      "CUDA available: False  | CUDA use: False\n",
      "TPU  available: False  | TPU  use: False\n",
      "CPU  available: True   | CPU  use: False\n",
      "\n",
      "15:59:58 2023-11-20 - PipelineTS - There are a total of 1 models to be trained.\n",
      "15:59:58 2023-11-20 - PipelineTS - [model 0] fitting and evaluating StackingRNNModel...\n",
      "[I 2023-11-20 16:00:28,944] Trial 10 finished with value: 15385.691539682944 and parameters: {'lags': 8}. Best is trial 9 with value: 3483.5307484482723.\n",
      "MPS  available: True   | MPS  use: True\n",
      "CUDA available: False  | CUDA use: False\n",
      "TPU  available: False  | TPU  use: False\n",
      "CPU  available: True   | CPU  use: False\n",
      "\n",
      "16:00:29 2023-11-20 - PipelineTS - There are a total of 1 models to be trained.\n",
      "16:00:29 2023-11-20 - PipelineTS - [model 0] fitting and evaluating StackingRNNModel...\n",
      "[I 2023-11-20 16:00:46,530] Trial 11 finished with value: 26867.992219573258 and parameters: {'lags': 60}. Best is trial 9 with value: 3483.5307484482723.\n",
      "MPS  available: True   | MPS  use: True\n",
      "CUDA available: False  | CUDA use: False\n",
      "TPU  available: False  | TPU  use: False\n",
      "CPU  available: True   | CPU  use: False\n",
      "\n",
      "16:00:47 2023-11-20 - PipelineTS - There are a total of 1 models to be trained.\n",
      "16:00:47 2023-11-20 - PipelineTS - [model 0] fitting and evaluating StackingRNNModel...\n",
      "[I 2023-11-20 16:01:17,334] Trial 12 finished with value: 6776.712338292102 and parameters: {'lags': 36}. Best is trial 9 with value: 3483.5307484482723.\n",
      "MPS  available: True   | MPS  use: True\n",
      "CUDA available: False  | CUDA use: False\n",
      "TPU  available: False  | TPU  use: False\n",
      "CPU  available: True   | CPU  use: False\n",
      "\n",
      "16:01:17 2023-11-20 - PipelineTS - There are a total of 1 models to be trained.\n",
      "16:01:17 2023-11-20 - PipelineTS - [model 0] fitting and evaluating StackingRNNModel...\n",
      "[I 2023-11-20 16:01:48,775] Trial 13 finished with value: 13156.443744618196 and parameters: {'lags': 34}. Best is trial 9 with value: 3483.5307484482723.\n",
      "MPS  available: True   | MPS  use: True\n",
      "CUDA available: False  | CUDA use: False\n",
      "TPU  available: False  | TPU  use: False\n",
      "CPU  available: True   | CPU  use: False\n",
      "\n",
      "16:01:49 2023-11-20 - PipelineTS - There are a total of 1 models to be trained.\n",
      "16:01:49 2023-11-20 - PipelineTS - [model 0] fitting and evaluating StackingRNNModel...\n",
      "[I 2023-11-20 16:02:19,272] Trial 14 finished with value: 3483.5307484482723 and parameters: {'lags': 56}. Best is trial 9 with value: 3483.5307484482723.\n",
      "MPS  available: True   | MPS  use: True\n",
      "CUDA available: False  | CUDA use: False\n",
      "TPU  available: False  | TPU  use: False\n",
      "CPU  available: True   | CPU  use: False\n",
      "\n",
      "16:02:19 2023-11-20 - PipelineTS - There are a total of 1 models to be trained.\n",
      "16:02:19 2023-11-20 - PipelineTS - [model 0] fitting and evaluating StackingRNNModel...\n",
      "[I 2023-11-20 16:02:38,963] Trial 15 finished with value: 24402.927211797236 and parameters: {'lags': 54}. Best is trial 9 with value: 3483.5307484482723.\n",
      "MPS  available: True   | MPS  use: True\n",
      "CUDA available: False  | CUDA use: False\n",
      "TPU  available: False  | TPU  use: False\n",
      "CPU  available: True   | CPU  use: False\n",
      "\n",
      "16:02:39 2023-11-20 - PipelineTS - There are a total of 1 models to be trained.\n",
      "16:02:39 2023-11-20 - PipelineTS - [model 0] fitting and evaluating StackingRNNModel...\n",
      "[I 2023-11-20 16:03:09,522] Trial 16 finished with value: 6776.712338292102 and parameters: {'lags': 36}. Best is trial 9 with value: 3483.5307484482723.\n",
      "MPS  available: True   | MPS  use: True\n",
      "CUDA available: False  | CUDA use: False\n",
      "TPU  available: False  | TPU  use: False\n",
      "CPU  available: True   | CPU  use: False\n",
      "\n",
      "16:03:10 2023-11-20 - PipelineTS - There are a total of 1 models to be trained.\n",
      "16:03:10 2023-11-20 - PipelineTS - [model 0] fitting and evaluating StackingRNNModel...\n",
      "[I 2023-11-20 16:03:39,893] Trial 17 finished with value: 3483.5307484482723 and parameters: {'lags': 56}. Best is trial 9 with value: 3483.5307484482723.\n",
      "MPS  available: True   | MPS  use: True\n",
      "CUDA available: False  | CUDA use: False\n",
      "TPU  available: False  | TPU  use: False\n",
      "CPU  available: True   | CPU  use: False\n",
      "\n",
      "16:03:40 2023-11-20 - PipelineTS - There are a total of 1 models to be trained.\n",
      "16:03:40 2023-11-20 - PipelineTS - [model 0] fitting and evaluating StackingRNNModel...\n",
      "[I 2023-11-20 16:04:11,600] Trial 18 finished with value: 13793.19880609562 and parameters: {'lags': 26}. Best is trial 9 with value: 3483.5307484482723.\n",
      "MPS  available: True   | MPS  use: True\n",
      "CUDA available: False  | CUDA use: False\n",
      "TPU  available: False  | TPU  use: False\n",
      "CPU  available: True   | CPU  use: False\n",
      "\n",
      "16:04:12 2023-11-20 - PipelineTS - There are a total of 1 models to be trained.\n",
      "16:04:12 2023-11-20 - PipelineTS - [model 0] fitting and evaluating StackingRNNModel...\n",
      "[I 2023-11-20 16:04:42,779] Trial 19 finished with value: 10174.910976926485 and parameters: {'lags': 40}. Best is trial 9 with value: 3483.5307484482723.\n"
     ]
    }
   ],
   "source": [
    "import optuna\n",
    "from PipelineTS.nn_model import StackingRNNModel\n",
    "\n",
    "# The objective function is referenced from https://optuna.org/#code_ScikitLearn\n",
    "# 1. Define an objective function to be maximized.\n",
    "def objective(trial):\n",
    "\n",
    "    # 2. Suggest values for the hyperparameters using a trial object.\n",
    "    lags = trial.suggest_int('lags', 8, 60, step=2)\n",
    "    # kernel_size = trial.suggest_int('kernel_size', 2, 5, log=True)\n",
    "    # dropout = trial.suggest_float('dropout', 0.1, 0.5, log=True)\n",
    "\n",
    "    pipeline = ModelPipeline(\n",
    "        time_col=time_col,\n",
    "        target_col=target_col,\n",
    "        lags=lags,  \n",
    "        random_state=42,\n",
    "        include_models=StackingRNNModel,\n",
    "        # Specify the performance evaluation criteria when training the model with the pipeline. The default is mean absolute error.\n",
    "        metric=evaluation_metric,\n",
    "        # Is it better to have a lower performance evaluation standard\n",
    "        metric_less_is_better=True,\n",
    "        # set the computing device, which will specify the computing device for the neural network model\n",
    "        accelerator=accelerator,\n",
    "        \n",
    "        # False for MinMaxScaler, True for QuantileTransformer, None means no data be scaled\n",
    "        scaler=False,\n",
    "\n",
    "        # Here's an example where you can specify model hyperparameters like this\n",
    "        # TCNModel__kernel_size=kernel_size,\n",
    "        # TCNModel__dropout=dropout\n",
    "    )\n",
    "\n",
    "    pipeline.fit(data, valid_data=valid_data)\n",
    "\n",
    "    return evaluation_metric(pipeline.predict(n)[target_col].values, valid_data[target_col].values)\n",
    "\n",
    "# 3. Create a study object and optimize the objective function.\n",
    "study = optuna.create_study(direction='minimize')\n",
    "study.optimize(objective, n_trials=20)"
   ]
  },
  {
   "cell_type": "code",
   "execution_count": 6,
   "id": "e625f397-f69b-4e43-9838-ad5bbffd587e",
   "metadata": {
    "execution": {
     "iopub.execute_input": "2023-11-20T08:06:37.457603Z",
     "iopub.status.busy": "2023-11-20T08:06:37.456848Z",
     "iopub.status.idle": "2023-11-20T08:06:37.469323Z",
     "shell.execute_reply": "2023-11-20T08:06:37.468314Z",
     "shell.execute_reply.started": "2023-11-20T08:06:37.457556Z"
    }
   },
   "outputs": [
    {
     "data": {
      "text/plain": [
       "{'lags': 56}"
      ]
     },
     "execution_count": 6,
     "metadata": {},
     "output_type": "execute_result"
    }
   ],
   "source": [
    "study.best_trial.params"
   ]
  },
  {
   "cell_type": "code",
   "execution_count": 7,
   "id": "b712601f-0e06-497b-81e3-9f5c3754187c",
   "metadata": {
    "execution": {
     "iopub.execute_input": "2023-11-20T08:06:58.472213Z",
     "iopub.status.busy": "2023-11-20T08:06:58.470857Z",
     "iopub.status.idle": "2023-11-20T08:07:29.475812Z",
     "shell.execute_reply": "2023-11-20T08:07:29.474959Z",
     "shell.execute_reply.started": "2023-11-20T08:06:58.472168Z"
    }
   },
   "outputs": [
    {
     "name": "stderr",
     "output_type": "stream",
     "text": [
      "MPS  available: True   | MPS  use: True\n",
      "CUDA available: False  | CUDA use: False\n",
      "TPU  available: False  | TPU  use: False\n",
      "CPU  available: True   | CPU  use: False\n",
      "\n",
      "16:06:59 2023-11-20 - PipelineTS - There are a total of 1 models to be trained.\n",
      "16:06:59 2023-11-20 - PipelineTS - [model 0] fitting and evaluating StackingRNNModel...\n"
     ]
    },
    {
     "name": "stdout",
     "output_type": "stream",
     "text": [
      "mae: 3483.5307484482723\n"
     ]
    },
    {
     "data": {
      "image/png": "[encoded data removed]",
      "text/plain": [
       "<Figure size 640x480 with 1 Axes>"
      ]
     },
     "metadata": {},
     "output_type": "display_data"
    }
   ],
   "source": [
    "from PipelineTS.nn_model import StackingRNNModel\n",
    "\n",
    "pipeline = ModelPipeline(\n",
    "    time_col=time_col,\n",
    "    target_col=target_col,\n",
    "    lags=56,  \n",
    "    random_state=42,\n",
    "    include_models=StackingRNNModel,\n",
    "    # Specify the performance evaluation criteria when training the model with the pipeline. The default is mean absolute error.\n",
    "    metric=evaluation_metric,\n",
    "    # Is it better to have a lower performance evaluation standard\n",
    "    metric_less_is_better=True,\n",
    "    # set the computing device, which will specify the computing device for the neural network model\n",
    "    accelerator=accelerator,\n",
    "    \n",
    "    # False for MinMaxScaler, True for QuantileTransformer, None means no data be scaled\n",
    "    scaler=False,\n",
    "\n",
    "    # TCNModel__kernel_size=5,\n",
    "    # TCNModel__dropout=0.3075180431196903\n",
    ")\n",
    "\n",
    "pipeline.fit(data)\n",
    "\n",
    "\n",
    "prediction = pipeline.predict(n)  \n",
    "\n",
    "print('mae:', evaluation_metric(prediction[target_col].values, valid_data[target_col].values))\n",
    "\n",
    "from PipelineTS.plot import plot_data_period\n",
    "\n",
    "plot_data_period(init_data.iloc[-100:, :], prediction, \n",
    "                 time_col=time_col, target_col=target_col)"
   ]
  },
  {
   "cell_type": "code",
   "execution_count": null,
   "id": "1725bdc0-c358-415f-936a-24825d8a1852",
   "metadata": {},
   "outputs": [],
   "source": []
  },
  {
   "cell_type": "code",
   "execution_count": null,
   "id": "c319e28e-6960-43c7-9dcc-5aa68a953d89",
   "metadata": {},
   "outputs": [],
   "source": []
  },
  {
   "cell_type": "code",
   "execution_count": null,
   "id": "5c6a0a82-f9e8-469f-8c91-5a7f982d20e2",
   "metadata": {},
   "outputs": [],
   "source": []
  },
  {
   "cell_type": "code",
   "execution_count": null,
   "id": "a7fbddd6-6b55-4dcd-a7fe-52e8dad513e3",
   "metadata": {},
   "outputs": [],
   "source": []
  },
  {
   "cell_type": "code",
   "execution_count": null,
   "id": "3ea132ae-2e02-4f0b-b968-e7c33d662f91",
   "metadata": {},
   "outputs": [],
   "source": []
  },
  {
   "cell_type": "code",
   "execution_count": null,
   "id": "f3fbc401-ffe1-4b3d-aa86-5b71edf8b0b3",
   "metadata": {},
   "outputs": [],
   "source": []
  }
 ],
 "metadata": {
  "kernelspec": {
   "display_name": "Python 3 (ipykernel)",
   "language": "python",
   "name": "python3"
  },
  "language_info": {
   "codemirror_mode": {
    "name": "ipython",
    "version": 3
   },
   "file_extension": ".py",
   "mimetype": "text/x-python",
   "name": "python",
   "nbconvert_exporter": "python",
   "pygments_lexer": "ipython3",
   "version": "3.11.5"
  }
 },
 "nbformat": 4,
 "nbformat_minor": 5
}
